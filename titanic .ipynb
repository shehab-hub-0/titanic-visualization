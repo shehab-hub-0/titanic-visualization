{
 "cells": [
  {
   "cell_type": "code",
   "execution_count": 1,
   "id": "f5911984",
   "metadata": {
    "execution": {
     "iopub.execute_input": "2021-10-30T01:25:32.014791Z",
     "iopub.status.busy": "2021-10-30T01:25:32.013981Z",
     "iopub.status.idle": "2021-10-30T01:25:33.050113Z",
     "shell.execute_reply": "2021-10-30T01:25:33.049486Z",
     "shell.execute_reply.started": "2021-10-30T01:24:13.058590Z"
    },
    "papermill": {
     "duration": 1.112448,
     "end_time": "2021-10-30T01:25:33.050279",
     "exception": false,
     "start_time": "2021-10-30T01:25:31.937831",
     "status": "completed"
    },
    "tags": []
   },
   "outputs": [],
   "source": [
    "#inputs\n",
    "\n",
    "from matplotlib import pyplot as plt\n",
    "# import scikitplot as skplt\n",
    "\n",
    "import pandas as pd\n",
    "import numpy as np\n",
    "\n",
    "from matplotlib import pyplot as plt\n",
    "\n",
    "\n",
    "from collections import Counter\n",
    "\n",
    "\n",
    "#first test submission\n",
    "from sklearn.ensemble import RandomForestClassifier\n",
    "from sklearn.metrics import confusion_matrix, roc_curve, roc_auc_score, plot_confusion_matrix, classification_report\n",
    "from sklearn.model_selection import train_test_split"
   ]
  },
  {
   "cell_type": "code",
   "execution_count": 2,
   "id": "b1040b1c",
   "metadata": {
    "execution": {
     "iopub.execute_input": "2021-10-30T01:25:33.178604Z",
     "iopub.status.busy": "2021-10-30T01:25:33.177546Z",
     "iopub.status.idle": "2021-10-30T01:25:33.179537Z",
     "shell.execute_reply": "2021-10-30T01:25:33.180009Z",
     "shell.execute_reply.started": "2021-10-30T01:24:14.174808Z"
    },
    "papermill": {
     "duration": 0.067795,
     "end_time": "2021-10-30T01:25:33.180147",
     "exception": false,
     "start_time": "2021-10-30T01:25:33.112352",
     "status": "completed"
    },
    "tags": []
   },
   "outputs": [],
   "source": [
    "#DEFINE CONSTANTS\n",
    "SHOW_DATA = 15                # how many data will be show\n",
    "PERCISION = 5                # how many digits will be show: 2.123352135\n",
    "\n",
    "def cm_to_inch(value):\n",
    "    return value/2.54\n",
    "\n",
    "plt.rcParams[\"figure.figsize\"]=(cm_to_inch(15),cm_to_inch(10))"
   ]
  },
  {
   "cell_type": "code",
   "execution_count": 3,
   "id": "173e6933",
   "metadata": {
    "execution": {
     "iopub.execute_input": "2021-10-30T01:25:33.351818Z",
     "iopub.status.busy": "2021-10-30T01:25:33.351271Z",
     "iopub.status.idle": "2021-10-30T01:25:33.406166Z",
     "shell.execute_reply": "2021-10-30T01:25:33.406608Z",
     "shell.execute_reply.started": "2021-10-30T01:24:14.189292Z"
    },
    "papermill": {
     "duration": 0.119617,
     "end_time": "2021-10-30T01:25:33.406752",
     "exception": false,
     "start_time": "2021-10-30T01:25:33.287135",
     "status": "completed"
    },
    "tags": []
   },
   "outputs": [
    {
     "data": {
      "text/html": [
       "<div>\n",
       "<style scoped>\n",
       "    .dataframe tbody tr th:only-of-type {\n",
       "        vertical-align: middle;\n",
       "    }\n",
       "\n",
       "    .dataframe tbody tr th {\n",
       "        vertical-align: top;\n",
       "    }\n",
       "\n",
       "    .dataframe thead th {\n",
       "        text-align: right;\n",
       "    }\n",
       "</style>\n",
       "<table border=\"1\" class=\"dataframe\">\n",
       "  <thead>\n",
       "    <tr style=\"text-align: right;\">\n",
       "      <th></th>\n",
       "      <th>PassengerId</th>\n",
       "      <th>Survived</th>\n",
       "      <th>Pclass</th>\n",
       "      <th>Name</th>\n",
       "      <th>Sex</th>\n",
       "      <th>Age</th>\n",
       "      <th>SibSp</th>\n",
       "      <th>Parch</th>\n",
       "      <th>Ticket</th>\n",
       "      <th>Fare</th>\n",
       "      <th>Cabin</th>\n",
       "      <th>Embarked</th>\n",
       "    </tr>\n",
       "  </thead>\n",
       "  <tbody>\n",
       "    <tr>\n",
       "      <th>0</th>\n",
       "      <td>1</td>\n",
       "      <td>0</td>\n",
       "      <td>3</td>\n",
       "      <td>Braund, Mr. Owen Harris</td>\n",
       "      <td>male</td>\n",
       "      <td>22.0</td>\n",
       "      <td>1</td>\n",
       "      <td>0</td>\n",
       "      <td>A/5 21171</td>\n",
       "      <td>7.2500</td>\n",
       "      <td>NaN</td>\n",
       "      <td>S</td>\n",
       "    </tr>\n",
       "    <tr>\n",
       "      <th>1</th>\n",
       "      <td>2</td>\n",
       "      <td>1</td>\n",
       "      <td>1</td>\n",
       "      <td>Cumings, Mrs. John Bradley (Florence Briggs Th...</td>\n",
       "      <td>female</td>\n",
       "      <td>38.0</td>\n",
       "      <td>1</td>\n",
       "      <td>0</td>\n",
       "      <td>PC 17599</td>\n",
       "      <td>71.2833</td>\n",
       "      <td>C85</td>\n",
       "      <td>C</td>\n",
       "    </tr>\n",
       "    <tr>\n",
       "      <th>2</th>\n",
       "      <td>3</td>\n",
       "      <td>1</td>\n",
       "      <td>3</td>\n",
       "      <td>Heikkinen, Miss. Laina</td>\n",
       "      <td>female</td>\n",
       "      <td>26.0</td>\n",
       "      <td>0</td>\n",
       "      <td>0</td>\n",
       "      <td>STON/O2. 3101282</td>\n",
       "      <td>7.9250</td>\n",
       "      <td>NaN</td>\n",
       "      <td>S</td>\n",
       "    </tr>\n",
       "    <tr>\n",
       "      <th>3</th>\n",
       "      <td>4</td>\n",
       "      <td>1</td>\n",
       "      <td>1</td>\n",
       "      <td>Futrelle, Mrs. Jacques Heath (Lily May Peel)</td>\n",
       "      <td>female</td>\n",
       "      <td>35.0</td>\n",
       "      <td>1</td>\n",
       "      <td>0</td>\n",
       "      <td>113803</td>\n",
       "      <td>53.1000</td>\n",
       "      <td>C123</td>\n",
       "      <td>S</td>\n",
       "    </tr>\n",
       "    <tr>\n",
       "      <th>4</th>\n",
       "      <td>5</td>\n",
       "      <td>0</td>\n",
       "      <td>3</td>\n",
       "      <td>Allen, Mr. William Henry</td>\n",
       "      <td>male</td>\n",
       "      <td>35.0</td>\n",
       "      <td>0</td>\n",
       "      <td>0</td>\n",
       "      <td>373450</td>\n",
       "      <td>8.0500</td>\n",
       "      <td>NaN</td>\n",
       "      <td>S</td>\n",
       "    </tr>\n",
       "    <tr>\n",
       "      <th>5</th>\n",
       "      <td>6</td>\n",
       "      <td>0</td>\n",
       "      <td>3</td>\n",
       "      <td>Moran, Mr. James</td>\n",
       "      <td>male</td>\n",
       "      <td>NaN</td>\n",
       "      <td>0</td>\n",
       "      <td>0</td>\n",
       "      <td>330877</td>\n",
       "      <td>8.4583</td>\n",
       "      <td>NaN</td>\n",
       "      <td>Q</td>\n",
       "    </tr>\n",
       "    <tr>\n",
       "      <th>6</th>\n",
       "      <td>7</td>\n",
       "      <td>0</td>\n",
       "      <td>1</td>\n",
       "      <td>McCarthy, Mr. Timothy J</td>\n",
       "      <td>male</td>\n",
       "      <td>54.0</td>\n",
       "      <td>0</td>\n",
       "      <td>0</td>\n",
       "      <td>17463</td>\n",
       "      <td>51.8625</td>\n",
       "      <td>E46</td>\n",
       "      <td>S</td>\n",
       "    </tr>\n",
       "    <tr>\n",
       "      <th>7</th>\n",
       "      <td>8</td>\n",
       "      <td>0</td>\n",
       "      <td>3</td>\n",
       "      <td>Palsson, Master. Gosta Leonard</td>\n",
       "      <td>male</td>\n",
       "      <td>2.0</td>\n",
       "      <td>3</td>\n",
       "      <td>1</td>\n",
       "      <td>349909</td>\n",
       "      <td>21.0750</td>\n",
       "      <td>NaN</td>\n",
       "      <td>S</td>\n",
       "    </tr>\n",
       "    <tr>\n",
       "      <th>8</th>\n",
       "      <td>9</td>\n",
       "      <td>1</td>\n",
       "      <td>3</td>\n",
       "      <td>Johnson, Mrs. Oscar W (Elisabeth Vilhelmina Berg)</td>\n",
       "      <td>female</td>\n",
       "      <td>27.0</td>\n",
       "      <td>0</td>\n",
       "      <td>2</td>\n",
       "      <td>347742</td>\n",
       "      <td>11.1333</td>\n",
       "      <td>NaN</td>\n",
       "      <td>S</td>\n",
       "    </tr>\n",
       "    <tr>\n",
       "      <th>9</th>\n",
       "      <td>10</td>\n",
       "      <td>1</td>\n",
       "      <td>2</td>\n",
       "      <td>Nasser, Mrs. Nicholas (Adele Achem)</td>\n",
       "      <td>female</td>\n",
       "      <td>14.0</td>\n",
       "      <td>1</td>\n",
       "      <td>0</td>\n",
       "      <td>237736</td>\n",
       "      <td>30.0708</td>\n",
       "      <td>NaN</td>\n",
       "      <td>C</td>\n",
       "    </tr>\n",
       "    <tr>\n",
       "      <th>10</th>\n",
       "      <td>11</td>\n",
       "      <td>1</td>\n",
       "      <td>3</td>\n",
       "      <td>Sandstrom, Miss. Marguerite Rut</td>\n",
       "      <td>female</td>\n",
       "      <td>4.0</td>\n",
       "      <td>1</td>\n",
       "      <td>1</td>\n",
       "      <td>PP 9549</td>\n",
       "      <td>16.7000</td>\n",
       "      <td>G6</td>\n",
       "      <td>S</td>\n",
       "    </tr>\n",
       "    <tr>\n",
       "      <th>11</th>\n",
       "      <td>12</td>\n",
       "      <td>1</td>\n",
       "      <td>1</td>\n",
       "      <td>Bonnell, Miss. Elizabeth</td>\n",
       "      <td>female</td>\n",
       "      <td>58.0</td>\n",
       "      <td>0</td>\n",
       "      <td>0</td>\n",
       "      <td>113783</td>\n",
       "      <td>26.5500</td>\n",
       "      <td>C103</td>\n",
       "      <td>S</td>\n",
       "    </tr>\n",
       "    <tr>\n",
       "      <th>12</th>\n",
       "      <td>13</td>\n",
       "      <td>0</td>\n",
       "      <td>3</td>\n",
       "      <td>Saundercock, Mr. William Henry</td>\n",
       "      <td>male</td>\n",
       "      <td>20.0</td>\n",
       "      <td>0</td>\n",
       "      <td>0</td>\n",
       "      <td>A/5. 2151</td>\n",
       "      <td>8.0500</td>\n",
       "      <td>NaN</td>\n",
       "      <td>S</td>\n",
       "    </tr>\n",
       "    <tr>\n",
       "      <th>13</th>\n",
       "      <td>14</td>\n",
       "      <td>0</td>\n",
       "      <td>3</td>\n",
       "      <td>Andersson, Mr. Anders Johan</td>\n",
       "      <td>male</td>\n",
       "      <td>39.0</td>\n",
       "      <td>1</td>\n",
       "      <td>5</td>\n",
       "      <td>347082</td>\n",
       "      <td>31.2750</td>\n",
       "      <td>NaN</td>\n",
       "      <td>S</td>\n",
       "    </tr>\n",
       "    <tr>\n",
       "      <th>14</th>\n",
       "      <td>15</td>\n",
       "      <td>0</td>\n",
       "      <td>3</td>\n",
       "      <td>Vestrom, Miss. Hulda Amanda Adolfina</td>\n",
       "      <td>female</td>\n",
       "      <td>14.0</td>\n",
       "      <td>0</td>\n",
       "      <td>0</td>\n",
       "      <td>350406</td>\n",
       "      <td>7.8542</td>\n",
       "      <td>NaN</td>\n",
       "      <td>S</td>\n",
       "    </tr>\n",
       "    <tr>\n",
       "      <th>15</th>\n",
       "      <td>16</td>\n",
       "      <td>1</td>\n",
       "      <td>2</td>\n",
       "      <td>Hewlett, Mrs. (Mary D Kingcome)</td>\n",
       "      <td>female</td>\n",
       "      <td>55.0</td>\n",
       "      <td>0</td>\n",
       "      <td>0</td>\n",
       "      <td>248706</td>\n",
       "      <td>16.0000</td>\n",
       "      <td>NaN</td>\n",
       "      <td>S</td>\n",
       "    </tr>\n",
       "    <tr>\n",
       "      <th>16</th>\n",
       "      <td>17</td>\n",
       "      <td>0</td>\n",
       "      <td>3</td>\n",
       "      <td>Rice, Master. Eugene</td>\n",
       "      <td>male</td>\n",
       "      <td>2.0</td>\n",
       "      <td>4</td>\n",
       "      <td>1</td>\n",
       "      <td>382652</td>\n",
       "      <td>29.1250</td>\n",
       "      <td>NaN</td>\n",
       "      <td>Q</td>\n",
       "    </tr>\n",
       "    <tr>\n",
       "      <th>17</th>\n",
       "      <td>18</td>\n",
       "      <td>1</td>\n",
       "      <td>2</td>\n",
       "      <td>Williams, Mr. Charles Eugene</td>\n",
       "      <td>male</td>\n",
       "      <td>NaN</td>\n",
       "      <td>0</td>\n",
       "      <td>0</td>\n",
       "      <td>244373</td>\n",
       "      <td>13.0000</td>\n",
       "      <td>NaN</td>\n",
       "      <td>S</td>\n",
       "    </tr>\n",
       "    <tr>\n",
       "      <th>18</th>\n",
       "      <td>19</td>\n",
       "      <td>0</td>\n",
       "      <td>3</td>\n",
       "      <td>Vander Planke, Mrs. Julius (Emelia Maria Vande...</td>\n",
       "      <td>female</td>\n",
       "      <td>31.0</td>\n",
       "      <td>1</td>\n",
       "      <td>0</td>\n",
       "      <td>345763</td>\n",
       "      <td>18.0000</td>\n",
       "      <td>NaN</td>\n",
       "      <td>S</td>\n",
       "    </tr>\n",
       "    <tr>\n",
       "      <th>19</th>\n",
       "      <td>20</td>\n",
       "      <td>1</td>\n",
       "      <td>3</td>\n",
       "      <td>Masselmani, Mrs. Fatima</td>\n",
       "      <td>female</td>\n",
       "      <td>NaN</td>\n",
       "      <td>0</td>\n",
       "      <td>0</td>\n",
       "      <td>2649</td>\n",
       "      <td>7.2250</td>\n",
       "      <td>NaN</td>\n",
       "      <td>C</td>\n",
       "    </tr>\n",
       "    <tr>\n",
       "      <th>20</th>\n",
       "      <td>21</td>\n",
       "      <td>0</td>\n",
       "      <td>2</td>\n",
       "      <td>Fynney, Mr. Joseph J</td>\n",
       "      <td>male</td>\n",
       "      <td>35.0</td>\n",
       "      <td>0</td>\n",
       "      <td>0</td>\n",
       "      <td>239865</td>\n",
       "      <td>26.0000</td>\n",
       "      <td>NaN</td>\n",
       "      <td>S</td>\n",
       "    </tr>\n",
       "    <tr>\n",
       "      <th>21</th>\n",
       "      <td>22</td>\n",
       "      <td>1</td>\n",
       "      <td>2</td>\n",
       "      <td>Beesley, Mr. Lawrence</td>\n",
       "      <td>male</td>\n",
       "      <td>34.0</td>\n",
       "      <td>0</td>\n",
       "      <td>0</td>\n",
       "      <td>248698</td>\n",
       "      <td>13.0000</td>\n",
       "      <td>D56</td>\n",
       "      <td>S</td>\n",
       "    </tr>\n",
       "    <tr>\n",
       "      <th>22</th>\n",
       "      <td>23</td>\n",
       "      <td>1</td>\n",
       "      <td>3</td>\n",
       "      <td>McGowan, Miss. Anna \"Annie\"</td>\n",
       "      <td>female</td>\n",
       "      <td>15.0</td>\n",
       "      <td>0</td>\n",
       "      <td>0</td>\n",
       "      <td>330923</td>\n",
       "      <td>8.0292</td>\n",
       "      <td>NaN</td>\n",
       "      <td>Q</td>\n",
       "    </tr>\n",
       "    <tr>\n",
       "      <th>23</th>\n",
       "      <td>24</td>\n",
       "      <td>1</td>\n",
       "      <td>1</td>\n",
       "      <td>Sloper, Mr. William Thompson</td>\n",
       "      <td>male</td>\n",
       "      <td>28.0</td>\n",
       "      <td>0</td>\n",
       "      <td>0</td>\n",
       "      <td>113788</td>\n",
       "      <td>35.5000</td>\n",
       "      <td>A6</td>\n",
       "      <td>S</td>\n",
       "    </tr>\n",
       "    <tr>\n",
       "      <th>24</th>\n",
       "      <td>25</td>\n",
       "      <td>0</td>\n",
       "      <td>3</td>\n",
       "      <td>Palsson, Miss. Torborg Danira</td>\n",
       "      <td>female</td>\n",
       "      <td>8.0</td>\n",
       "      <td>3</td>\n",
       "      <td>1</td>\n",
       "      <td>349909</td>\n",
       "      <td>21.0750</td>\n",
       "      <td>NaN</td>\n",
       "      <td>S</td>\n",
       "    </tr>\n",
       "    <tr>\n",
       "      <th>25</th>\n",
       "      <td>26</td>\n",
       "      <td>1</td>\n",
       "      <td>3</td>\n",
       "      <td>Asplund, Mrs. Carl Oscar (Selma Augusta Emilia...</td>\n",
       "      <td>female</td>\n",
       "      <td>38.0</td>\n",
       "      <td>1</td>\n",
       "      <td>5</td>\n",
       "      <td>347077</td>\n",
       "      <td>31.3875</td>\n",
       "      <td>NaN</td>\n",
       "      <td>S</td>\n",
       "    </tr>\n",
       "    <tr>\n",
       "      <th>26</th>\n",
       "      <td>27</td>\n",
       "      <td>0</td>\n",
       "      <td>3</td>\n",
       "      <td>Emir, Mr. Farred Chehab</td>\n",
       "      <td>male</td>\n",
       "      <td>NaN</td>\n",
       "      <td>0</td>\n",
       "      <td>0</td>\n",
       "      <td>2631</td>\n",
       "      <td>7.2250</td>\n",
       "      <td>NaN</td>\n",
       "      <td>C</td>\n",
       "    </tr>\n",
       "    <tr>\n",
       "      <th>27</th>\n",
       "      <td>28</td>\n",
       "      <td>0</td>\n",
       "      <td>1</td>\n",
       "      <td>Fortune, Mr. Charles Alexander</td>\n",
       "      <td>male</td>\n",
       "      <td>19.0</td>\n",
       "      <td>3</td>\n",
       "      <td>2</td>\n",
       "      <td>19950</td>\n",
       "      <td>263.0000</td>\n",
       "      <td>C23 C25 C27</td>\n",
       "      <td>S</td>\n",
       "    </tr>\n",
       "    <tr>\n",
       "      <th>28</th>\n",
       "      <td>29</td>\n",
       "      <td>1</td>\n",
       "      <td>3</td>\n",
       "      <td>O'Dwyer, Miss. Ellen \"Nellie\"</td>\n",
       "      <td>female</td>\n",
       "      <td>NaN</td>\n",
       "      <td>0</td>\n",
       "      <td>0</td>\n",
       "      <td>330959</td>\n",
       "      <td>7.8792</td>\n",
       "      <td>NaN</td>\n",
       "      <td>Q</td>\n",
       "    </tr>\n",
       "    <tr>\n",
       "      <th>29</th>\n",
       "      <td>30</td>\n",
       "      <td>0</td>\n",
       "      <td>3</td>\n",
       "      <td>Todoroff, Mr. Lalio</td>\n",
       "      <td>male</td>\n",
       "      <td>NaN</td>\n",
       "      <td>0</td>\n",
       "      <td>0</td>\n",
       "      <td>349216</td>\n",
       "      <td>7.8958</td>\n",
       "      <td>NaN</td>\n",
       "      <td>S</td>\n",
       "    </tr>\n",
       "  </tbody>\n",
       "</table>\n",
       "</div>"
      ],
      "text/plain": [
       "    PassengerId  Survived  Pclass  \\\n",
       "0             1         0       3   \n",
       "1             2         1       1   \n",
       "2             3         1       3   \n",
       "3             4         1       1   \n",
       "4             5         0       3   \n",
       "5             6         0       3   \n",
       "6             7         0       1   \n",
       "7             8         0       3   \n",
       "8             9         1       3   \n",
       "9            10         1       2   \n",
       "10           11         1       3   \n",
       "11           12         1       1   \n",
       "12           13         0       3   \n",
       "13           14         0       3   \n",
       "14           15         0       3   \n",
       "15           16         1       2   \n",
       "16           17         0       3   \n",
       "17           18         1       2   \n",
       "18           19         0       3   \n",
       "19           20         1       3   \n",
       "20           21         0       2   \n",
       "21           22         1       2   \n",
       "22           23         1       3   \n",
       "23           24         1       1   \n",
       "24           25         0       3   \n",
       "25           26         1       3   \n",
       "26           27         0       3   \n",
       "27           28         0       1   \n",
       "28           29         1       3   \n",
       "29           30         0       3   \n",
       "\n",
       "                                                 Name     Sex   Age  SibSp  \\\n",
       "0                             Braund, Mr. Owen Harris    male  22.0      1   \n",
       "1   Cumings, Mrs. John Bradley (Florence Briggs Th...  female  38.0      1   \n",
       "2                              Heikkinen, Miss. Laina  female  26.0      0   \n",
       "3        Futrelle, Mrs. Jacques Heath (Lily May Peel)  female  35.0      1   \n",
       "4                            Allen, Mr. William Henry    male  35.0      0   \n",
       "5                                    Moran, Mr. James    male   NaN      0   \n",
       "6                             McCarthy, Mr. Timothy J    male  54.0      0   \n",
       "7                      Palsson, Master. Gosta Leonard    male   2.0      3   \n",
       "8   Johnson, Mrs. Oscar W (Elisabeth Vilhelmina Berg)  female  27.0      0   \n",
       "9                 Nasser, Mrs. Nicholas (Adele Achem)  female  14.0      1   \n",
       "10                    Sandstrom, Miss. Marguerite Rut  female   4.0      1   \n",
       "11                           Bonnell, Miss. Elizabeth  female  58.0      0   \n",
       "12                     Saundercock, Mr. William Henry    male  20.0      0   \n",
       "13                        Andersson, Mr. Anders Johan    male  39.0      1   \n",
       "14               Vestrom, Miss. Hulda Amanda Adolfina  female  14.0      0   \n",
       "15                   Hewlett, Mrs. (Mary D Kingcome)   female  55.0      0   \n",
       "16                               Rice, Master. Eugene    male   2.0      4   \n",
       "17                       Williams, Mr. Charles Eugene    male   NaN      0   \n",
       "18  Vander Planke, Mrs. Julius (Emelia Maria Vande...  female  31.0      1   \n",
       "19                            Masselmani, Mrs. Fatima  female   NaN      0   \n",
       "20                               Fynney, Mr. Joseph J    male  35.0      0   \n",
       "21                              Beesley, Mr. Lawrence    male  34.0      0   \n",
       "22                        McGowan, Miss. Anna \"Annie\"  female  15.0      0   \n",
       "23                       Sloper, Mr. William Thompson    male  28.0      0   \n",
       "24                      Palsson, Miss. Torborg Danira  female   8.0      3   \n",
       "25  Asplund, Mrs. Carl Oscar (Selma Augusta Emilia...  female  38.0      1   \n",
       "26                            Emir, Mr. Farred Chehab    male   NaN      0   \n",
       "27                     Fortune, Mr. Charles Alexander    male  19.0      3   \n",
       "28                      O'Dwyer, Miss. Ellen \"Nellie\"  female   NaN      0   \n",
       "29                                Todoroff, Mr. Lalio    male   NaN      0   \n",
       "\n",
       "    Parch            Ticket      Fare        Cabin Embarked  \n",
       "0       0         A/5 21171    7.2500          NaN        S  \n",
       "1       0          PC 17599   71.2833          C85        C  \n",
       "2       0  STON/O2. 3101282    7.9250          NaN        S  \n",
       "3       0            113803   53.1000         C123        S  \n",
       "4       0            373450    8.0500          NaN        S  \n",
       "5       0            330877    8.4583          NaN        Q  \n",
       "6       0             17463   51.8625          E46        S  \n",
       "7       1            349909   21.0750          NaN        S  \n",
       "8       2            347742   11.1333          NaN        S  \n",
       "9       0            237736   30.0708          NaN        C  \n",
       "10      1           PP 9549   16.7000           G6        S  \n",
       "11      0            113783   26.5500         C103        S  \n",
       "12      0         A/5. 2151    8.0500          NaN        S  \n",
       "13      5            347082   31.2750          NaN        S  \n",
       "14      0            350406    7.8542          NaN        S  \n",
       "15      0            248706   16.0000          NaN        S  \n",
       "16      1            382652   29.1250          NaN        Q  \n",
       "17      0            244373   13.0000          NaN        S  \n",
       "18      0            345763   18.0000          NaN        S  \n",
       "19      0              2649    7.2250          NaN        C  \n",
       "20      0            239865   26.0000          NaN        S  \n",
       "21      0            248698   13.0000          D56        S  \n",
       "22      0            330923    8.0292          NaN        Q  \n",
       "23      0            113788   35.5000           A6        S  \n",
       "24      1            349909   21.0750          NaN        S  \n",
       "25      5            347077   31.3875          NaN        S  \n",
       "26      0              2631    7.2250          NaN        C  \n",
       "27      2             19950  263.0000  C23 C25 C27        S  \n",
       "28      0            330959    7.8792          NaN        Q  \n",
       "29      0            349216    7.8958          NaN        S  "
      ]
     },
     "execution_count": 3,
     "metadata": {},
     "output_type": "execute_result"
    }
   ],
   "source": [
    "#load train and test data\n",
    "train_data = pd.read_csv(\"../input/titanic/train.csv\")\n",
    "test_data = pd.read_csv(\"../input/titanic/test.csv\")\n",
    "train_data[:SHOW_DATA*2]"
   ]
  },
  {
   "cell_type": "code",
   "execution_count": 4,
   "id": "8fcb0ad9",
   "metadata": {
    "execution": {
     "iopub.execute_input": "2021-10-30T01:25:33.537769Z",
     "iopub.status.busy": "2021-10-30T01:25:33.536971Z",
     "iopub.status.idle": "2021-10-30T01:25:33.538951Z",
     "shell.execute_reply": "2021-10-30T01:25:33.539443Z",
     "shell.execute_reply.started": "2021-10-30T01:24:14.278265Z"
    },
    "papermill": {
     "duration": 0.069689,
     "end_time": "2021-10-30T01:25:33.539599",
     "exception": false,
     "start_time": "2021-10-30T01:25:33.469910",
     "status": "completed"
    },
    "tags": []
   },
   "outputs": [],
   "source": [
    "#DEFINE CONSTANTS 2\n",
    "COL_PASSID = \"PassengerId\"   # passengerid - Unic number of passenger (ID)\n",
    "COL_SURVIVED = \"Survived\"    # survival - Survival (0 = No; 1 = Yes)\n",
    "COL_PASSCLASS = \"Pclass\"     # class - Passenger Class (1 = 1st; 2 = 2nd; 3 = 3rd)\n",
    "COL_NAME = \"Name\"            # name - Name\n",
    "COL_SEX = \"Sex\"              # sex - Sex\n",
    "COL_AGE = \"Age\"              # age - Age\n",
    "COL_SIBSP = \"SibSp\"          # sibsp - Number of Siblings/Spouses Aboard\n",
    "COL_PARCH = \"Parch\"          # parch - Number of Parents/Children Aboard\n",
    "COL_TICKET = \"Ticket\"        # ticket - Ticket Number\n",
    "COL_FARE = \"Fare\"            # fare - Passenger Fare\n",
    "COL_CABIN = \"Cabin\"          # cabin - Cabin\n",
    "COL_EPORT = \"Embarked\"       # embarked - Port of Embarkation \n",
    "                             # (C = Cherbourg; Q = Queenstown; S = Southampton)"
   ]
  },
  {
   "cell_type": "code",
   "execution_count": 5,
   "id": "c09abb24",
   "metadata": {
    "execution": {
     "iopub.execute_input": "2021-10-30T01:25:33.668048Z",
     "iopub.status.busy": "2021-10-30T01:25:33.664821Z",
     "iopub.status.idle": "2021-10-30T01:25:33.671208Z",
     "shell.execute_reply": "2021-10-30T01:25:33.670715Z",
     "shell.execute_reply.started": "2021-10-30T01:24:14.288900Z"
    },
    "papermill": {
     "duration": 0.071181,
     "end_time": "2021-10-30T01:25:33.671332",
     "exception": false,
     "start_time": "2021-10-30T01:25:33.600151",
     "status": "completed"
    },
    "tags": []
   },
   "outputs": [
    {
     "data": {
      "text/plain": [
       "PassengerId      int64\n",
       "Survived         int64\n",
       "Pclass           int64\n",
       "Name            object\n",
       "Sex             object\n",
       "Age            float64\n",
       "SibSp            int64\n",
       "Parch            int64\n",
       "Ticket          object\n",
       "Fare           float64\n",
       "Cabin           object\n",
       "Embarked        object\n",
       "dtype: object"
      ]
     },
     "execution_count": 5,
     "metadata": {},
     "output_type": "execute_result"
    }
   ],
   "source": [
    "#EXPLORE BASE: data types\n",
    "train_data.dtypes"
   ]
  },
  {
   "cell_type": "code",
   "execution_count": 6,
   "id": "1d6e9469",
   "metadata": {
    "execution": {
     "iopub.execute_input": "2021-10-30T01:25:33.800427Z",
     "iopub.status.busy": "2021-10-30T01:25:33.799745Z",
     "iopub.status.idle": "2021-10-30T01:25:33.802387Z",
     "shell.execute_reply": "2021-10-30T01:25:33.802797Z",
     "shell.execute_reply.started": "2021-10-30T01:24:14.304364Z"
    },
    "papermill": {
     "duration": 0.068692,
     "end_time": "2021-10-30T01:25:33.802964",
     "exception": false,
     "start_time": "2021-10-30T01:25:33.734272",
     "status": "completed"
    },
    "tags": []
   },
   "outputs": [
    {
     "data": {
      "text/plain": [
       "(891, 12)"
      ]
     },
     "execution_count": 6,
     "metadata": {},
     "output_type": "execute_result"
    }
   ],
   "source": [
    "#EXPLORE BASE: shape info\n",
    "train_data.shape"
   ]
  },
  {
   "cell_type": "code",
   "execution_count": 7,
   "id": "de78e394",
   "metadata": {
    "execution": {
     "iopub.execute_input": "2021-10-30T01:25:33.951443Z",
     "iopub.status.busy": "2021-10-30T01:25:33.940509Z",
     "iopub.status.idle": "2021-10-30T01:25:33.954567Z",
     "shell.execute_reply": "2021-10-30T01:25:33.955240Z",
     "shell.execute_reply.started": "2021-10-30T01:24:14.316885Z"
    },
    "papermill": {
     "duration": 0.089647,
     "end_time": "2021-10-30T01:25:33.955398",
     "exception": false,
     "start_time": "2021-10-30T01:25:33.865751",
     "status": "completed"
    },
    "tags": []
   },
   "outputs": [
    {
     "name": "stdout",
     "output_type": "stream",
     "text": [
      "<class 'pandas.core.frame.DataFrame'>\n",
      "RangeIndex: 891 entries, 0 to 890\n",
      "Data columns (total 12 columns):\n",
      " #   Column       Non-Null Count  Dtype  \n",
      "---  ------       --------------  -----  \n",
      " 0   PassengerId  891 non-null    int64  \n",
      " 1   Survived     891 non-null    int64  \n",
      " 2   Pclass       891 non-null    int64  \n",
      " 3   Name         891 non-null    object \n",
      " 4   Sex          891 non-null    object \n",
      " 5   Age          714 non-null    float64\n",
      " 6   SibSp        891 non-null    int64  \n",
      " 7   Parch        891 non-null    int64  \n",
      " 8   Ticket       891 non-null    object \n",
      " 9   Fare         891 non-null    float64\n",
      " 10  Cabin        204 non-null    object \n",
      " 11  Embarked     889 non-null    object \n",
      "dtypes: float64(2), int64(5), object(5)\n",
      "memory usage: 83.7+ KB\n"
     ]
    }
   ],
   "source": [
    "#EXPLORE BASE: info about columns\n",
    "train_data.info()"
   ]
  },
  {
   "cell_type": "code",
   "execution_count": 8,
   "id": "be78b0d5",
   "metadata": {
    "execution": {
     "iopub.execute_input": "2021-10-30T01:25:34.177912Z",
     "iopub.status.busy": "2021-10-30T01:25:34.177033Z",
     "iopub.status.idle": "2021-10-30T01:25:34.187185Z",
     "shell.execute_reply": "2021-10-30T01:25:34.188427Z",
     "shell.execute_reply.started": "2021-10-30T01:24:14.344568Z"
    },
    "papermill": {
     "duration": 0.136086,
     "end_time": "2021-10-30T01:25:34.188743",
     "exception": false,
     "start_time": "2021-10-30T01:25:34.052657",
     "status": "completed"
    },
    "tags": []
   },
   "outputs": [
    {
     "data": {
      "text/plain": [
       "PassengerId     0.000000\n",
       "Survived        0.000000\n",
       "Pclass          0.000000\n",
       "Name            0.000000\n",
       "Sex             0.000000\n",
       "Age            19.865320\n",
       "SibSp           0.000000\n",
       "Parch           0.000000\n",
       "Ticket          0.000000\n",
       "Fare            0.000000\n",
       "Cabin          77.104377\n",
       "Embarked        0.224467\n",
       "dtype: float64"
      ]
     },
     "execution_count": 8,
     "metadata": {},
     "output_type": "execute_result"
    }
   ],
   "source": [
    "#EXPLORE BASE: info about NaN elements, in every column (in percentage)\n",
    "train_data.isna().sum()/train_data.shape[0]*100"
   ]
  },
  {
   "cell_type": "code",
   "execution_count": 9,
   "id": "1a1f0ca8",
   "metadata": {
    "execution": {
     "iopub.execute_input": "2021-10-30T01:25:34.431058Z",
     "iopub.status.busy": "2021-10-30T01:25:34.430162Z",
     "iopub.status.idle": "2021-10-30T01:25:34.432575Z",
     "shell.execute_reply": "2021-10-30T01:25:34.431879Z",
     "shell.execute_reply.started": "2021-10-30T01:24:14.370076Z"
    },
    "papermill": {
     "duration": 0.116885,
     "end_time": "2021-10-30T01:25:34.432736",
     "exception": false,
     "start_time": "2021-10-30T01:25:34.315851",
     "status": "completed"
    },
    "tags": []
   },
   "outputs": [],
   "source": [
    "#As we see column \"Cabins\" contain a lot of missing data, so we will not use this column. What about column \"Age\", these missing values will be replaced by average values.\n",
    "#Useless information about first label, delete them\n",
    "# try:\n",
    "#     train_data.drop(COL_CABIN, axis=1, inplace=True)\n",
    "# except KeyError:\n",
    "#     pass\n",
    "# train_data[:SHOW_DATA]"
   ]
  },
  {
   "cell_type": "code",
   "execution_count": 10,
   "id": "f5ddf7ff",
   "metadata": {
    "execution": {
     "iopub.execute_input": "2021-10-30T01:25:34.632819Z",
     "iopub.status.busy": "2021-10-30T01:25:34.631780Z",
     "iopub.status.idle": "2021-10-30T01:25:34.636708Z",
     "shell.execute_reply": "2021-10-30T01:25:34.637300Z",
     "shell.execute_reply.started": "2021-10-30T01:24:14.380272Z"
    },
    "papermill": {
     "duration": 0.098065,
     "end_time": "2021-10-30T01:25:34.637463",
     "exception": false,
     "start_time": "2021-10-30T01:25:34.539398",
     "status": "completed"
    },
    "tags": []
   },
   "outputs": [
    {
     "name": "stdout",
     "output_type": "stream",
     "text": [
      "% of women who survived: 74.20382\n",
      "% of men who survived: 18.89081\n"
     ]
    }
   ],
   "source": [
    "# check conjecture of all female are survived\n",
    "\n",
    "women = train_data.loc[train_data[COL_SEX] == 'female'][COL_SURVIVED]\n",
    "men =  train_data.loc[train_data[COL_SEX] == 'male'][COL_SURVIVED]\n",
    "rate_women = sum(women)/len(women)\n",
    "rate_men = sum(men)/len(men)\n",
    "\n",
    "print(\"% of women who survived:\", round(rate_women*100,PERCISION))\n",
    "print(\"% of men who survived:\", round(rate_men*100,PERCISION))"
   ]
  },
  {
   "cell_type": "code",
   "execution_count": 11,
   "id": "2508fdfc",
   "metadata": {
    "execution": {
     "iopub.execute_input": "2021-10-30T01:25:34.781908Z",
     "iopub.status.busy": "2021-10-30T01:25:34.780942Z",
     "iopub.status.idle": "2021-10-30T01:25:34.783162Z",
     "shell.execute_reply": "2021-10-30T01:25:34.783577Z",
     "shell.execute_reply.started": "2021-10-30T01:24:14.400742Z"
    },
    "papermill": {
     "duration": 0.077265,
     "end_time": "2021-10-30T01:25:34.783731",
     "exception": false,
     "start_time": "2021-10-30T01:25:34.706466",
     "status": "completed"
    },
    "tags": []
   },
   "outputs": [],
   "source": [
    "# START EXPLORE FEATURES: CATEGORICAL FEATURES:\n",
    "# survival - Survival (0 = No; 1 = Yes)\n",
    "# class - Passenger Class (1 = 1st; 2 = 2nd; 3 = 3rd)\n",
    "# sex - Sex\n",
    "# age - Age                                 // could be convert to age_group\n",
    "# parch - Number of Parents/Children Aboard \n",
    "# fare - Passenger Fare                     // could be convert to fare_group\n",
    "# embarked - Port of Embarkation (C = Cherbourg; Q = Queenstown; S = Southampton)\n",
    "COL_CABIN_GROUP = COL_CABIN + \"_Group\"\n",
    "COL_AGE_GROUP = COL_AGE + \"_Group\"\n",
    "COL_AGE_SCALED = COL_AGE + \"_Scaled\"\n",
    "COL_FARE_GROUP = COL_FARE + \"_Group\"\n",
    "COL_SIBSP_GROUP = COL_SIBSP + \"_Group\"\n",
    "COL_PARCH_GROUP = COL_PARCH + \"_Group\"\n",
    "COL_TICKET_GROUP = COL_TICKET + \"_Group\"\n",
    "COL_SIBSP_GROUP_2 = COL_SIBSP_GROUP + \"_2\"\n",
    "COL_PARCH_GROUP_2 = COL_PARCH_GROUP + \"_2\"\n",
    "COL_AGE_GROUP_2 = COL_AGE_GROUP + \"_2\"\n",
    "COL_FARE_GROUP_2 = COL_FARE_GROUP + \"_2\"\n",
    "COL_NAME_START_LETTER = \"Name_First_Letter\""
   ]
  },
  {
   "cell_type": "code",
   "execution_count": 12,
   "id": "25ff0cd9",
   "metadata": {
    "execution": {
     "iopub.execute_input": "2021-10-30T01:25:34.935093Z",
     "iopub.status.busy": "2021-10-30T01:25:34.934114Z",
     "iopub.status.idle": "2021-10-30T01:25:35.253106Z",
     "shell.execute_reply": "2021-10-30T01:25:35.254286Z",
     "shell.execute_reply.started": "2021-10-30T01:24:14.417660Z"
    },
    "papermill": {
     "duration": 0.400114,
     "end_time": "2021-10-30T01:25:35.254581",
     "exception": false,
     "start_time": "2021-10-30T01:25:34.854467",
     "status": "completed"
    },
    "tags": []
   },
   "outputs": [
    {
     "data": {
      "text/plain": [
       "0    549\n",
       "1    342\n",
       "Name: Survived, dtype: int64"
      ]
     },
     "execution_count": 12,
     "metadata": {},
     "output_type": "execute_result"
    },
    {
     "data": {
      "image/png": "[encoded data removed]",
      "text/plain": [
       "<Figure size 425.197x283.465 with 1 Axes>"
      ]
     },
     "metadata": {},
     "output_type": "display_data"
    }
   ],
   "source": [
    "# EXPLORE FEATURES:\n",
    "# Survival (0 = No; 1 = Yes)\n",
    "train_data[COL_SURVIVED].value_counts().plot.pie()\n",
    "train_data[COL_SURVIVED].value_counts()"
   ]
  },
  {
   "cell_type": "code",
   "execution_count": 13,
   "id": "4fa04ecc",
   "metadata": {
    "execution": {
     "iopub.execute_input": "2021-10-30T01:25:35.486700Z",
     "iopub.status.busy": "2021-10-30T01:25:35.485873Z",
     "iopub.status.idle": "2021-10-30T01:25:35.823231Z",
     "shell.execute_reply": "2021-10-30T01:25:35.824222Z",
     "shell.execute_reply.started": "2021-10-30T01:24:14.640643Z"
    },
    "papermill": {
     "duration": 0.459443,
     "end_time": "2021-10-30T01:25:35.824426",
     "exception": false,
     "start_time": "2021-10-30T01:25:35.364983",
     "status": "completed"
    },
    "tags": []
   },
   "outputs": [
    {
     "data": {
      "text/plain": [
       "S    86\n",
       "M    74\n",
       "B    72\n",
       "H    69\n",
       "C    69\n",
       "A    51\n",
       "L    48\n",
       "P    47\n",
       "R    41\n",
       "G    41\n",
       "D    39\n",
       "W    33\n",
       "F    31\n",
       "J    30\n",
       "T    30\n",
       "N    29\n",
       "K    28\n",
       "O    23\n",
       "V    13\n",
       "E    12\n",
       "Y     7\n",
       "I     6\n",
       "d     4\n",
       "Z     3\n",
       "v     2\n",
       "Q     2\n",
       "U     1\n",
       "Name: Name_First_Letter, dtype: int64"
      ]
     },
     "execution_count": 13,
     "metadata": {},
     "output_type": "execute_result"
    },
    {
     "data": {
      "image/png": "[encoded data removed]",
      "text/plain": [
       "<Figure size 425.197x283.465 with 1 Axes>"
      ]
     },
     "metadata": {},
     "output_type": "display_data"
    }
   ],
   "source": [
    "# EXPLORE FEATURES [Name]: \n",
    "train_data[COL_NAME_START_LETTER] = train_data[COL_NAME].map(lambda full_name: str(full_name).split(\",\")[0][0])\n",
    "train_data[COL_NAME_START_LETTER].value_counts().plot.pie()\n",
    "train_data[COL_NAME_START_LETTER].value_counts()\n",
    "#Useless data, delete them"
   ]
  },
  {
   "cell_type": "code",
   "execution_count": 14,
   "id": "adc98794",
   "metadata": {
    "execution": {
     "iopub.execute_input": "2021-10-30T01:25:36.057988Z",
     "iopub.status.busy": "2021-10-30T01:25:36.057118Z",
     "iopub.status.idle": "2021-10-30T01:25:36.081141Z",
     "shell.execute_reply": "2021-10-30T01:25:36.080645Z",
     "shell.execute_reply.started": "2021-10-30T01:24:14.859279Z"
    },
    "papermill": {
     "duration": 0.14267,
     "end_time": "2021-10-30T01:25:36.081277",
     "exception": false,
     "start_time": "2021-10-30T01:25:35.938607",
     "status": "completed"
    },
    "tags": []
   },
   "outputs": [
    {
     "data": {
      "text/html": [
       "<div>\n",
       "<style scoped>\n",
       "    .dataframe tbody tr th:only-of-type {\n",
       "        vertical-align: middle;\n",
       "    }\n",
       "\n",
       "    .dataframe tbody tr th {\n",
       "        vertical-align: top;\n",
       "    }\n",
       "\n",
       "    .dataframe thead th {\n",
       "        text-align: right;\n",
       "    }\n",
       "</style>\n",
       "<table border=\"1\" class=\"dataframe\">\n",
       "  <thead>\n",
       "    <tr style=\"text-align: right;\">\n",
       "      <th></th>\n",
       "      <th>PassengerId</th>\n",
       "      <th>Survived</th>\n",
       "      <th>Pclass</th>\n",
       "      <th>Name</th>\n",
       "      <th>Sex</th>\n",
       "      <th>Age</th>\n",
       "      <th>SibSp</th>\n",
       "      <th>Parch</th>\n",
       "      <th>Ticket</th>\n",
       "      <th>Fare</th>\n",
       "      <th>Cabin</th>\n",
       "      <th>Embarked</th>\n",
       "    </tr>\n",
       "  </thead>\n",
       "  <tbody>\n",
       "    <tr>\n",
       "      <th>0</th>\n",
       "      <td>1</td>\n",
       "      <td>0</td>\n",
       "      <td>3</td>\n",
       "      <td>Braund, Mr. Owen Harris</td>\n",
       "      <td>male</td>\n",
       "      <td>22.0</td>\n",
       "      <td>1</td>\n",
       "      <td>0</td>\n",
       "      <td>A/5 21171</td>\n",
       "      <td>7.2500</td>\n",
       "      <td>NaN</td>\n",
       "      <td>S</td>\n",
       "    </tr>\n",
       "    <tr>\n",
       "      <th>1</th>\n",
       "      <td>2</td>\n",
       "      <td>1</td>\n",
       "      <td>1</td>\n",
       "      <td>Cumings, Mrs. John Bradley (Florence Briggs Th...</td>\n",
       "      <td>female</td>\n",
       "      <td>38.0</td>\n",
       "      <td>1</td>\n",
       "      <td>0</td>\n",
       "      <td>PC 17599</td>\n",
       "      <td>71.2833</td>\n",
       "      <td>C85</td>\n",
       "      <td>C</td>\n",
       "    </tr>\n",
       "    <tr>\n",
       "      <th>2</th>\n",
       "      <td>3</td>\n",
       "      <td>1</td>\n",
       "      <td>3</td>\n",
       "      <td>Heikkinen, Miss. Laina</td>\n",
       "      <td>female</td>\n",
       "      <td>26.0</td>\n",
       "      <td>0</td>\n",
       "      <td>0</td>\n",
       "      <td>STON/O2. 3101282</td>\n",
       "      <td>7.9250</td>\n",
       "      <td>NaN</td>\n",
       "      <td>S</td>\n",
       "    </tr>\n",
       "    <tr>\n",
       "      <th>3</th>\n",
       "      <td>4</td>\n",
       "      <td>1</td>\n",
       "      <td>1</td>\n",
       "      <td>Futrelle, Mrs. Jacques Heath (Lily May Peel)</td>\n",
       "      <td>female</td>\n",
       "      <td>35.0</td>\n",
       "      <td>1</td>\n",
       "      <td>0</td>\n",
       "      <td>113803</td>\n",
       "      <td>53.1000</td>\n",
       "      <td>C123</td>\n",
       "      <td>S</td>\n",
       "    </tr>\n",
       "    <tr>\n",
       "      <th>4</th>\n",
       "      <td>5</td>\n",
       "      <td>0</td>\n",
       "      <td>3</td>\n",
       "      <td>Allen, Mr. William Henry</td>\n",
       "      <td>male</td>\n",
       "      <td>35.0</td>\n",
       "      <td>0</td>\n",
       "      <td>0</td>\n",
       "      <td>373450</td>\n",
       "      <td>8.0500</td>\n",
       "      <td>NaN</td>\n",
       "      <td>S</td>\n",
       "    </tr>\n",
       "    <tr>\n",
       "      <th>5</th>\n",
       "      <td>6</td>\n",
       "      <td>0</td>\n",
       "      <td>3</td>\n",
       "      <td>Moran, Mr. James</td>\n",
       "      <td>male</td>\n",
       "      <td>NaN</td>\n",
       "      <td>0</td>\n",
       "      <td>0</td>\n",
       "      <td>330877</td>\n",
       "      <td>8.4583</td>\n",
       "      <td>NaN</td>\n",
       "      <td>Q</td>\n",
       "    </tr>\n",
       "    <tr>\n",
       "      <th>6</th>\n",
       "      <td>7</td>\n",
       "      <td>0</td>\n",
       "      <td>1</td>\n",
       "      <td>McCarthy, Mr. Timothy J</td>\n",
       "      <td>male</td>\n",
       "      <td>54.0</td>\n",
       "      <td>0</td>\n",
       "      <td>0</td>\n",
       "      <td>17463</td>\n",
       "      <td>51.8625</td>\n",
       "      <td>E46</td>\n",
       "      <td>S</td>\n",
       "    </tr>\n",
       "    <tr>\n",
       "      <th>7</th>\n",
       "      <td>8</td>\n",
       "      <td>0</td>\n",
       "      <td>3</td>\n",
       "      <td>Palsson, Master. Gosta Leonard</td>\n",
       "      <td>male</td>\n",
       "      <td>2.0</td>\n",
       "      <td>3</td>\n",
       "      <td>1</td>\n",
       "      <td>349909</td>\n",
       "      <td>21.0750</td>\n",
       "      <td>NaN</td>\n",
       "      <td>S</td>\n",
       "    </tr>\n",
       "    <tr>\n",
       "      <th>8</th>\n",
       "      <td>9</td>\n",
       "      <td>1</td>\n",
       "      <td>3</td>\n",
       "      <td>Johnson, Mrs. Oscar W (Elisabeth Vilhelmina Berg)</td>\n",
       "      <td>female</td>\n",
       "      <td>27.0</td>\n",
       "      <td>0</td>\n",
       "      <td>2</td>\n",
       "      <td>347742</td>\n",
       "      <td>11.1333</td>\n",
       "      <td>NaN</td>\n",
       "      <td>S</td>\n",
       "    </tr>\n",
       "    <tr>\n",
       "      <th>9</th>\n",
       "      <td>10</td>\n",
       "      <td>1</td>\n",
       "      <td>2</td>\n",
       "      <td>Nasser, Mrs. Nicholas (Adele Achem)</td>\n",
       "      <td>female</td>\n",
       "      <td>14.0</td>\n",
       "      <td>1</td>\n",
       "      <td>0</td>\n",
       "      <td>237736</td>\n",
       "      <td>30.0708</td>\n",
       "      <td>NaN</td>\n",
       "      <td>C</td>\n",
       "    </tr>\n",
       "    <tr>\n",
       "      <th>10</th>\n",
       "      <td>11</td>\n",
       "      <td>1</td>\n",
       "      <td>3</td>\n",
       "      <td>Sandstrom, Miss. Marguerite Rut</td>\n",
       "      <td>female</td>\n",
       "      <td>4.0</td>\n",
       "      <td>1</td>\n",
       "      <td>1</td>\n",
       "      <td>PP 9549</td>\n",
       "      <td>16.7000</td>\n",
       "      <td>G6</td>\n",
       "      <td>S</td>\n",
       "    </tr>\n",
       "    <tr>\n",
       "      <th>11</th>\n",
       "      <td>12</td>\n",
       "      <td>1</td>\n",
       "      <td>1</td>\n",
       "      <td>Bonnell, Miss. Elizabeth</td>\n",
       "      <td>female</td>\n",
       "      <td>58.0</td>\n",
       "      <td>0</td>\n",
       "      <td>0</td>\n",
       "      <td>113783</td>\n",
       "      <td>26.5500</td>\n",
       "      <td>C103</td>\n",
       "      <td>S</td>\n",
       "    </tr>\n",
       "    <tr>\n",
       "      <th>12</th>\n",
       "      <td>13</td>\n",
       "      <td>0</td>\n",
       "      <td>3</td>\n",
       "      <td>Saundercock, Mr. William Henry</td>\n",
       "      <td>male</td>\n",
       "      <td>20.0</td>\n",
       "      <td>0</td>\n",
       "      <td>0</td>\n",
       "      <td>A/5. 2151</td>\n",
       "      <td>8.0500</td>\n",
       "      <td>NaN</td>\n",
       "      <td>S</td>\n",
       "    </tr>\n",
       "    <tr>\n",
       "      <th>13</th>\n",
       "      <td>14</td>\n",
       "      <td>0</td>\n",
       "      <td>3</td>\n",
       "      <td>Andersson, Mr. Anders Johan</td>\n",
       "      <td>male</td>\n",
       "      <td>39.0</td>\n",
       "      <td>1</td>\n",
       "      <td>5</td>\n",
       "      <td>347082</td>\n",
       "      <td>31.2750</td>\n",
       "      <td>NaN</td>\n",
       "      <td>S</td>\n",
       "    </tr>\n",
       "    <tr>\n",
       "      <th>14</th>\n",
       "      <td>15</td>\n",
       "      <td>0</td>\n",
       "      <td>3</td>\n",
       "      <td>Vestrom, Miss. Hulda Amanda Adolfina</td>\n",
       "      <td>female</td>\n",
       "      <td>14.0</td>\n",
       "      <td>0</td>\n",
       "      <td>0</td>\n",
       "      <td>350406</td>\n",
       "      <td>7.8542</td>\n",
       "      <td>NaN</td>\n",
       "      <td>S</td>\n",
       "    </tr>\n",
       "  </tbody>\n",
       "</table>\n",
       "</div>"
      ],
      "text/plain": [
       "    PassengerId  Survived  Pclass  \\\n",
       "0             1         0       3   \n",
       "1             2         1       1   \n",
       "2             3         1       3   \n",
       "3             4         1       1   \n",
       "4             5         0       3   \n",
       "5             6         0       3   \n",
       "6             7         0       1   \n",
       "7             8         0       3   \n",
       "8             9         1       3   \n",
       "9            10         1       2   \n",
       "10           11         1       3   \n",
       "11           12         1       1   \n",
       "12           13         0       3   \n",
       "13           14         0       3   \n",
       "14           15         0       3   \n",
       "\n",
       "                                                 Name     Sex   Age  SibSp  \\\n",
       "0                             Braund, Mr. Owen Harris    male  22.0      1   \n",
       "1   Cumings, Mrs. John Bradley (Florence Briggs Th...  female  38.0      1   \n",
       "2                              Heikkinen, Miss. Laina  female  26.0      0   \n",
       "3        Futrelle, Mrs. Jacques Heath (Lily May Peel)  female  35.0      1   \n",
       "4                            Allen, Mr. William Henry    male  35.0      0   \n",
       "5                                    Moran, Mr. James    male   NaN      0   \n",
       "6                             McCarthy, Mr. Timothy J    male  54.0      0   \n",
       "7                      Palsson, Master. Gosta Leonard    male   2.0      3   \n",
       "8   Johnson, Mrs. Oscar W (Elisabeth Vilhelmina Berg)  female  27.0      0   \n",
       "9                 Nasser, Mrs. Nicholas (Adele Achem)  female  14.0      1   \n",
       "10                    Sandstrom, Miss. Marguerite Rut  female   4.0      1   \n",
       "11                           Bonnell, Miss. Elizabeth  female  58.0      0   \n",
       "12                     Saundercock, Mr. William Henry    male  20.0      0   \n",
       "13                        Andersson, Mr. Anders Johan    male  39.0      1   \n",
       "14               Vestrom, Miss. Hulda Amanda Adolfina  female  14.0      0   \n",
       "\n",
       "    Parch            Ticket     Fare Cabin Embarked  \n",
       "0       0         A/5 21171   7.2500   NaN        S  \n",
       "1       0          PC 17599  71.2833   C85        C  \n",
       "2       0  STON/O2. 3101282   7.9250   NaN        S  \n",
       "3       0            113803  53.1000  C123        S  \n",
       "4       0            373450   8.0500   NaN        S  \n",
       "5       0            330877   8.4583   NaN        Q  \n",
       "6       0             17463  51.8625   E46        S  \n",
       "7       1            349909  21.0750   NaN        S  \n",
       "8       2            347742  11.1333   NaN        S  \n",
       "9       0            237736  30.0708   NaN        C  \n",
       "10      1           PP 9549  16.7000    G6        S  \n",
       "11      0            113783  26.5500  C103        S  \n",
       "12      0         A/5. 2151   8.0500   NaN        S  \n",
       "13      5            347082  31.2750   NaN        S  \n",
       "14      0            350406   7.8542   NaN        S  "
      ]
     },
     "execution_count": 14,
     "metadata": {},
     "output_type": "execute_result"
    }
   ],
   "source": [
    "#Useless information about first label, delete them\n",
    "try:\n",
    "    train_data.drop(COL_NAME_START_LETTER, axis=1, inplace=True)\n",
    "except KeyError:\n",
    "    pass\n",
    "train_data[:SHOW_DATA]"
   ]
  },
  {
   "cell_type": "code",
   "execution_count": 15,
   "id": "b1cd79aa",
   "metadata": {
    "execution": {
     "iopub.execute_input": "2021-10-30T01:25:36.222814Z",
     "iopub.status.busy": "2021-10-30T01:25:36.222264Z",
     "iopub.status.idle": "2021-10-30T01:25:36.428644Z",
     "shell.execute_reply": "2021-10-30T01:25:36.429080Z",
     "shell.execute_reply.started": "2021-10-30T01:24:14.881660Z"
    },
    "papermill": {
     "duration": 0.277952,
     "end_time": "2021-10-30T01:25:36.429247",
     "exception": false,
     "start_time": "2021-10-30T01:25:36.151295",
     "status": "completed"
    },
    "tags": []
   },
   "outputs": [
    {
     "data": {
      "text/plain": [
       "C    259\n",
       "B    201\n",
       "E    147\n",
       "D    126\n",
       "A     77\n",
       "F     55\n",
       "G     24\n",
       "n      1\n",
       "T      1\n",
       "Name: Cabin_Group, dtype: int64"
      ]
     },
     "execution_count": 15,
     "metadata": {},
     "output_type": "execute_result"
    },
    {
     "data": {
      "image/png": "[encoded data removed]",
      "text/plain": [
       "<Figure size 425.197x283.465 with 1 Axes>"
      ]
     },
     "metadata": {
      "needs_background": "light"
     },
     "output_type": "display_data"
    }
   ],
   "source": [
    "#  train_data[~train_data[COL_CABIN]. isna()][COL_CABIN]\n",
    "# train_data[COL_CABIN] = train_data[COL_CABIN].fillna(0)\n",
    "train_data[COL_CABIN] = train_data[COL_CABIN].fillna(method = \"ffill\")\n",
    "train_data[COL_CABIN_GROUP] = train_data[COL_CABIN].map(lambda cabin_title: str(cabin_title)[0])\n",
    "# train_data[COL_CABIN_GROUP].value_counts().plot.pie()\n",
    "# train_data.loc[train_data[COL_CABIN_GROUP] != \"0\"][COL_CABIN_GROUP].value_counts().plot.pie()\n",
    "# train_data.loc[train_data[COL_CABIN_GROUP] != \"0\"][COL_CABIN_GROUP].value_counts()\n",
    "train_data[COL_CABIN_GROUP].value_counts().plot.barh()\n",
    "train_data[COL_CABIN_GROUP].value_counts()"
   ]
  },
  {
   "cell_type": "code",
   "execution_count": 16,
   "id": "6ac1cacb",
   "metadata": {
    "execution": {
     "iopub.execute_input": "2021-10-30T01:25:36.568945Z",
     "iopub.status.busy": "2021-10-30T01:25:36.568152Z",
     "iopub.status.idle": "2021-10-30T01:25:36.737538Z",
     "shell.execute_reply": "2021-10-30T01:25:36.737943Z",
     "shell.execute_reply.started": "2021-10-30T01:24:15.089248Z"
    },
    "papermill": {
     "duration": 0.242717,
     "end_time": "2021-10-30T01:25:36.738111",
     "exception": false,
     "start_time": "2021-10-30T01:25:36.495394",
     "status": "completed"
    },
    "tags": []
   },
   "outputs": [
    {
     "data": {
      "text/plain": [
       "3    491\n",
       "1    216\n",
       "2    184\n",
       "Name: Pclass, dtype: int64"
      ]
     },
     "execution_count": 16,
     "metadata": {},
     "output_type": "execute_result"
    },
    {
     "data": {
      "image/png": "[encoded data removed]",
      "text/plain": [
       "<Figure size 425.197x283.465 with 1 Axes>"
      ]
     },
     "metadata": {
      "needs_background": "light"
     },
     "output_type": "display_data"
    }
   ],
   "source": [
    "# EXPLORE FEATURES: another graph\n",
    "# class - Passenger Class (1 = 1st; 2 = 2nd; 3 = 3rd)\n",
    "train_data[COL_PASSCLASS].value_counts().plot(kind='barh', stacked=True)\n",
    "train_data[COL_PASSCLASS].value_counts()"
   ]
  },
  {
   "cell_type": "code",
   "execution_count": 17,
   "id": "a3fe56d3",
   "metadata": {
    "execution": {
     "iopub.execute_input": "2021-10-30T01:25:36.876164Z",
     "iopub.status.busy": "2021-10-30T01:25:36.875595Z",
     "iopub.status.idle": "2021-10-30T01:25:36.879380Z",
     "shell.execute_reply": "2021-10-30T01:25:36.878935Z",
     "shell.execute_reply.started": "2021-10-30T01:24:15.263090Z"
    },
    "papermill": {
     "duration": 0.073858,
     "end_time": "2021-10-30T01:25:36.879492",
     "exception": false,
     "start_time": "2021-10-30T01:25:36.805634",
     "status": "completed"
    },
    "tags": []
   },
   "outputs": [],
   "source": [
    "# As we see on barh graph class \"3\" is most popular between passengers  "
   ]
  },
  {
   "cell_type": "code",
   "execution_count": 18,
   "id": "d2ebd393",
   "metadata": {
    "execution": {
     "iopub.execute_input": "2021-10-30T01:25:37.053455Z",
     "iopub.status.busy": "2021-10-30T01:25:37.049060Z",
     "iopub.status.idle": "2021-10-30T01:25:37.203533Z",
     "shell.execute_reply": "2021-10-30T01:25:37.203926Z",
     "shell.execute_reply.started": "2021-10-30T01:24:15.268260Z"
    },
    "papermill": {
     "duration": 0.254813,
     "end_time": "2021-10-30T01:25:37.204079",
     "exception": false,
     "start_time": "2021-10-30T01:25:36.949266",
     "status": "completed"
    },
    "tags": []
   },
   "outputs": [
    {
     "data": {
      "text/plain": [
       "male      577\n",
       "female    314\n",
       "Name: Sex, dtype: int64"
      ]
     },
     "execution_count": 18,
     "metadata": {},
     "output_type": "execute_result"
    },
    {
     "data": {
      "image/png": "[encoded data removed]",
      "text/plain": [
       "<Figure size 425.197x283.465 with 1 Axes>"
      ]
     },
     "metadata": {
      "needs_background": "light"
     },
     "output_type": "display_data"
    }
   ],
   "source": [
    "# EXPLORE FEATURES:\n",
    "# sex - Sex\n",
    "train_data[COL_SEX].value_counts().plot(kind='barh')\n",
    "train_data[COL_SEX].value_counts()"
   ]
  },
  {
   "cell_type": "code",
   "execution_count": 19,
   "id": "72a195c7",
   "metadata": {
    "execution": {
     "iopub.execute_input": "2021-10-30T01:25:37.345751Z",
     "iopub.status.busy": "2021-10-30T01:25:37.344129Z",
     "iopub.status.idle": "2021-10-30T01:25:37.346358Z",
     "shell.execute_reply": "2021-10-30T01:25:37.346761Z",
     "shell.execute_reply.started": "2021-10-30T01:24:15.446274Z"
    },
    "papermill": {
     "duration": 0.075434,
     "end_time": "2021-10-30T01:25:37.346924",
     "exception": false,
     "start_time": "2021-10-30T01:25:37.271490",
     "status": "completed"
    },
    "tags": []
   },
   "outputs": [],
   "source": [
    "# As we see on barh graph women was almost twice more then men, so.. how much influence does gender have on your survival on the Titanic? See later"
   ]
  },
  {
   "cell_type": "code",
   "execution_count": 20,
   "id": "0309bef0",
   "metadata": {
    "execution": {
     "iopub.execute_input": "2021-10-30T01:25:37.505703Z",
     "iopub.status.busy": "2021-10-30T01:25:37.504743Z",
     "iopub.status.idle": "2021-10-30T01:25:37.565744Z",
     "shell.execute_reply": "2021-10-30T01:25:37.566200Z",
     "shell.execute_reply.started": "2021-10-30T01:24:15.451007Z"
    },
    "papermill": {
     "duration": 0.152285,
     "end_time": "2021-10-30T01:25:37.566355",
     "exception": false,
     "start_time": "2021-10-30T01:25:37.414070",
     "status": "completed"
    },
    "tags": []
   },
   "outputs": [
    {
     "data": {
      "text/plain": [
       "S    644\n",
       "C    168\n",
       "Q     77\n",
       "Name: Embarked, dtype: int64"
      ]
     },
     "execution_count": 20,
     "metadata": {},
     "output_type": "execute_result"
    },
    {
     "data": {
      "image/png": "[encoded data removed]",
      "text/plain": [
       "<Figure size 425.197x283.465 with 1 Axes>"
      ]
     },
     "metadata": {},
     "output_type": "display_data"
    }
   ],
   "source": [
    "# EXPLORE FEATURES: \n",
    "# embarked - Port of Embarkation (C = Cherbourg; Q = Queenstown; S = Southampton)\n",
    "train_data[COL_EPORT].value_counts().plot.pie()\n",
    "train_data[COL_EPORT].value_counts()"
   ]
  },
  {
   "cell_type": "code",
   "execution_count": 21,
   "id": "5ce02add",
   "metadata": {
    "execution": {
     "iopub.execute_input": "2021-10-30T01:25:37.742921Z",
     "iopub.status.busy": "2021-10-30T01:25:37.735652Z",
     "iopub.status.idle": "2021-10-30T01:25:37.889717Z",
     "shell.execute_reply": "2021-10-30T01:25:37.890145Z",
     "shell.execute_reply.started": "2021-10-30T01:24:15.533604Z"
    },
    "papermill": {
     "duration": 0.255274,
     "end_time": "2021-10-30T01:25:37.890305",
     "exception": false,
     "start_time": "2021-10-30T01:25:37.635031",
     "status": "completed"
    },
    "tags": []
   },
   "outputs": [
    {
     "data": {
      "text/plain": [
       "S    644\n",
       "C    168\n",
       "Q     77\n",
       "Name: Embarked, dtype: int64"
      ]
     },
     "execution_count": 21,
     "metadata": {},
     "output_type": "execute_result"
    },
    {
     "data": {
      "image/png": "[encoded data removed]",
      "text/plain": [
       "<Figure size 425.197x283.465 with 1 Axes>"
      ]
     },
     "metadata": {
      "needs_background": "light"
     },
     "output_type": "display_data"
    }
   ],
   "source": [
    "# EXPLORE FEATURES: \n",
    "# embarked - Port of Embarkation (C = Cherbourg; Q = Queenstown; S = Southampton)\n",
    "train_data[COL_EPORT].value_counts().plot(kind='barh')\n",
    "train_data[COL_EPORT].value_counts()"
   ]
  },
  {
   "cell_type": "code",
   "execution_count": 22,
   "id": "662fb772",
   "metadata": {
    "execution": {
     "iopub.execute_input": "2021-10-30T01:25:38.039055Z",
     "iopub.status.busy": "2021-10-30T01:25:38.038468Z",
     "iopub.status.idle": "2021-10-30T01:25:38.042267Z",
     "shell.execute_reply": "2021-10-30T01:25:38.041836Z",
     "shell.execute_reply.started": "2021-10-30T01:24:15.707067Z"
    },
    "papermill": {
     "duration": 0.076724,
     "end_time": "2021-10-30T01:25:38.042384",
     "exception": false,
     "start_time": "2021-10-30T01:25:37.965660",
     "status": "completed"
    },
    "tags": []
   },
   "outputs": [],
   "source": [
    "# As we see on barh graph, there are much more passengers from port \"S\" than others,  so.. how much influence does port of embarkation? See later"
   ]
  },
  {
   "cell_type": "code",
   "execution_count": 23,
   "id": "7b63f5c6",
   "metadata": {
    "execution": {
     "iopub.execute_input": "2021-10-30T01:25:38.188806Z",
     "iopub.status.busy": "2021-10-30T01:25:38.187587Z",
     "iopub.status.idle": "2021-10-30T01:25:38.191455Z",
     "shell.execute_reply": "2021-10-30T01:25:38.190883Z",
     "shell.execute_reply.started": "2021-10-30T01:24:15.712781Z"
    },
    "papermill": {
     "duration": 0.079704,
     "end_time": "2021-10-30T01:25:38.191591",
     "exception": false,
     "start_time": "2021-10-30T01:25:38.111887",
     "status": "completed"
    },
    "tags": []
   },
   "outputs": [
    {
     "data": {
      "text/plain": [
       "29.69911764705882"
      ]
     },
     "execution_count": 23,
     "metadata": {},
     "output_type": "execute_result"
    }
   ],
   "source": [
    "# EXPLORE FEATURES: \n",
    "# age - Age distribution\n",
    "train_data[COL_AGE].mean() # Средний возраст пассажира"
   ]
  },
  {
   "cell_type": "code",
   "execution_count": 24,
   "id": "41fc1c1d",
   "metadata": {
    "execution": {
     "iopub.execute_input": "2021-10-30T01:25:38.335051Z",
     "iopub.status.busy": "2021-10-30T01:25:38.334229Z",
     "iopub.status.idle": "2021-10-30T01:25:38.562287Z",
     "shell.execute_reply": "2021-10-30T01:25:38.562963Z",
     "shell.execute_reply.started": "2021-10-30T01:24:15.726741Z"
    },
    "papermill": {
     "duration": 0.30228,
     "end_time": "2021-10-30T01:25:38.563125",
     "exception": false,
     "start_time": "2021-10-30T01:25:38.260845",
     "status": "completed"
    },
    "tags": []
   },
   "outputs": [
    {
     "data": {
      "text/plain": [
       "24.00    30\n",
       "22.00    27\n",
       "18.00    26\n",
       "19.00    25\n",
       "28.00    25\n",
       "         ..\n",
       "36.50     1\n",
       "55.50     1\n",
       "0.92      1\n",
       "23.50     1\n",
       "74.00     1\n",
       "Name: Age, Length: 88, dtype: int64"
      ]
     },
     "execution_count": 24,
     "metadata": {},
     "output_type": "execute_result"
    },
    {
     "data": {
      "image/png": "[encoded data removed]",
      "text/plain": [
       "<Figure size 425.197x283.465 with 1 Axes>"
      ]
     },
     "metadata": {
      "needs_background": "light"
     },
     "output_type": "display_data"
    }
   ],
   "source": [
    "# Age distribution\n",
    "train_data[COL_AGE].plot(kind='hist')\n",
    "train_data[COL_AGE].value_counts()"
   ]
  },
  {
   "cell_type": "code",
   "execution_count": 25,
   "id": "29e7abeb",
   "metadata": {
    "execution": {
     "iopub.execute_input": "2021-10-30T01:25:38.714716Z",
     "iopub.status.busy": "2021-10-30T01:25:38.713523Z",
     "iopub.status.idle": "2021-10-30T01:25:38.717318Z",
     "shell.execute_reply": "2021-10-30T01:25:38.716786Z",
     "shell.execute_reply.started": "2021-10-30T01:24:15.972319Z"
    },
    "papermill": {
     "duration": 0.083918,
     "end_time": "2021-10-30T01:25:38.717457",
     "exception": false,
     "start_time": "2021-10-30T01:25:38.633539",
     "status": "completed"
    },
    "tags": []
   },
   "outputs": [
    {
     "data": {
      "text/plain": [
       "PassengerId     0.000000\n",
       "Survived        0.000000\n",
       "Pclass          0.000000\n",
       "Name            0.000000\n",
       "Sex             0.000000\n",
       "Age            19.865320\n",
       "SibSp           0.000000\n",
       "Parch           0.000000\n",
       "Ticket          0.000000\n",
       "Fare            0.000000\n",
       "Cabin           0.112233\n",
       "Embarked        0.224467\n",
       "Cabin_Group     0.000000\n",
       "dtype: float64"
      ]
     },
     "execution_count": 25,
     "metadata": {},
     "output_type": "execute_result"
    }
   ],
   "source": [
    "# How many data from column 'Age' is missing (in percentage)?\n",
    "train_data.isna().sum()/train_data.shape[0]*100"
   ]
  },
  {
   "cell_type": "code",
   "execution_count": 26,
   "id": "76de37b8",
   "metadata": {
    "execution": {
     "iopub.execute_input": "2021-10-30T01:25:38.874144Z",
     "iopub.status.busy": "2021-10-30T01:25:38.873436Z",
     "iopub.status.idle": "2021-10-30T01:25:38.878298Z",
     "shell.execute_reply": "2021-10-30T01:25:38.877824Z",
     "shell.execute_reply.started": "2021-10-30T01:24:15.984214Z"
    },
    "papermill": {
     "duration": 0.085019,
     "end_time": "2021-10-30T01:25:38.878413",
     "exception": false,
     "start_time": "2021-10-30T01:25:38.793394",
     "status": "completed"
    },
    "tags": []
   },
   "outputs": [
    {
     "data": {
      "text/plain": [
       "PassengerId    0.000000\n",
       "Survived       0.000000\n",
       "Pclass         0.000000\n",
       "Name           0.000000\n",
       "Sex            0.000000\n",
       "Age            0.000000\n",
       "SibSp          0.000000\n",
       "Parch          0.000000\n",
       "Ticket         0.000000\n",
       "Fare           0.000000\n",
       "Cabin          0.112233\n",
       "Embarked       0.224467\n",
       "Cabin_Group    0.000000\n",
       "dtype: float64"
      ]
     },
     "execution_count": 26,
     "metadata": {},
     "output_type": "execute_result"
    }
   ],
   "source": [
    "# Data from column 'Age' which is missing was filled using pandas module\n",
    "\n",
    "mean_age = train_data[COL_AGE].mean()\n",
    "# train_data[COL_AGE].fillna(mean_age)\n",
    "train_data[COL_AGE] = train_data[COL_AGE].fillna(method = \"ffill\")\n",
    "\n",
    "train_data.isna().sum()/train_data.shape[0]*100"
   ]
  },
  {
   "cell_type": "code",
   "execution_count": 27,
   "id": "2e1dde95",
   "metadata": {
    "execution": {
     "iopub.execute_input": "2021-10-30T01:25:39.040800Z",
     "iopub.status.busy": "2021-10-30T01:25:39.031112Z",
     "iopub.status.idle": "2021-10-30T01:25:39.251516Z",
     "shell.execute_reply": "2021-10-30T01:25:39.251090Z",
     "shell.execute_reply.started": "2021-10-30T01:24:16.000706Z"
    },
    "papermill": {
     "duration": 0.299939,
     "end_time": "2021-10-30T01:25:39.251648",
     "exception": false,
     "start_time": "2021-10-30T01:25:38.951709",
     "status": "completed"
    },
    "tags": []
   },
   "outputs": [
    {
     "data": {
      "text/plain": [
       "0      0.22\n",
       "1      0.38\n",
       "2      0.26\n",
       "3      0.35\n",
       "4      0.35\n",
       "       ... \n",
       "886    0.27\n",
       "887    0.19\n",
       "888    0.19\n",
       "889    0.26\n",
       "890    0.32\n",
       "Name: Age_Scaled, Length: 891, dtype: float64"
      ]
     },
     "execution_count": 27,
     "metadata": {},
     "output_type": "execute_result"
    },
    {
     "data": {
      "image/png": "[encoded data removed]",
      "text/plain": [
       "<Figure size 425.197x283.465 with 1 Axes>"
      ]
     },
     "metadata": {
      "needs_background": "light"
     },
     "output_type": "display_data"
    }
   ],
   "source": [
    "# ADD NEW FEATURE: COL_AGE_SCALED try explore new feature\n",
    "train_data[COL_AGE_SCALED] = train_data[COL_AGE].map(lambda age: age/100)\n",
    "train_data[COL_AGE_SCALED].plot(kind='hist')\n",
    "train_data[COL_AGE_SCALED]\n",
    "# Scaled age's data could be pretty usefull for mode"
   ]
  },
  {
   "cell_type": "code",
   "execution_count": 28,
   "id": "00f99abd",
   "metadata": {
    "execution": {
     "iopub.execute_input": "2021-10-30T01:25:39.424679Z",
     "iopub.status.busy": "2021-10-30T01:25:39.404247Z",
     "iopub.status.idle": "2021-10-30T01:25:39.633828Z",
     "shell.execute_reply": "2021-10-30T01:25:39.633204Z",
     "shell.execute_reply.started": "2021-10-30T01:24:16.226965Z"
    },
    "papermill": {
     "duration": 0.310952,
     "end_time": "2021-10-30T01:25:39.634007",
     "exception": false,
     "start_time": "2021-10-30T01:25:39.323055",
     "status": "completed"
    },
    "tags": []
   },
   "outputs": [
    {
     "data": {
      "text/plain": [
       "2    266\n",
       "3    211\n",
       "1    129\n",
       "4    111\n",
       "0     82\n",
       "5     62\n",
       "6     23\n",
       "7      6\n",
       "8      1\n",
       "Name: Age_Group, dtype: int64"
      ]
     },
     "execution_count": 28,
     "metadata": {},
     "output_type": "execute_result"
    },
    {
     "data": {
      "image/png": "[encoded data removed]",
      "text/plain": [
       "<Figure size 425.197x283.465 with 1 Axes>"
      ]
     },
     "metadata": {
      "needs_background": "light"
     },
     "output_type": "display_data"
    }
   ],
   "source": [
    "# ADD NEW FEATURE: COL_AGE_GROUP try explore new feature\n",
    "# There were passenger belonging to age groups:\n",
    "# 0: 0 - 9\n",
    "# 1: 10 - 19\n",
    "# 2: 20 - 29\n",
    "# 3: 30 - 39\n",
    "# 4: 40 - 49\n",
    "# 5: 50 - 59\n",
    "# 6: 60 - 69\n",
    "# 7: 70 - 79\n",
    "# 8: 80 - 89\n",
    "# 9: 90 - 99\n",
    "\n",
    "def COL_AGE_GROUP_process(age_delta:int  ,df: pd.DataFrame) -> pd.core.series.Series:\n",
    "    df[COL_AGE] = df[COL_AGE].fillna(method = \"ffill\")\n",
    "    return train_data[COL_AGE].map(lambda age: int(age//age_delta))\n",
    "\n",
    "train_data[COL_AGE_GROUP] = COL_AGE_GROUP_process(10,train_data)\n",
    "train_data[COL_AGE_GROUP][:SHOW_DATA]\n",
    "train_data[COL_AGE_GROUP].plot(kind='hist')\n",
    "train_data[COL_AGE_GROUP].value_counts()\n",
    "# Should be similar to the normal distribution"
   ]
  },
  {
   "cell_type": "code",
   "execution_count": 29,
   "id": "db9128bb",
   "metadata": {
    "execution": {
     "iopub.execute_input": "2021-10-30T01:25:39.815285Z",
     "iopub.status.busy": "2021-10-30T01:25:39.814379Z",
     "iopub.status.idle": "2021-10-30T01:25:39.907089Z",
     "shell.execute_reply": "2021-10-30T01:25:39.907464Z",
     "shell.execute_reply.started": "2021-10-30T01:24:16.452419Z"
    },
    "papermill": {
     "duration": 0.199407,
     "end_time": "2021-10-30T01:25:39.907610",
     "exception": false,
     "start_time": "2021-10-30T01:25:39.708203",
     "status": "completed"
    },
    "tags": []
   },
   "outputs": [
    {
     "data": {
      "text/plain": [
       "2    266\n",
       "3    211\n",
       "1    129\n",
       "4    111\n",
       "0     82\n",
       "5     62\n",
       "6     23\n",
       "7      6\n",
       "8      1\n",
       "Name: Age_Group, dtype: int64"
      ]
     },
     "execution_count": 29,
     "metadata": {},
     "output_type": "execute_result"
    },
    {
     "data": {
      "image/png": "[encoded data removed]",
      "text/plain": [
       "<Figure size 425.197x283.465 with 1 Axes>"
      ]
     },
     "metadata": {},
     "output_type": "display_data"
    }
   ],
   "source": [
    "train_data[COL_AGE_GROUP].value_counts().plot.pie()\n",
    "train_data[COL_AGE_GROUP].value_counts()"
   ]
  },
  {
   "cell_type": "code",
   "execution_count": 30,
   "id": "dbf4a34e",
   "metadata": {
    "execution": {
     "iopub.execute_input": "2021-10-30T01:25:40.065840Z",
     "iopub.status.busy": "2021-10-30T01:25:40.059795Z",
     "iopub.status.idle": "2021-10-30T01:25:40.288083Z",
     "shell.execute_reply": "2021-10-30T01:25:40.287624Z",
     "shell.execute_reply.started": "2021-10-30T01:24:16.567259Z"
    },
    "papermill": {
     "duration": 0.306223,
     "end_time": "2021-10-30T01:25:40.288215",
     "exception": false,
     "start_time": "2021-10-30T01:25:39.981992",
     "status": "completed"
    },
    "tags": []
   },
   "outputs": [
    {
     "data": {
      "text/plain": [
       "1    376\n",
       "2    322\n",
       "0    101\n",
       "3     92\n",
       "Name: Age_Group_2, dtype: int64"
      ]
     },
     "execution_count": 30,
     "metadata": {},
     "output_type": "execute_result"
    },
    {
     "data": {
      "image/png": "[encoded data removed]",
      "text/plain": [
       "<Figure size 425.197x283.465 with 1 Axes>"
      ]
     },
     "metadata": {
      "needs_background": "light"
     },
     "output_type": "display_data"
    }
   ],
   "source": [
    "#but lets try with just  4 group:\n",
    "# [0 < 15] - child\n",
    "# [15 - 30] - teenager\n",
    "# [30 - 50] - adult\n",
    "# [50 > ] - aged\n",
    "\n",
    "#categorical function for map\n",
    "def categorical_age(age: float)-> int:\n",
    "    if age < 15:\n",
    "        return 0\n",
    "    elif age <30:\n",
    "        return 1\n",
    "    elif age <50:\n",
    "        return 2\n",
    "    else:\n",
    "        return 3\n",
    "\n",
    "\n",
    "# For create new feature\n",
    "def COL_AGE_GROUP_process_2(df: pd.DataFrame) -> pd.core.series.Series:\n",
    "    # split data on 4 group: [ < 50], [50 - 100], [100 - 300], [300 > ]\n",
    "    df[COL_AGE] = df[COL_AGE].fillna(method = \"ffill\")\n",
    "    return df[COL_AGE].map(categorical_age)\n",
    "\n",
    "\n",
    "train_data[COL_AGE_GROUP_2] = COL_AGE_GROUP_process_2(train_data)\n",
    "train_data[COL_AGE_GROUP_2][:SHOW_DATA]\n",
    "train_data[COL_AGE_GROUP_2].plot.hist()\n",
    "train_data[COL_AGE_GROUP_2].value_counts()"
   ]
  },
  {
   "cell_type": "code",
   "execution_count": 31,
   "id": "57c46455",
   "metadata": {
    "execution": {
     "iopub.execute_input": "2021-10-30T01:25:40.451057Z",
     "iopub.status.busy": "2021-10-30T01:25:40.450030Z",
     "iopub.status.idle": "2021-10-30T01:25:40.565843Z",
     "shell.execute_reply": "2021-10-30T01:25:40.566301Z",
     "shell.execute_reply.started": "2021-10-30T01:24:16.818663Z"
    },
    "papermill": {
     "duration": 0.20445,
     "end_time": "2021-10-30T01:25:40.566450",
     "exception": false,
     "start_time": "2021-10-30T01:25:40.362000",
     "status": "completed"
    },
    "tags": []
   },
   "outputs": [
    {
     "data": {
      "text/plain": [
       "0    678\n",
       "1    118\n",
       "2     80\n",
       "5      5\n",
       "3      5\n",
       "4      4\n",
       "6      1\n",
       "Name: Parch, dtype: int64"
      ]
     },
     "execution_count": 31,
     "metadata": {},
     "output_type": "execute_result"
    },
    {
     "data": {
      "image/png": "[encoded data removed]",
      "text/plain": [
       "<Figure size 425.197x283.465 with 1 Axes>"
      ]
     },
     "metadata": {},
     "output_type": "display_data"
    }
   ],
   "source": [
    "# EXPLORE FEATURES: \n",
    "# parch - Number of Parents/Children Aboard \n",
    "train_data[COL_PARCH].value_counts().plot.pie()\n",
    "train_data[COL_PARCH].value_counts()"
   ]
  },
  {
   "cell_type": "code",
   "execution_count": 32,
   "id": "7787c644",
   "metadata": {
    "execution": {
     "iopub.execute_input": "2021-10-30T01:25:40.741673Z",
     "iopub.status.busy": "2021-10-30T01:25:40.738369Z",
     "iopub.status.idle": "2021-10-30T01:25:40.930904Z",
     "shell.execute_reply": "2021-10-30T01:25:40.931450Z",
     "shell.execute_reply.started": "2021-10-30T01:24:16.978625Z"
    },
    "papermill": {
     "duration": 0.288315,
     "end_time": "2021-10-30T01:25:40.931601",
     "exception": false,
     "start_time": "2021-10-30T01:25:40.643286",
     "status": "completed"
    },
    "tags": []
   },
   "outputs": [
    {
     "data": {
      "text/plain": [
       "0    678\n",
       "1    118\n",
       "2     80\n",
       "5      5\n",
       "3      5\n",
       "4      4\n",
       "6      1\n",
       "Name: Parch, dtype: int64"
      ]
     },
     "execution_count": 32,
     "metadata": {},
     "output_type": "execute_result"
    },
    {
     "data": {
      "image/png": "[encoded data removed]",
      "text/plain": [
       "<Figure size 425.197x283.465 with 1 Axes>"
      ]
     },
     "metadata": {
      "needs_background": "light"
     },
     "output_type": "display_data"
    }
   ],
   "source": [
    "# EXPLORE FEATURES: \n",
    "# parch - Number of Parents/Children Aboard \n",
    "train_data[COL_PARCH].value_counts().plot(kind='barh')\n",
    "train_data[COL_PARCH].value_counts()"
   ]
  },
  {
   "cell_type": "code",
   "execution_count": 33,
   "id": "75af6469",
   "metadata": {
    "execution": {
     "iopub.execute_input": "2021-10-30T01:25:41.107221Z",
     "iopub.status.busy": "2021-10-30T01:25:41.106349Z",
     "iopub.status.idle": "2021-10-30T01:25:41.280735Z",
     "shell.execute_reply": "2021-10-30T01:25:41.280318Z",
     "shell.execute_reply.started": "2021-10-30T01:24:17.195198Z"
    },
    "papermill": {
     "duration": 0.273688,
     "end_time": "2021-10-30T01:25:41.280878",
     "exception": false,
     "start_time": "2021-10-30T01:25:41.007190",
     "status": "completed"
    },
    "tags": []
   },
   "outputs": [
    {
     "data": {
      "text/plain": [
       "23.905723905723907"
      ]
     },
     "execution_count": 33,
     "metadata": {},
     "output_type": "execute_result"
    },
    {
     "data": {
      "image/png": "[encoded data removed]",
      "text/plain": [
       "<Figure size 425.197x283.465 with 1 Axes>"
      ]
     },
     "metadata": {
      "needs_background": "light"
     },
     "output_type": "display_data"
    }
   ],
   "source": [
    "# Let's see only on parents\n",
    "train_data[COL_PARCH].value_counts()[1:].plot(kind='barh')\n",
    "sum(train_data[COL_PARCH].value_counts()[1:])/sum(train_data[COL_PARCH].value_counts())*100\n",
    "# percentage of families with children in relation to the rest"
   ]
  },
  {
   "cell_type": "code",
   "execution_count": 34,
   "id": "5f79cf34",
   "metadata": {
    "execution": {
     "iopub.execute_input": "2021-10-30T01:25:41.443936Z",
     "iopub.status.busy": "2021-10-30T01:25:41.443088Z",
     "iopub.status.idle": "2021-10-30T01:25:41.686766Z",
     "shell.execute_reply": "2021-10-30T01:25:41.687182Z",
     "shell.execute_reply.started": "2021-10-30T01:24:17.384629Z"
    },
    "papermill": {
     "duration": 0.330001,
     "end_time": "2021-10-30T01:25:41.687334",
     "exception": false,
     "start_time": "2021-10-30T01:25:41.357333",
     "status": "completed"
    },
    "tags": []
   },
   "outputs": [
    {
     "data": {
      "text/plain": [
       "0    678\n",
       "1    118\n",
       "2     95\n",
       "Name: Parch_Group, dtype: int64"
      ]
     },
     "execution_count": 34,
     "metadata": {},
     "output_type": "execute_result"
    },
    {
     "data": {
      "image/png": "[encoded data removed]",
      "text/plain": [
       "<Figure size 425.197x283.465 with 1 Axes>"
      ]
     },
     "metadata": {
      "needs_background": "light"
     },
     "output_type": "display_data"
    }
   ],
   "source": [
    " # split data on 3 group: [0], [1], [2 > ]\n",
    "train_data[COL_PARCH_GROUP] = train_data[COL_PARCH].map(lambda sibsp: 2 if sibsp >= 2 else sibsp) \n",
    "\n",
    " # split data on 2 group: [0], [1 > ]\n",
    "train_data[COL_PARCH_GROUP_2] = train_data[COL_PARCH].map(lambda sibsp: 1 if sibsp >= 1 else 0)\n",
    "\n",
    "train_data[COL_PARCH_GROUP].plot.hist()\n",
    "train_data[COL_PARCH_GROUP].value_counts()"
   ]
  },
  {
   "cell_type": "code",
   "execution_count": 35,
   "id": "214a64a5",
   "metadata": {
    "execution": {
     "iopub.execute_input": "2021-10-30T01:25:41.871982Z",
     "iopub.status.busy": "2021-10-30T01:25:41.860815Z",
     "iopub.status.idle": "2021-10-30T01:25:42.099042Z",
     "shell.execute_reply": "2021-10-30T01:25:42.099614Z",
     "shell.execute_reply.started": "2021-10-30T01:24:17.627246Z"
    },
    "papermill": {
     "duration": 0.328894,
     "end_time": "2021-10-30T01:25:42.099798",
     "exception": false,
     "start_time": "2021-10-30T01:25:41.770904",
     "status": "completed"
    },
    "tags": []
   },
   "outputs": [
    {
     "data": {
      "text/plain": [
       "0    678\n",
       "1    213\n",
       "Name: Parch_Group_2, dtype: int64"
      ]
     },
     "execution_count": 35,
     "metadata": {},
     "output_type": "execute_result"
    },
    {
     "data": {
      "image/png": "[encoded data removed]",
      "text/plain": [
       "<Figure size 425.197x283.465 with 1 Axes>"
      ]
     },
     "metadata": {
      "needs_background": "light"
     },
     "output_type": "display_data"
    }
   ],
   "source": [
    "train_data[COL_PARCH_GROUP_2].plot.hist()\n",
    "train_data[COL_PARCH_GROUP_2].value_counts()"
   ]
  },
  {
   "cell_type": "code",
   "execution_count": 36,
   "id": "b511285e",
   "metadata": {
    "execution": {
     "iopub.execute_input": "2021-10-30T01:25:42.266231Z",
     "iopub.status.busy": "2021-10-30T01:25:42.264614Z",
     "iopub.status.idle": "2021-10-30T01:25:42.487644Z",
     "shell.execute_reply": "2021-10-30T01:25:42.487164Z",
     "shell.execute_reply.started": "2021-10-30T01:24:17.854650Z"
    },
    "papermill": {
     "duration": 0.306367,
     "end_time": "2021-10-30T01:25:42.487771",
     "exception": false,
     "start_time": "2021-10-30T01:25:42.181404",
     "status": "completed"
    },
    "tags": []
   },
   "outputs": [
    {
     "data": {
      "text/plain": [
       "8.0500     43\n",
       "13.0000    42\n",
       "7.8958     38\n",
       "7.7500     34\n",
       "26.0000    31\n",
       "           ..\n",
       "35.0000     1\n",
       "28.5000     1\n",
       "6.2375      1\n",
       "14.0000     1\n",
       "10.5167     1\n",
       "Name: Fare, Length: 248, dtype: int64"
      ]
     },
     "execution_count": 36,
     "metadata": {},
     "output_type": "execute_result"
    },
    {
     "data": {
      "image/png": "[encoded data removed]",
      "text/plain": [
       "<Figure size 425.197x283.465 with 1 Axes>"
      ]
     },
     "metadata": {
      "needs_background": "light"
     },
     "output_type": "display_data"
    }
   ],
   "source": [
    "# EXPLORE FEATURES: \n",
    "# fare - Passenger Fare                     // could be convert to fare_group\n",
    "train_data[COL_FARE].plot(kind = \"hist\")\n",
    "train_data[COL_FARE].value_counts()"
   ]
  },
  {
   "cell_type": "code",
   "execution_count": 37,
   "id": "f91cc677",
   "metadata": {
    "execution": {
     "iopub.execute_input": "2021-10-30T01:25:42.656001Z",
     "iopub.status.busy": "2021-10-30T01:25:42.654421Z",
     "iopub.status.idle": "2021-10-30T01:25:42.656556Z",
     "shell.execute_reply": "2021-10-30T01:25:42.656988Z",
     "shell.execute_reply.started": "2021-10-30T01:24:18.195992Z"
    },
    "papermill": {
     "duration": 0.088359,
     "end_time": "2021-10-30T01:25:42.657129",
     "exception": false,
     "start_time": "2021-10-30T01:25:42.568770",
     "status": "completed"
    },
    "tags": []
   },
   "outputs": [],
   "source": [
    "# As expected, the cheapest tariff is the most. Bat it doesn't informative lets make new feature: group of tariff"
   ]
  },
  {
   "cell_type": "code",
   "execution_count": 38,
   "id": "eeb66412",
   "metadata": {
    "execution": {
     "iopub.execute_input": "2021-10-30T01:25:42.825912Z",
     "iopub.status.busy": "2021-10-30T01:25:42.824924Z",
     "iopub.status.idle": "2021-10-30T01:25:43.184057Z",
     "shell.execute_reply": "2021-10-30T01:25:43.183598Z",
     "shell.execute_reply.started": "2021-10-30T01:24:18.202077Z"
    },
    "papermill": {
     "duration": 0.447639,
     "end_time": "2021-10-30T01:25:43.184191",
     "exception": false,
     "start_time": "2021-10-30T01:25:42.736552",
     "status": "completed"
    },
    "tags": []
   },
   "outputs": [
    {
     "data": {
      "text/plain": [
       "0     730\n",
       "1     108\n",
       "2      24\n",
       "4      11\n",
       "3       9\n",
       "5       6\n",
       "10      3\n",
       "Name: Fare_Group, dtype: int64"
      ]
     },
     "execution_count": 38,
     "metadata": {},
     "output_type": "execute_result"
    },
    {
     "data": {
      "image/png": "[encoded data removed]",
      "text/plain": [
       "<Figure size 425.197x283.465 with 1 Axes>"
      ]
     },
     "metadata": {
      "needs_background": "light"
     },
     "output_type": "display_data"
    }
   ],
   "source": [
    "# For create new feature\n",
    "def COL_FARE_GROUP_process(delta: int, df: pd.DataFrame) -> pd.core.series.Series:\n",
    "    # split data in increments 'delta' \n",
    "    # sample: delta = 10 then fare of 0 : 0 - 9 \n",
    "    #                    and  fare of 1 : 10 - 19\n",
    "    #                    and ...\n",
    "\n",
    "    df[COL_FARE] = df[COL_FARE].fillna(method = \"ffill\")\n",
    "    return df[COL_FARE].map(lambda fare: int(fare//delta))\n",
    "\n",
    "\n",
    "train_data[COL_FARE_GROUP] = COL_FARE_GROUP_process(50,train_data)\n",
    "train_data[COL_FARE_GROUP][:SHOW_DATA]\n",
    "train_data[COL_FARE_GROUP].plot.hist()\n",
    "train_data[COL_FARE_GROUP].value_counts()"
   ]
  },
  {
   "cell_type": "code",
   "execution_count": 39,
   "id": "160624b4",
   "metadata": {
    "execution": {
     "iopub.execute_input": "2021-10-30T01:25:43.354354Z",
     "iopub.status.busy": "2021-10-30T01:25:43.353456Z",
     "iopub.status.idle": "2021-10-30T01:25:43.569355Z",
     "shell.execute_reply": "2021-10-30T01:25:43.569737Z",
     "shell.execute_reply.started": "2021-10-30T01:24:18.429295Z"
    },
    "papermill": {
     "duration": 0.30513,
     "end_time": "2021-10-30T01:25:43.569904",
     "exception": false,
     "start_time": "2021-10-30T01:25:43.264774",
     "status": "completed"
    },
    "tags": []
   },
   "outputs": [
    {
     "data": {
      "text/plain": [
       "0    515\n",
       "1    215\n",
       "2    108\n",
       "3     53\n",
       "Name: Fare_Group_2, dtype: int64"
      ]
     },
     "execution_count": 39,
     "metadata": {},
     "output_type": "execute_result"
    },
    {
     "data": {
      "image/png": "[encoded data removed]",
      "text/plain": [
       "<Figure size 425.197x283.465 with 1 Axes>"
      ]
     },
     "metadata": {
      "needs_background": "light"
     },
     "output_type": "display_data"
    }
   ],
   "source": [
    "#but lets try with just  4 group: [ < 20], [20 - 50], [50 - 100], [100 > ]\n",
    "#categorical function for map\n",
    "def categorical_fare(fare: float)-> int:\n",
    "    if fare < 20:\n",
    "        return 0\n",
    "    elif fare <50:\n",
    "        return 1\n",
    "    elif fare <100:\n",
    "        return 2\n",
    "    else:\n",
    "        return 3\n",
    "\n",
    "\n",
    "# For create new feature\n",
    "def COL_FARE_GROUP_process_2(df: pd.DataFrame) -> pd.core.series.Series:\n",
    "    # split data on 4 group: [ < 50], [50 - 100], [100 - 300], [300 > ]\n",
    "    df[COL_FARE] = df[COL_FARE].fillna(method = \"ffill\")\n",
    "    return df[COL_FARE].map(categorical_fare)\n",
    "\n",
    "\n",
    "train_data[COL_FARE_GROUP_2] = COL_FARE_GROUP_process_2(train_data)\n",
    "train_data[COL_FARE_GROUP_2][:SHOW_DATA]\n",
    "train_data[COL_FARE_GROUP_2].plot.hist()\n",
    "train_data[COL_FARE_GROUP_2].value_counts()"
   ]
  },
  {
   "cell_type": "code",
   "execution_count": 40,
   "id": "5667e1af",
   "metadata": {
    "execution": {
     "iopub.execute_input": "2021-10-30T01:25:43.737719Z",
     "iopub.status.busy": "2021-10-30T01:25:43.736438Z",
     "iopub.status.idle": "2021-10-30T01:25:43.744382Z",
     "shell.execute_reply": "2021-10-30T01:25:43.743835Z",
     "shell.execute_reply.started": "2021-10-30T01:24:18.650292Z"
    },
    "papermill": {
     "duration": 0.092801,
     "end_time": "2021-10-30T01:25:43.744507",
     "exception": false,
     "start_time": "2021-10-30T01:25:43.651706",
     "status": "completed"
    },
    "tags": []
   },
   "outputs": [
    {
     "data": {
      "text/plain": [
       "Fare\n",
       "0.0000      15\n",
       "4.0125       1\n",
       "5.0000       1\n",
       "6.2375       1\n",
       "6.4375       1\n",
       "            ..\n",
       "227.5250     4\n",
       "247.5208     2\n",
       "262.3750     2\n",
       "263.0000     4\n",
       "512.3292     3\n",
       "Length: 248, dtype: int64"
      ]
     },
     "execution_count": 40,
     "metadata": {},
     "output_type": "execute_result"
    }
   ],
   "source": [
    "#Looks much better\n",
    "train_data.groupby([COL_FARE]).size()"
   ]
  },
  {
   "cell_type": "code",
   "execution_count": 41,
   "id": "a33984fc",
   "metadata": {
    "execution": {
     "iopub.execute_input": "2021-10-30T01:25:43.943986Z",
     "iopub.status.busy": "2021-10-30T01:25:43.943053Z",
     "iopub.status.idle": "2021-10-30T01:25:44.128644Z",
     "shell.execute_reply": "2021-10-30T01:25:44.128020Z",
     "shell.execute_reply.started": "2021-10-30T01:24:18.661068Z"
    },
    "papermill": {
     "duration": 0.29606,
     "end_time": "2021-10-30T01:25:44.128787",
     "exception": false,
     "start_time": "2021-10-30T01:25:43.832727",
     "status": "completed"
    },
    "tags": []
   },
   "outputs": [
    {
     "data": {
      "text/plain": [
       "0    608\n",
       "1    209\n",
       "2     28\n",
       "4     18\n",
       "3     16\n",
       "8      7\n",
       "5      5\n",
       "Name: SibSp, dtype: int64"
      ]
     },
     "execution_count": 41,
     "metadata": {},
     "output_type": "execute_result"
    },
    {
     "data": {
      "image/png": "[encoded data removed]",
      "text/plain": [
       "<Figure size 425.197x283.465 with 1 Axes>"
      ]
     },
     "metadata": {
      "needs_background": "light"
     },
     "output_type": "display_data"
    }
   ],
   "source": [
    "# EXPLORE ANOTHER FEATURES: \n",
    "# sibsp - Number of Siblings/Spouses Aboard\n",
    "train_data[COL_SIBSP].value_counts().plot(kind='barh')\n",
    "# train_data[COL_SIBSP].value_counts().plot.pie()\n",
    "train_data[COL_SIBSP].value_counts()\n",
    "# train_data.groupby([COL_SIBSP]).size()"
   ]
  },
  {
   "cell_type": "code",
   "execution_count": 42,
   "id": "67d27763",
   "metadata": {
    "execution": {
     "iopub.execute_input": "2021-10-30T01:25:44.309487Z",
     "iopub.status.busy": "2021-10-30T01:25:44.308928Z",
     "iopub.status.idle": "2021-10-30T01:25:44.534116Z",
     "shell.execute_reply": "2021-10-30T01:25:44.533634Z",
     "shell.execute_reply.started": "2021-10-30T01:24:18.973814Z"
    },
    "papermill": {
     "duration": 0.315445,
     "end_time": "2021-10-30T01:25:44.534250",
     "exception": false,
     "start_time": "2021-10-30T01:25:44.218805",
     "status": "completed"
    },
    "tags": []
   },
   "outputs": [
    {
     "data": {
      "text/plain": [
       "0    608\n",
       "1    209\n",
       "2     74\n",
       "Name: SibSp_Group, dtype: int64"
      ]
     },
     "execution_count": 42,
     "metadata": {},
     "output_type": "execute_result"
    },
    {
     "data": {
      "image/png": "[encoded data removed]",
      "text/plain": [
       "<Figure size 425.197x283.465 with 1 Axes>"
      ]
     },
     "metadata": {
      "needs_background": "light"
     },
     "output_type": "display_data"
    }
   ],
   "source": [
    " # split data on 3 group: [0], [1], [2 > ]\n",
    "train_data[COL_SIBSP_GROUP] = train_data[COL_SIBSP].map(lambda sibsp: 2 if sibsp >= 2 else sibsp) \n",
    "\n",
    " # split data on 2 group: [0], [1 > ]\n",
    "train_data[COL_SIBSP_GROUP_2] = train_data[COL_SIBSP].map(lambda sibsp: 1 if sibsp >= 1 else 0)\n",
    "# train_data[COL_SIBSP_GROUP_2] = pd.cut(train_data[COL_SIBSP], bins=[0, 1, 10], include_lowest=True, labels=['0', 'mid', 'high'])\n",
    "train_data[COL_SIBSP_GROUP].plot.hist()\n",
    "train_data[COL_SIBSP_GROUP].value_counts()"
   ]
  },
  {
   "cell_type": "code",
   "execution_count": 43,
   "id": "61e1c251",
   "metadata": {
    "execution": {
     "iopub.execute_input": "2021-10-30T01:25:44.706766Z",
     "iopub.status.busy": "2021-10-30T01:25:44.704386Z",
     "iopub.status.idle": "2021-10-30T01:25:44.923839Z",
     "shell.execute_reply": "2021-10-30T01:25:44.923392Z",
     "shell.execute_reply.started": "2021-10-30T01:24:19.276040Z"
    },
    "papermill": {
     "duration": 0.307075,
     "end_time": "2021-10-30T01:25:44.923990",
     "exception": false,
     "start_time": "2021-10-30T01:25:44.616915",
     "status": "completed"
    },
    "tags": []
   },
   "outputs": [
    {
     "data": {
      "text/plain": [
       "0    608\n",
       "1    283\n",
       "Name: SibSp_Group_2, dtype: int64"
      ]
     },
     "execution_count": 43,
     "metadata": {},
     "output_type": "execute_result"
    },
    {
     "data": {
      "image/png": "[encoded data removed]",
      "text/plain": [
       "<Figure size 425.197x283.465 with 1 Axes>"
      ]
     },
     "metadata": {
      "needs_background": "light"
     },
     "output_type": "display_data"
    }
   ],
   "source": [
    "train_data[COL_SIBSP_GROUP_2].plot.hist()\n",
    "train_data[COL_SIBSP_GROUP_2].value_counts()"
   ]
  },
  {
   "cell_type": "code",
   "execution_count": 44,
   "id": "4c9703a4",
   "metadata": {
    "execution": {
     "iopub.execute_input": "2021-10-30T01:25:45.176887Z",
     "iopub.status.busy": "2021-10-30T01:25:45.176058Z",
     "iopub.status.idle": "2021-10-30T01:25:45.182769Z",
     "shell.execute_reply": "2021-10-30T01:25:45.183523Z",
     "shell.execute_reply.started": "2021-10-30T01:24:19.512631Z"
    },
    "papermill": {
     "duration": 0.163592,
     "end_time": "2021-10-30T01:25:45.183715",
     "exception": false,
     "start_time": "2021-10-30T01:25:45.020123",
     "status": "completed"
    },
    "tags": []
   },
   "outputs": [
    {
     "data": {
      "text/plain": [
       "0             A/5 21171\n",
       "1              PC 17599\n",
       "2      STON/O2. 3101282\n",
       "3                113803\n",
       "4                373450\n",
       "             ...       \n",
       "886              211536\n",
       "887              112053\n",
       "888          W./C. 6607\n",
       "889              111369\n",
       "890              370376\n",
       "Name: Ticket, Length: 891, dtype: object"
      ]
     },
     "execution_count": 44,
     "metadata": {},
     "output_type": "execute_result"
    }
   ],
   "source": [
    "#Look at last Ticket column\n",
    "train_data[COL_TICKET]"
   ]
  },
  {
   "cell_type": "code",
   "execution_count": 45,
   "id": "8627066d",
   "metadata": {
    "execution": {
     "iopub.execute_input": "2021-10-30T01:25:45.472022Z",
     "iopub.status.busy": "2021-10-30T01:25:45.471151Z",
     "iopub.status.idle": "2021-10-30T01:25:51.785364Z",
     "shell.execute_reply": "2021-10-30T01:25:51.785802Z",
     "shell.execute_reply.started": "2021-10-30T01:24:19.522205Z"
    },
    "papermill": {
     "duration": 6.465534,
     "end_time": "2021-10-30T01:25:51.785967",
     "exception": false,
     "start_time": "2021-10-30T01:25:45.320433",
     "status": "completed"
    },
    "tags": []
   },
   "outputs": [
    {
     "data": {
      "text/plain": [
       "347082          7\n",
       "CA. 2343        7\n",
       "1601            7\n",
       "3101295         6\n",
       "CA 2144         6\n",
       "347088          6\n",
       "S.O.C. 14879    5\n",
       "382652          5\n",
       "LINE            4\n",
       "PC 17757        4\n",
       "17421           4\n",
       "349909          4\n",
       "113760          4\n",
       "4133            4\n",
       "113781          4\n",
       "Name: Ticket, dtype: int64"
      ]
     },
     "execution_count": 45,
     "metadata": {},
     "output_type": "execute_result"
    },
    {
     "data": {
      "image/png": "[encoded data removed]",
      "text/plain": [
       "<Figure size 425.197x283.465 with 1 Axes>"
      ]
     },
     "metadata": {},
     "output_type": "display_data"
    }
   ],
   "source": [
    "#Looks unusless, but lets try count elements\n",
    "train_data[COL_TICKET].value_counts().plot.pie()\n",
    "train_data[COL_TICKET].value_counts()[:SHOW_DATA]\n"
   ]
  },
  {
   "cell_type": "code",
   "execution_count": 46,
   "id": "4fc6b81e",
   "metadata": {
    "execution": {
     "iopub.execute_input": "2021-10-30T01:25:51.968766Z",
     "iopub.status.busy": "2021-10-30T01:25:51.967924Z",
     "iopub.status.idle": "2021-10-30T01:25:51.969724Z",
     "shell.execute_reply": "2021-10-30T01:25:51.970192Z",
     "shell.execute_reply.started": "2021-10-30T01:24:25.516468Z"
    },
    "papermill": {
     "duration": 0.096136,
     "end_time": "2021-10-30T01:25:51.970331",
     "exception": false,
     "start_time": "2021-10-30T01:25:51.874195",
     "status": "completed"
    },
    "tags": []
   },
   "outputs": [],
   "source": [
    "counter_tickets = Counter(train_data[COL_TICKET])\n",
    "train_data[COL_TICKET_GROUP] = train_data[COL_TICKET].map(lambda ticket: counter_tickets[ticket])"
   ]
  },
  {
   "cell_type": "code",
   "execution_count": 47,
   "id": "c2b347c2",
   "metadata": {
    "execution": {
     "iopub.execute_input": "2021-10-30T01:25:52.161940Z",
     "iopub.status.busy": "2021-10-30T01:25:52.161070Z",
     "iopub.status.idle": "2021-10-30T01:25:52.186884Z",
     "shell.execute_reply": "2021-10-30T01:25:52.187340Z",
     "shell.execute_reply.started": "2021-10-30T01:24:25.527443Z"
    },
    "papermill": {
     "duration": 0.11994,
     "end_time": "2021-10-30T01:25:52.187480",
     "exception": false,
     "start_time": "2021-10-30T01:25:52.067540",
     "status": "completed"
    },
    "tags": []
   },
   "outputs": [
    {
     "data": {
      "text/html": [
       "<div>\n",
       "<style scoped>\n",
       "    .dataframe tbody tr th:only-of-type {\n",
       "        vertical-align: middle;\n",
       "    }\n",
       "\n",
       "    .dataframe tbody tr th {\n",
       "        vertical-align: top;\n",
       "    }\n",
       "\n",
       "    .dataframe thead th {\n",
       "        text-align: right;\n",
       "    }\n",
       "</style>\n",
       "<table border=\"1\" class=\"dataframe\">\n",
       "  <thead>\n",
       "    <tr style=\"text-align: right;\">\n",
       "      <th></th>\n",
       "      <th>Survived</th>\n",
       "      <th>Pclass</th>\n",
       "      <th>Sex</th>\n",
       "      <th>Age</th>\n",
       "      <th>SibSp</th>\n",
       "      <th>Parch</th>\n",
       "      <th>Ticket</th>\n",
       "      <th>Fare</th>\n",
       "      <th>Cabin</th>\n",
       "      <th>Embarked</th>\n",
       "      <th>...</th>\n",
       "      <th>Age_Scaled</th>\n",
       "      <th>Age_Group</th>\n",
       "      <th>Age_Group_2</th>\n",
       "      <th>Parch_Group</th>\n",
       "      <th>Parch_Group_2</th>\n",
       "      <th>Fare_Group</th>\n",
       "      <th>Fare_Group_2</th>\n",
       "      <th>SibSp_Group</th>\n",
       "      <th>SibSp_Group_2</th>\n",
       "      <th>Ticket_Group</th>\n",
       "    </tr>\n",
       "  </thead>\n",
       "  <tbody>\n",
       "    <tr>\n",
       "      <th>0</th>\n",
       "      <td>0</td>\n",
       "      <td>3</td>\n",
       "      <td>male</td>\n",
       "      <td>22.0</td>\n",
       "      <td>1</td>\n",
       "      <td>0</td>\n",
       "      <td>A/5 21171</td>\n",
       "      <td>7.2500</td>\n",
       "      <td>NaN</td>\n",
       "      <td>S</td>\n",
       "      <td>...</td>\n",
       "      <td>0.22</td>\n",
       "      <td>2</td>\n",
       "      <td>1</td>\n",
       "      <td>0</td>\n",
       "      <td>0</td>\n",
       "      <td>0</td>\n",
       "      <td>0</td>\n",
       "      <td>1</td>\n",
       "      <td>1</td>\n",
       "      <td>1</td>\n",
       "    </tr>\n",
       "    <tr>\n",
       "      <th>1</th>\n",
       "      <td>1</td>\n",
       "      <td>1</td>\n",
       "      <td>female</td>\n",
       "      <td>38.0</td>\n",
       "      <td>1</td>\n",
       "      <td>0</td>\n",
       "      <td>PC 17599</td>\n",
       "      <td>71.2833</td>\n",
       "      <td>C85</td>\n",
       "      <td>C</td>\n",
       "      <td>...</td>\n",
       "      <td>0.38</td>\n",
       "      <td>3</td>\n",
       "      <td>2</td>\n",
       "      <td>0</td>\n",
       "      <td>0</td>\n",
       "      <td>1</td>\n",
       "      <td>2</td>\n",
       "      <td>1</td>\n",
       "      <td>1</td>\n",
       "      <td>1</td>\n",
       "    </tr>\n",
       "    <tr>\n",
       "      <th>2</th>\n",
       "      <td>1</td>\n",
       "      <td>3</td>\n",
       "      <td>female</td>\n",
       "      <td>26.0</td>\n",
       "      <td>0</td>\n",
       "      <td>0</td>\n",
       "      <td>STON/O2. 3101282</td>\n",
       "      <td>7.9250</td>\n",
       "      <td>C85</td>\n",
       "      <td>S</td>\n",
       "      <td>...</td>\n",
       "      <td>0.26</td>\n",
       "      <td>2</td>\n",
       "      <td>1</td>\n",
       "      <td>0</td>\n",
       "      <td>0</td>\n",
       "      <td>0</td>\n",
       "      <td>0</td>\n",
       "      <td>0</td>\n",
       "      <td>0</td>\n",
       "      <td>1</td>\n",
       "    </tr>\n",
       "    <tr>\n",
       "      <th>3</th>\n",
       "      <td>1</td>\n",
       "      <td>1</td>\n",
       "      <td>female</td>\n",
       "      <td>35.0</td>\n",
       "      <td>1</td>\n",
       "      <td>0</td>\n",
       "      <td>113803</td>\n",
       "      <td>53.1000</td>\n",
       "      <td>C123</td>\n",
       "      <td>S</td>\n",
       "      <td>...</td>\n",
       "      <td>0.35</td>\n",
       "      <td>3</td>\n",
       "      <td>2</td>\n",
       "      <td>0</td>\n",
       "      <td>0</td>\n",
       "      <td>1</td>\n",
       "      <td>2</td>\n",
       "      <td>1</td>\n",
       "      <td>1</td>\n",
       "      <td>2</td>\n",
       "    </tr>\n",
       "    <tr>\n",
       "      <th>4</th>\n",
       "      <td>0</td>\n",
       "      <td>3</td>\n",
       "      <td>male</td>\n",
       "      <td>35.0</td>\n",
       "      <td>0</td>\n",
       "      <td>0</td>\n",
       "      <td>373450</td>\n",
       "      <td>8.0500</td>\n",
       "      <td>C123</td>\n",
       "      <td>S</td>\n",
       "      <td>...</td>\n",
       "      <td>0.35</td>\n",
       "      <td>3</td>\n",
       "      <td>2</td>\n",
       "      <td>0</td>\n",
       "      <td>0</td>\n",
       "      <td>0</td>\n",
       "      <td>0</td>\n",
       "      <td>0</td>\n",
       "      <td>0</td>\n",
       "      <td>1</td>\n",
       "    </tr>\n",
       "    <tr>\n",
       "      <th>5</th>\n",
       "      <td>0</td>\n",
       "      <td>3</td>\n",
       "      <td>male</td>\n",
       "      <td>35.0</td>\n",
       "      <td>0</td>\n",
       "      <td>0</td>\n",
       "      <td>330877</td>\n",
       "      <td>8.4583</td>\n",
       "      <td>C123</td>\n",
       "      <td>Q</td>\n",
       "      <td>...</td>\n",
       "      <td>0.35</td>\n",
       "      <td>3</td>\n",
       "      <td>2</td>\n",
       "      <td>0</td>\n",
       "      <td>0</td>\n",
       "      <td>0</td>\n",
       "      <td>0</td>\n",
       "      <td>0</td>\n",
       "      <td>0</td>\n",
       "      <td>1</td>\n",
       "    </tr>\n",
       "    <tr>\n",
       "      <th>6</th>\n",
       "      <td>0</td>\n",
       "      <td>1</td>\n",
       "      <td>male</td>\n",
       "      <td>54.0</td>\n",
       "      <td>0</td>\n",
       "      <td>0</td>\n",
       "      <td>17463</td>\n",
       "      <td>51.8625</td>\n",
       "      <td>E46</td>\n",
       "      <td>S</td>\n",
       "      <td>...</td>\n",
       "      <td>0.54</td>\n",
       "      <td>5</td>\n",
       "      <td>3</td>\n",
       "      <td>0</td>\n",
       "      <td>0</td>\n",
       "      <td>1</td>\n",
       "      <td>2</td>\n",
       "      <td>0</td>\n",
       "      <td>0</td>\n",
       "      <td>1</td>\n",
       "    </tr>\n",
       "    <tr>\n",
       "      <th>7</th>\n",
       "      <td>0</td>\n",
       "      <td>3</td>\n",
       "      <td>male</td>\n",
       "      <td>2.0</td>\n",
       "      <td>3</td>\n",
       "      <td>1</td>\n",
       "      <td>349909</td>\n",
       "      <td>21.0750</td>\n",
       "      <td>E46</td>\n",
       "      <td>S</td>\n",
       "      <td>...</td>\n",
       "      <td>0.02</td>\n",
       "      <td>0</td>\n",
       "      <td>0</td>\n",
       "      <td>1</td>\n",
       "      <td>1</td>\n",
       "      <td>0</td>\n",
       "      <td>1</td>\n",
       "      <td>2</td>\n",
       "      <td>1</td>\n",
       "      <td>4</td>\n",
       "    </tr>\n",
       "    <tr>\n",
       "      <th>8</th>\n",
       "      <td>1</td>\n",
       "      <td>3</td>\n",
       "      <td>female</td>\n",
       "      <td>27.0</td>\n",
       "      <td>0</td>\n",
       "      <td>2</td>\n",
       "      <td>347742</td>\n",
       "      <td>11.1333</td>\n",
       "      <td>E46</td>\n",
       "      <td>S</td>\n",
       "      <td>...</td>\n",
       "      <td>0.27</td>\n",
       "      <td>2</td>\n",
       "      <td>1</td>\n",
       "      <td>2</td>\n",
       "      <td>1</td>\n",
       "      <td>0</td>\n",
       "      <td>0</td>\n",
       "      <td>0</td>\n",
       "      <td>0</td>\n",
       "      <td>3</td>\n",
       "    </tr>\n",
       "    <tr>\n",
       "      <th>9</th>\n",
       "      <td>1</td>\n",
       "      <td>2</td>\n",
       "      <td>female</td>\n",
       "      <td>14.0</td>\n",
       "      <td>1</td>\n",
       "      <td>0</td>\n",
       "      <td>237736</td>\n",
       "      <td>30.0708</td>\n",
       "      <td>E46</td>\n",
       "      <td>C</td>\n",
       "      <td>...</td>\n",
       "      <td>0.14</td>\n",
       "      <td>1</td>\n",
       "      <td>0</td>\n",
       "      <td>0</td>\n",
       "      <td>0</td>\n",
       "      <td>0</td>\n",
       "      <td>1</td>\n",
       "      <td>1</td>\n",
       "      <td>1</td>\n",
       "      <td>2</td>\n",
       "    </tr>\n",
       "    <tr>\n",
       "      <th>10</th>\n",
       "      <td>1</td>\n",
       "      <td>3</td>\n",
       "      <td>female</td>\n",
       "      <td>4.0</td>\n",
       "      <td>1</td>\n",
       "      <td>1</td>\n",
       "      <td>PP 9549</td>\n",
       "      <td>16.7000</td>\n",
       "      <td>G6</td>\n",
       "      <td>S</td>\n",
       "      <td>...</td>\n",
       "      <td>0.04</td>\n",
       "      <td>0</td>\n",
       "      <td>0</td>\n",
       "      <td>1</td>\n",
       "      <td>1</td>\n",
       "      <td>0</td>\n",
       "      <td>0</td>\n",
       "      <td>1</td>\n",
       "      <td>1</td>\n",
       "      <td>2</td>\n",
       "    </tr>\n",
       "    <tr>\n",
       "      <th>11</th>\n",
       "      <td>1</td>\n",
       "      <td>1</td>\n",
       "      <td>female</td>\n",
       "      <td>58.0</td>\n",
       "      <td>0</td>\n",
       "      <td>0</td>\n",
       "      <td>113783</td>\n",
       "      <td>26.5500</td>\n",
       "      <td>C103</td>\n",
       "      <td>S</td>\n",
       "      <td>...</td>\n",
       "      <td>0.58</td>\n",
       "      <td>5</td>\n",
       "      <td>3</td>\n",
       "      <td>0</td>\n",
       "      <td>0</td>\n",
       "      <td>0</td>\n",
       "      <td>1</td>\n",
       "      <td>0</td>\n",
       "      <td>0</td>\n",
       "      <td>1</td>\n",
       "    </tr>\n",
       "    <tr>\n",
       "      <th>12</th>\n",
       "      <td>0</td>\n",
       "      <td>3</td>\n",
       "      <td>male</td>\n",
       "      <td>20.0</td>\n",
       "      <td>0</td>\n",
       "      <td>0</td>\n",
       "      <td>A/5. 2151</td>\n",
       "      <td>8.0500</td>\n",
       "      <td>C103</td>\n",
       "      <td>S</td>\n",
       "      <td>...</td>\n",
       "      <td>0.20</td>\n",
       "      <td>2</td>\n",
       "      <td>1</td>\n",
       "      <td>0</td>\n",
       "      <td>0</td>\n",
       "      <td>0</td>\n",
       "      <td>0</td>\n",
       "      <td>0</td>\n",
       "      <td>0</td>\n",
       "      <td>1</td>\n",
       "    </tr>\n",
       "    <tr>\n",
       "      <th>13</th>\n",
       "      <td>0</td>\n",
       "      <td>3</td>\n",
       "      <td>male</td>\n",
       "      <td>39.0</td>\n",
       "      <td>1</td>\n",
       "      <td>5</td>\n",
       "      <td>347082</td>\n",
       "      <td>31.2750</td>\n",
       "      <td>C103</td>\n",
       "      <td>S</td>\n",
       "      <td>...</td>\n",
       "      <td>0.39</td>\n",
       "      <td>3</td>\n",
       "      <td>2</td>\n",
       "      <td>2</td>\n",
       "      <td>1</td>\n",
       "      <td>0</td>\n",
       "      <td>1</td>\n",
       "      <td>1</td>\n",
       "      <td>1</td>\n",
       "      <td>7</td>\n",
       "    </tr>\n",
       "    <tr>\n",
       "      <th>14</th>\n",
       "      <td>0</td>\n",
       "      <td>3</td>\n",
       "      <td>female</td>\n",
       "      <td>14.0</td>\n",
       "      <td>0</td>\n",
       "      <td>0</td>\n",
       "      <td>350406</td>\n",
       "      <td>7.8542</td>\n",
       "      <td>C103</td>\n",
       "      <td>S</td>\n",
       "      <td>...</td>\n",
       "      <td>0.14</td>\n",
       "      <td>1</td>\n",
       "      <td>0</td>\n",
       "      <td>0</td>\n",
       "      <td>0</td>\n",
       "      <td>0</td>\n",
       "      <td>0</td>\n",
       "      <td>0</td>\n",
       "      <td>0</td>\n",
       "      <td>1</td>\n",
       "    </tr>\n",
       "  </tbody>\n",
       "</table>\n",
       "<p>15 rows × 21 columns</p>\n",
       "</div>"
      ],
      "text/plain": [
       "    Survived  Pclass     Sex   Age  SibSp  Parch            Ticket     Fare  \\\n",
       "0          0       3    male  22.0      1      0         A/5 21171   7.2500   \n",
       "1          1       1  female  38.0      1      0          PC 17599  71.2833   \n",
       "2          1       3  female  26.0      0      0  STON/O2. 3101282   7.9250   \n",
       "3          1       1  female  35.0      1      0            113803  53.1000   \n",
       "4          0       3    male  35.0      0      0            373450   8.0500   \n",
       "5          0       3    male  35.0      0      0            330877   8.4583   \n",
       "6          0       1    male  54.0      0      0             17463  51.8625   \n",
       "7          0       3    male   2.0      3      1            349909  21.0750   \n",
       "8          1       3  female  27.0      0      2            347742  11.1333   \n",
       "9          1       2  female  14.0      1      0            237736  30.0708   \n",
       "10         1       3  female   4.0      1      1           PP 9549  16.7000   \n",
       "11         1       1  female  58.0      0      0            113783  26.5500   \n",
       "12         0       3    male  20.0      0      0         A/5. 2151   8.0500   \n",
       "13         0       3    male  39.0      1      5            347082  31.2750   \n",
       "14         0       3  female  14.0      0      0            350406   7.8542   \n",
       "\n",
       "   Cabin Embarked  ... Age_Scaled  Age_Group  Age_Group_2  Parch_Group  \\\n",
       "0    NaN        S  ...       0.22          2            1            0   \n",
       "1    C85        C  ...       0.38          3            2            0   \n",
       "2    C85        S  ...       0.26          2            1            0   \n",
       "3   C123        S  ...       0.35          3            2            0   \n",
       "4   C123        S  ...       0.35          3            2            0   \n",
       "5   C123        Q  ...       0.35          3            2            0   \n",
       "6    E46        S  ...       0.54          5            3            0   \n",
       "7    E46        S  ...       0.02          0            0            1   \n",
       "8    E46        S  ...       0.27          2            1            2   \n",
       "9    E46        C  ...       0.14          1            0            0   \n",
       "10    G6        S  ...       0.04          0            0            1   \n",
       "11  C103        S  ...       0.58          5            3            0   \n",
       "12  C103        S  ...       0.20          2            1            0   \n",
       "13  C103        S  ...       0.39          3            2            2   \n",
       "14  C103        S  ...       0.14          1            0            0   \n",
       "\n",
       "    Parch_Group_2  Fare_Group  Fare_Group_2  SibSp_Group  SibSp_Group_2  \\\n",
       "0               0           0             0            1              1   \n",
       "1               0           1             2            1              1   \n",
       "2               0           0             0            0              0   \n",
       "3               0           1             2            1              1   \n",
       "4               0           0             0            0              0   \n",
       "5               0           0             0            0              0   \n",
       "6               0           1             2            0              0   \n",
       "7               1           0             1            2              1   \n",
       "8               1           0             0            0              0   \n",
       "9               0           0             1            1              1   \n",
       "10              1           0             0            1              1   \n",
       "11              0           0             1            0              0   \n",
       "12              0           0             0            0              0   \n",
       "13              1           0             1            1              1   \n",
       "14              0           0             0            0              0   \n",
       "\n",
       "    Ticket_Group  \n",
       "0              1  \n",
       "1              1  \n",
       "2              1  \n",
       "3              2  \n",
       "4              1  \n",
       "5              1  \n",
       "6              1  \n",
       "7              4  \n",
       "8              3  \n",
       "9              2  \n",
       "10             2  \n",
       "11             1  \n",
       "12             1  \n",
       "13             7  \n",
       "14             1  \n",
       "\n",
       "[15 rows x 21 columns]"
      ]
     },
     "execution_count": 47,
     "metadata": {},
     "output_type": "execute_result"
    }
   ],
   "source": [
    "#also lets drop name and passengers_id\n",
    "#Useless information\n",
    "try:\n",
    "    train_data.drop(COL_NAME, axis=1, inplace=True)\n",
    "    train_data.drop(COL_PASSID, axis=1, inplace=True)\n",
    "except KeyError:\n",
    "    pass\n",
    "train_data[:SHOW_DATA]\n",
    "# Lets work with data and models"
   ]
  },
  {
   "cell_type": "code",
   "execution_count": 48,
   "id": "eee4b0f9",
   "metadata": {
    "execution": {
     "iopub.execute_input": "2021-10-30T01:25:52.375392Z",
     "iopub.status.busy": "2021-10-30T01:25:52.374565Z",
     "iopub.status.idle": "2021-10-30T01:25:52.386388Z",
     "shell.execute_reply": "2021-10-30T01:25:52.385709Z",
     "shell.execute_reply.started": "2021-10-30T01:24:25.560038Z"
    },
    "papermill": {
     "duration": 0.106364,
     "end_time": "2021-10-30T01:25:52.386554",
     "exception": false,
     "start_time": "2021-10-30T01:25:52.280190",
     "status": "completed"
    },
    "tags": []
   },
   "outputs": [
    {
     "name": "stdout",
     "output_type": "stream",
     "text": [
      "<class 'pandas.core.frame.DataFrame'>\n",
      "RangeIndex: 891 entries, 0 to 890\n",
      "Data columns (total 21 columns):\n",
      " #   Column         Non-Null Count  Dtype  \n",
      "---  ------         --------------  -----  \n",
      " 0   Survived       891 non-null    int64  \n",
      " 1   Pclass         891 non-null    int64  \n",
      " 2   Sex            891 non-null    object \n",
      " 3   Age            891 non-null    float64\n",
      " 4   SibSp          891 non-null    int64  \n",
      " 5   Parch          891 non-null    int64  \n",
      " 6   Ticket         891 non-null    object \n",
      " 7   Fare           891 non-null    float64\n",
      " 8   Cabin          890 non-null    object \n",
      " 9   Embarked       889 non-null    object \n",
      " 10  Cabin_Group    891 non-null    object \n",
      " 11  Age_Scaled     891 non-null    float64\n",
      " 12  Age_Group      891 non-null    int64  \n",
      " 13  Age_Group_2    891 non-null    int64  \n",
      " 14  Parch_Group    891 non-null    int64  \n",
      " 15  Parch_Group_2  891 non-null    int64  \n",
      " 16  Fare_Group     891 non-null    int64  \n",
      " 17  Fare_Group_2   891 non-null    int64  \n",
      " 18  SibSp_Group    891 non-null    int64  \n",
      " 19  SibSp_Group_2  891 non-null    int64  \n",
      " 20  Ticket_Group   891 non-null    int64  \n",
      "dtypes: float64(3), int64(13), object(5)\n",
      "memory usage: 146.3+ KB\n"
     ]
    }
   ],
   "source": [
    "# COLLISION RESEARCH\n",
    "# look on all features\n",
    "train_data.info()"
   ]
  },
  {
   "cell_type": "code",
   "execution_count": 49,
   "id": "71368f94",
   "metadata": {
    "execution": {
     "iopub.execute_input": "2021-10-30T01:25:52.578453Z",
     "iopub.status.busy": "2021-10-30T01:25:52.577749Z",
     "iopub.status.idle": "2021-10-30T01:25:53.057990Z",
     "shell.execute_reply": "2021-10-30T01:25:53.058384Z",
     "shell.execute_reply.started": "2021-10-30T01:24:25.574165Z"
    },
    "papermill": {
     "duration": 0.576393,
     "end_time": "2021-10-30T01:25:53.058534",
     "exception": false,
     "start_time": "2021-10-30T01:25:52.482141",
     "status": "completed"
    },
    "tags": []
   },
   "outputs": [
    {
     "data": {
      "text/plain": [
       "<AxesSubplot:ylabel='Age_Group'>"
      ]
     },
     "execution_count": 49,
     "metadata": {},
     "output_type": "execute_result"
    },
    {
     "data": {
      "image/png": "[encoded data removed]",
      "text/plain": [
       "<Figure size 425.197x283.465 with 1 Axes>"
      ]
     },
     "metadata": {
      "needs_background": "light"
     },
     "output_type": "display_data"
    },
    {
     "data": {
      "image/png": "[encoded data removed]",
      "text/plain": [
       "<Figure size 425.197x283.465 with 1 Axes>"
      ]
     },
     "metadata": {
      "needs_background": "light"
     },
     "output_type": "display_data"
    }
   ],
   "source": [
    "# combine age and survivle\n",
    "survivors_by_age = train_data.groupby([COL_AGE_GROUP, COL_SURVIVED])\n",
    "survivors_by_age = survivors_by_age.size().unstack()\n",
    "survivors_by_age.plot(kind = \"barh\", stacked = True)\n",
    "# delete NaN age\n",
    "survivors_by_age_no_nan = survivors_by_age[1:].fillna(0)\n",
    "survivors_by_age_no_nan.plot(kind = \"barh\", stacked = True)"
   ]
  },
  {
   "cell_type": "code",
   "execution_count": 50,
   "id": "c8648d20",
   "metadata": {
    "execution": {
     "iopub.execute_input": "2021-10-30T01:25:53.250151Z",
     "iopub.status.busy": "2021-10-30T01:25:53.249307Z",
     "iopub.status.idle": "2021-10-30T01:25:53.456823Z",
     "shell.execute_reply": "2021-10-30T01:25:53.457253Z",
     "shell.execute_reply.started": "2021-10-30T01:24:26.036347Z"
    },
    "papermill": {
     "duration": 0.307017,
     "end_time": "2021-10-30T01:25:53.457408",
     "exception": false,
     "start_time": "2021-10-30T01:25:53.150391",
     "status": "completed"
    },
    "tags": []
   },
   "outputs": [
    {
     "data": {
      "text/plain": [
       "<AxesSubplot:ylabel='Pclass'>"
      ]
     },
     "execution_count": 50,
     "metadata": {},
     "output_type": "execute_result"
    },
    {
     "data": {
      "image/png": "[encoded data removed]",
      "text/plain": [
       "<Figure size 425.197x283.465 with 1 Axes>"
      ]
     },
     "metadata": {
      "needs_background": "light"
     },
     "output_type": "display_data"
    }
   ],
   "source": [
    "# COLLISION RESEARCH\n",
    "# combine PClass and survivle\n",
    "survivors_by_pclass = train_data.groupby([COL_PASSCLASS, COL_SURVIVED])\n",
    "survivors_by_pclass = survivors_by_pclass.size().unstack()\n",
    "survivors_by_pclass.plot(kind = \"barh\", stacked = True)\n"
   ]
  },
  {
   "cell_type": "code",
   "execution_count": 51,
   "id": "ddac1346",
   "metadata": {
    "execution": {
     "iopub.execute_input": "2021-10-30T01:25:53.645823Z",
     "iopub.status.busy": "2021-10-30T01:25:53.642799Z",
     "iopub.status.idle": "2021-10-30T01:25:53.852973Z",
     "shell.execute_reply": "2021-10-30T01:25:53.852505Z",
     "shell.execute_reply.started": "2021-10-30T01:24:26.240326Z"
    },
    "papermill": {
     "duration": 0.304667,
     "end_time": "2021-10-30T01:25:53.853117",
     "exception": false,
     "start_time": "2021-10-30T01:25:53.548450",
     "status": "completed"
    },
    "tags": []
   },
   "outputs": [
    {
     "data": {
      "text/plain": [
       "<AxesSubplot:ylabel='Sex'>"
      ]
     },
     "execution_count": 51,
     "metadata": {},
     "output_type": "execute_result"
    },
    {
     "data": {
      "image/png": "[encoded data removed]",
      "text/plain": [
       "<Figure size 425.197x283.465 with 1 Axes>"
      ]
     },
     "metadata": {
      "needs_background": "light"
     },
     "output_type": "display_data"
    }
   ],
   "source": [
    "# COLLISION RESEARCH\n",
    "# combine sex and survivle\n",
    "survivors_by_sex = train_data.groupby([COL_SEX, COL_SURVIVED])\n",
    "survivors_by_sex = survivors_by_sex.size().unstack()\n",
    "survivors_by_sex.plot(kind = \"barh\", stacked = True)\n",
    "\n"
   ]
  },
  {
   "cell_type": "code",
   "execution_count": null,
   "id": "525237d2",
   "metadata": {
    "papermill": {
     "duration": 0.093522,
     "end_time": "2021-10-30T01:25:54.038964",
     "exception": false,
     "start_time": "2021-10-30T01:25:53.945442",
     "status": "completed"
    },
    "tags": []
   },
   "outputs": [],
   "source": []
  },
  {
   "cell_type": "code",
   "execution_count": 52,
   "id": "a131e760",
   "metadata": {
    "execution": {
     "iopub.execute_input": "2021-10-30T01:25:54.229685Z",
     "iopub.status.busy": "2021-10-30T01:25:54.228807Z",
     "iopub.status.idle": "2021-10-30T01:25:54.230575Z",
     "shell.execute_reply": "2021-10-30T01:25:54.231077Z",
     "shell.execute_reply.started": "2021-10-30T01:24:26.456341Z"
    },
    "papermill": {
     "duration": 0.099027,
     "end_time": "2021-10-30T01:25:54.231219",
     "exception": false,
     "start_time": "2021-10-30T01:25:54.132192",
     "status": "completed"
    },
    "tags": []
   },
   "outputs": [],
   "source": [
    "# convert to % percent\n",
    "def map_to_percent(r):\n",
    "    return [float(v)/sum(r) for v in r]\n"
   ]
  },
  {
   "cell_type": "code",
   "execution_count": 53,
   "id": "8e41bf66",
   "metadata": {
    "execution": {
     "iopub.execute_input": "2021-10-30T01:25:54.425789Z",
     "iopub.status.busy": "2021-10-30T01:25:54.424972Z",
     "iopub.status.idle": "2021-10-30T01:25:54.672424Z",
     "shell.execute_reply": "2021-10-30T01:25:54.672961Z",
     "shell.execute_reply.started": "2021-10-30T01:24:26.462658Z"
    },
    "papermill": {
     "duration": 0.34881,
     "end_time": "2021-10-30T01:25:54.673114",
     "exception": false,
     "start_time": "2021-10-30T01:25:54.324304",
     "status": "completed"
    },
    "tags": []
   },
   "outputs": [
    {
     "data": {
      "text/plain": [
       "<AxesSubplot:>"
      ]
     },
     "execution_count": 53,
     "metadata": {},
     "output_type": "execute_result"
    },
    {
     "data": {
      "image/png": "[encoded data removed]",
      "text/plain": [
       "<Figure size 425.197x283.465 with 1 Axes>"
      ]
     },
     "metadata": {
      "needs_background": "light"
     },
     "output_type": "display_data"
    }
   ],
   "source": [
    "# convert to % percent age & survivle\n",
    "survivors_by_age_no_nan_percentage = pd.DataFrame([*survivors_by_age_no_nan.apply(map_to_percent, axis = 1)],columns = [\"0\",\"1\"])\n",
    "survivors_by_age_no_nan_percentage.plot(kind = \"barh\", stacked=True)\n"
   ]
  },
  {
   "cell_type": "code",
   "execution_count": 54,
   "id": "e18feb26",
   "metadata": {
    "execution": {
     "iopub.execute_input": "2021-10-30T01:25:54.890264Z",
     "iopub.status.busy": "2021-10-30T01:25:54.889312Z",
     "iopub.status.idle": "2021-10-30T01:25:55.076687Z",
     "shell.execute_reply": "2021-10-30T01:25:55.077106Z",
     "shell.execute_reply.started": "2021-10-30T01:24:26.718233Z"
    },
    "papermill": {
     "duration": 0.309623,
     "end_time": "2021-10-30T01:25:55.077266",
     "exception": false,
     "start_time": "2021-10-30T01:25:54.767643",
     "status": "completed"
    },
    "tags": []
   },
   "outputs": [
    {
     "data": {
      "text/plain": [
       "<AxesSubplot:>"
      ]
     },
     "execution_count": 54,
     "metadata": {},
     "output_type": "execute_result"
    },
    {
     "data": {
      "image/png": "[encoded data removed]",
      "text/plain": [
       "<Figure size 425.197x283.465 with 1 Axes>"
      ]
     },
     "metadata": {
      "needs_background": "light"
     },
     "output_type": "display_data"
    }
   ],
   "source": [
    "# convert to % percent PClass & survivle\n",
    "survivors_by_pclass_percentage = pd.DataFrame([*survivors_by_pclass.apply(map_to_percent, axis = 1)],columns = [\"0\",\"1\"])\n",
    "survivors_by_pclass_percentage.plot(kind = \"barh\", stacked=True)"
   ]
  },
  {
   "cell_type": "code",
   "execution_count": 55,
   "id": "cc2f6c0f",
   "metadata": {
    "execution": {
     "iopub.execute_input": "2021-10-30T01:25:55.298218Z",
     "iopub.status.busy": "2021-10-30T01:25:55.293077Z",
     "iopub.status.idle": "2021-10-30T01:25:55.471148Z",
     "shell.execute_reply": "2021-10-30T01:25:55.470687Z",
     "shell.execute_reply.started": "2021-10-30T01:24:26.920960Z"
    },
    "papermill": {
     "duration": 0.299915,
     "end_time": "2021-10-30T01:25:55.471279",
     "exception": false,
     "start_time": "2021-10-30T01:25:55.171364",
     "status": "completed"
    },
    "tags": []
   },
   "outputs": [
    {
     "data": {
      "text/plain": [
       "<AxesSubplot:>"
      ]
     },
     "execution_count": 55,
     "metadata": {},
     "output_type": "execute_result"
    },
    {
     "data": {
      "image/png": "[encoded data removed]",
      "text/plain": [
       "<Figure size 425.197x283.465 with 1 Axes>"
      ]
     },
     "metadata": {
      "needs_background": "light"
     },
     "output_type": "display_data"
    }
   ],
   "source": [
    "# convert to % percent sex & survivle\n",
    "survivors_by_sex_percentage = pd.DataFrame([*survivors_by_sex.apply(map_to_percent, axis = 1)],columns = [\"0\",\"1\"])\n",
    "survivors_by_sex_percentage.plot(kind = \"barh\", stacked=True)\n",
    "# 1- female\n",
    "# 0 - male"
   ]
  },
  {
   "cell_type": "code",
   "execution_count": 56,
   "id": "b78798a3",
   "metadata": {
    "execution": {
     "iopub.execute_input": "2021-10-30T01:25:55.664936Z",
     "iopub.status.busy": "2021-10-30T01:25:55.664368Z",
     "iopub.status.idle": "2021-10-30T01:25:55.684739Z",
     "shell.execute_reply": "2021-10-30T01:25:55.685225Z",
     "shell.execute_reply.started": "2021-10-30T01:24:27.124489Z"
    },
    "papermill": {
     "duration": 0.119488,
     "end_time": "2021-10-30T01:25:55.685384",
     "exception": false,
     "start_time": "2021-10-30T01:25:55.565896",
     "status": "completed"
    },
    "tags": []
   },
   "outputs": [
    {
     "name": "stdout",
     "output_type": "stream",
     "text": [
      "<class 'pandas.core.frame.DataFrame'>\n",
      "RangeIndex: 891 entries, 0 to 890\n",
      "Data columns (total 12 columns):\n",
      " #   Column       Non-Null Count  Dtype  \n",
      "---  ------       --------------  -----  \n",
      " 0   PassengerId  891 non-null    int64  \n",
      " 1   Survived     891 non-null    int64  \n",
      " 2   Pclass       891 non-null    int64  \n",
      " 3   Name         891 non-null    object \n",
      " 4   Sex          891 non-null    object \n",
      " 5   Age          714 non-null    float64\n",
      " 6   SibSp        891 non-null    int64  \n",
      " 7   Parch        891 non-null    int64  \n",
      " 8   Ticket       891 non-null    object \n",
      " 9   Fare         891 non-null    float64\n",
      " 10  Cabin        204 non-null    object \n",
      " 11  Embarked     889 non-null    object \n",
      "dtypes: float64(2), int64(5), object(5)\n",
      "memory usage: 83.7+ KB\n"
     ]
    }
   ],
   "source": [
    "# load data special for models\n",
    "df_train = pd.read_csv(\"../input/titanic/train.csv\")\n",
    "df_test = pd.read_csv(\"../input/titanic/test.csv\")\n",
    "df_train.info()"
   ]
  },
  {
   "cell_type": "code",
   "execution_count": 57,
   "id": "ec9fad65",
   "metadata": {
    "execution": {
     "iopub.execute_input": "2021-10-30T01:25:55.895606Z",
     "iopub.status.busy": "2021-10-30T01:25:55.893031Z",
     "iopub.status.idle": "2021-10-30T01:25:55.898773Z",
     "shell.execute_reply": "2021-10-30T01:25:55.899409Z",
     "shell.execute_reply.started": "2021-10-30T01:24:27.148024Z"
    },
    "papermill": {
     "duration": 0.111842,
     "end_time": "2021-10-30T01:25:55.899639",
     "exception": false,
     "start_time": "2021-10-30T01:25:55.787797",
     "status": "completed"
    },
    "tags": []
   },
   "outputs": [
    {
     "name": "stdout",
     "output_type": "stream",
     "text": [
      "<class 'pandas.core.frame.DataFrame'>\n",
      "RangeIndex: 418 entries, 0 to 417\n",
      "Data columns (total 11 columns):\n",
      " #   Column       Non-Null Count  Dtype  \n",
      "---  ------       --------------  -----  \n",
      " 0   PassengerId  418 non-null    int64  \n",
      " 1   Pclass       418 non-null    int64  \n",
      " 2   Name         418 non-null    object \n",
      " 3   Sex          418 non-null    object \n",
      " 4   Age          332 non-null    float64\n",
      " 5   SibSp        418 non-null    int64  \n",
      " 6   Parch        418 non-null    int64  \n",
      " 7   Ticket       418 non-null    object \n",
      " 8   Fare         417 non-null    float64\n",
      " 9   Cabin        91 non-null     object \n",
      " 10  Embarked     418 non-null    object \n",
      "dtypes: float64(2), int64(4), object(5)\n",
      "memory usage: 36.0+ KB\n"
     ]
    }
   ],
   "source": [
    "df_test.info()"
   ]
  },
  {
   "cell_type": "code",
   "execution_count": null,
   "id": "bf27abb4",
   "metadata": {
    "papermill": {
     "duration": 0.173489,
     "end_time": "2021-10-30T01:25:56.179105",
     "exception": false,
     "start_time": "2021-10-30T01:25:56.005616",
     "status": "completed"
    },
    "tags": []
   },
   "outputs": [],
   "source": []
  },
  {
   "cell_type": "code",
   "execution_count": 58,
   "id": "18e7adfe",
   "metadata": {
    "execution": {
     "iopub.execute_input": "2021-10-30T01:25:56.511355Z",
     "iopub.status.busy": "2021-10-30T01:25:56.510478Z",
     "iopub.status.idle": "2021-10-30T01:25:56.519193Z",
     "shell.execute_reply": "2021-10-30T01:25:56.519944Z",
     "shell.execute_reply.started": "2021-10-30T01:24:27.166318Z"
    },
    "papermill": {
     "duration": 0.179408,
     "end_time": "2021-10-30T01:25:56.520151",
     "exception": false,
     "start_time": "2021-10-30T01:25:56.340743",
     "status": "completed"
    },
    "tags": []
   },
   "outputs": [
    {
     "data": {
      "text/plain": [
       "PassengerId     0.000000\n",
       "Survived        0.000000\n",
       "Pclass          0.000000\n",
       "Name            0.000000\n",
       "Sex             0.000000\n",
       "Age            19.865320\n",
       "SibSp           0.000000\n",
       "Parch           0.000000\n",
       "Ticket          0.000000\n",
       "Fare            0.000000\n",
       "Cabin          77.104377\n",
       "Embarked        0.224467\n",
       "dtype: float64"
      ]
     },
     "execution_count": 58,
     "metadata": {},
     "output_type": "execute_result"
    }
   ],
   "source": [
    "# How many data in train is missing (in percentage)?\n",
    "df_train.isna().sum()/train_data.shape[0]*100"
   ]
  },
  {
   "cell_type": "code",
   "execution_count": 59,
   "id": "2d76c58a",
   "metadata": {
    "execution": {
     "iopub.execute_input": "2021-10-30T01:25:56.750829Z",
     "iopub.status.busy": "2021-10-30T01:25:56.747311Z",
     "iopub.status.idle": "2021-10-30T01:25:56.754174Z",
     "shell.execute_reply": "2021-10-30T01:25:56.753733Z",
     "shell.execute_reply.started": "2021-10-30T01:24:27.179419Z"
    },
    "papermill": {
     "duration": 0.106827,
     "end_time": "2021-10-30T01:25:56.754293",
     "exception": false,
     "start_time": "2021-10-30T01:25:56.647466",
     "status": "completed"
    },
    "tags": []
   },
   "outputs": [
    {
     "data": {
      "text/plain": [
       "PassengerId     0.000000\n",
       "Pclass          0.000000\n",
       "Name            0.000000\n",
       "Sex             0.000000\n",
       "Age             9.652076\n",
       "SibSp           0.000000\n",
       "Parch           0.000000\n",
       "Ticket          0.000000\n",
       "Fare            0.112233\n",
       "Cabin          36.700337\n",
       "Embarked        0.000000\n",
       "dtype: float64"
      ]
     },
     "execution_count": 59,
     "metadata": {},
     "output_type": "execute_result"
    }
   ],
   "source": [
    "# How many data in train is missing (in percentage)?\n",
    "df_test.isna().sum()/train_data.shape[0]*100"
   ]
  },
  {
   "cell_type": "code",
   "execution_count": 60,
   "id": "b0c2b861",
   "metadata": {
    "execution": {
     "iopub.execute_input": "2021-10-30T01:25:56.955537Z",
     "iopub.status.busy": "2021-10-30T01:25:56.954506Z",
     "iopub.status.idle": "2021-10-30T01:25:56.957570Z",
     "shell.execute_reply": "2021-10-30T01:25:56.958033Z",
     "shell.execute_reply.started": "2021-10-30T01:24:27.191195Z"
    },
    "papermill": {
     "duration": 0.103119,
     "end_time": "2021-10-30T01:25:56.958194",
     "exception": false,
     "start_time": "2021-10-30T01:25:56.855075",
     "status": "completed"
    },
    "tags": []
   },
   "outputs": [],
   "source": [
    "age_delta = 10\n",
    "fare_delta = 50"
   ]
  },
  {
   "cell_type": "code",
   "execution_count": 61,
   "id": "a04f21e7",
   "metadata": {
    "execution": {
     "iopub.execute_input": "2021-10-30T01:25:57.180998Z",
     "iopub.status.busy": "2021-10-30T01:25:57.180061Z",
     "iopub.status.idle": "2021-10-30T01:25:57.267421Z",
     "shell.execute_reply": "2021-10-30T01:25:57.266680Z",
     "shell.execute_reply.started": "2021-10-30T01:24:27.199728Z"
    },
    "papermill": {
     "duration": 0.204396,
     "end_time": "2021-10-30T01:25:57.267601",
     "exception": false,
     "start_time": "2021-10-30T01:25:57.063205",
     "status": "completed"
    },
    "tags": []
   },
   "outputs": [
    {
     "name": "stdout",
     "output_type": "stream",
     "text": [
      "<class 'pandas.core.frame.DataFrame'>\n",
      "RangeIndex: 891 entries, 0 to 890\n",
      "Columns: 107 entries, PassengerId to EPORT_S\n",
      "dtypes: float64(3), int64(14), object(7), uint8(83)\n",
      "memory usage: 239.4+ KB\n"
     ]
    }
   ],
   "source": [
    "#PREPREPARE DATA df_train\n",
    "##  0   PassengerId  891 non-null    int64--------------------------------------\n",
    "##  1   Survived     891 non-null    int64--------------------------------------\n",
    "##  2   Pclass       891 non-null    int64 --------------------------------------\n",
    "COL_PASSCLASS_D = COL_PASSCLASS+\"_D\"\n",
    "df_train[COL_PASSCLASS_D] = df_train[COL_PASSCLASS]\n",
    "df_train = pd.get_dummies(df_train,prefix = \"PCLASS\",columns=[COL_PASSCLASS_D])\n",
    "##  3   Name         891 non-null    object--------------------------------------\n",
    "# try:\n",
    "#     df_train.drop(COL_NAME, axis=1, inplace=True)\n",
    "# except KeyError:\n",
    "#     pass\n",
    "df_train[COL_NAME_START_LETTER] = df_train[COL_NAME].map(lambda full_name: str(full_name).split(\",\")[0][0])\n",
    "\n",
    "COL_NAME_START_LETTER_D = COL_NAME_START_LETTER+\"_D\"\n",
    "df_train[COL_NAME_START_LETTER_D] = df_train[COL_NAME_START_LETTER]\n",
    "df_train = pd.get_dummies(df_train,prefix = \"N_LETTER\",columns=[COL_NAME_START_LETTER_D])\n",
    "##  4   Sex          891 non-null    object --------------------------------------\n",
    "##  5   Age          714 non-null    float64--------------------------------------\n",
    "df_train[COL_AGE] = df_train[COL_AGE].fillna(method = \"ffill\")\n",
    "df_train[COL_AGE_SCALED] = df_train[COL_AGE].map(lambda age: age/100)\n",
    "\n",
    "df_train[COL_AGE_GROUP] = COL_AGE_GROUP_process(age_delta,df_train)\n",
    "COL_AGE_GROUP_D = COL_AGE_GROUP+\"_D\"\n",
    "df_train[COL_AGE_GROUP_D] = df_train[COL_AGE_GROUP]\n",
    "df_train = pd.get_dummies(df_train,prefix = \"AGE\",columns=[COL_AGE_GROUP_D])\n",
    "\n",
    "\n",
    "df_train[COL_AGE_GROUP_2] = COL_AGE_GROUP_process_2(df_train)\n",
    "COL_AGE_GROUP_2_D = COL_AGE_GROUP_2+\"_D\"\n",
    "df_train[COL_AGE_GROUP_2_D] = df_train[COL_AGE_GROUP_2]\n",
    "df_train = pd.get_dummies(df_train,prefix = \"AGE_2\",columns=[COL_AGE_GROUP_2_D])\n",
    "##  6   SibSp        891 non-null    int64 --------------------------------------\n",
    "\n",
    "df_train[COL_SIBSP_GROUP] = df_train[COL_SIBSP].map(lambda sibsp: 2 if sibsp >= 2 else sibsp) \n",
    "COL_SIBSP_GROUP_D = COL_SIBSP_GROUP+\"_D\"\n",
    "df_train[COL_SIBSP_GROUP_D] = df_train[COL_SIBSP_GROUP]\n",
    "df_train = pd.get_dummies(df_train,prefix = \"SIBSP\",columns=[COL_SIBSP_GROUP_D])\n",
    "\n",
    "\n",
    "df_train[COL_SIBSP_GROUP_2] = df_train[COL_SIBSP].map(lambda sibsp: 1 if sibsp >= 1 else 0)\n",
    "COL_SIBSP_GROUP_2_D = COL_SIBSP_GROUP_2+\"_D\"\n",
    "df_train[COL_SIBSP_GROUP_2_D] = df_train[COL_SIBSP_GROUP_2]\n",
    "df_train = pd.get_dummies(df_train,prefix = \"SIBSP_2\",columns=[COL_SIBSP_GROUP_2_D])\n",
    "\n",
    "##  7   Parch        891 non-null    int64 --------------------------------------\n",
    "df_train[COL_PARCH_GROUP] = df_train[COL_PARCH].map(lambda sibsp: 2 if sibsp >= 2 else sibsp)\n",
    "COL_PARCH_GROUP_D = COL_PARCH_GROUP+\"_D\"\n",
    "df_train[COL_PARCH_GROUP_D] = df_train[COL_PARCH_GROUP]\n",
    "df_train = pd.get_dummies(df_train,prefix = \"PARCH\",columns=[COL_PARCH_GROUP_D])\n",
    "\n",
    "df_train[COL_PARCH_GROUP_2] = df_train[COL_PARCH].map(lambda sibsp: 1 if sibsp >= 1 else 0)\n",
    "COL_PARCH_GROUP_2_D = COL_PARCH_GROUP_2+\"_D\"\n",
    "df_train[COL_PARCH_GROUP_2_D] = df_train[COL_PARCH_GROUP_2]\n",
    "df_train = pd.get_dummies(df_train,prefix = \"PARCH_2\",columns=[COL_PARCH_GROUP_2_D])\n",
    "##  8   Ticket       891 non-null    object --------------------------------------\n",
    "counter_tickets = Counter(df_train[COL_TICKET])\n",
    "df_train[COL_TICKET_GROUP] = df_train[COL_TICKET].map(lambda ticket: counter_tickets[ticket])\n",
    "\n",
    "COL_TICKET_GROUP_D = COL_TICKET_GROUP+\"_D\"\n",
    "df_train[COL_TICKET_GROUP_D] = df_train[COL_TICKET_GROUP]\n",
    "df_train = pd.get_dummies(df_train,prefix = \"TICKET\",columns=[COL_TICKET_GROUP_D])\n",
    "##  9   Fare         891 non-null    float64--------------------------------------\n",
    "df_train[COL_FARE] = df_train[COL_FARE].fillna(method = \"ffill\")\n",
    "\n",
    "df_train[COL_FARE_GROUP] = COL_FARE_GROUP_process(fare_delta,df_train)\n",
    "COL_FARE_GROUP_D = COL_FARE_GROUP+\"_D\"\n",
    "df_train[COL_FARE_GROUP_D] = df_train[COL_FARE_GROUP]\n",
    "df_train = pd.get_dummies(df_train,prefix = \"FARE\",columns=[COL_FARE_GROUP_D])\n",
    "\n",
    "df_train[COL_FARE_GROUP_2] = COL_FARE_GROUP_process_2(df_train)\n",
    "COL_FARE_GROUP_2_D = COL_FARE_GROUP_2+\"_D\"\n",
    "df_train[COL_FARE_GROUP_2_D] = df_train[COL_FARE_GROUP_2]\n",
    "df_train = pd.get_dummies(df_train,prefix = \"FARE_2\",columns=[COL_FARE_GROUP_2_D])\n",
    "##  10  Cabin        204 non-null    object --------------------------------------\n",
    "# try:\n",
    "#     df_train.drop(COL_CABIN, axis=1, inplace=True)\n",
    "# except KeyError:\n",
    "#     pass\n",
    "df_train[COL_CABIN] = df_train[COL_CABIN].fillna(method = \"ffill\")\n",
    "df_train[COL_CABIN_GROUP] = df_train[COL_CABIN].map(lambda cabin_title: str(cabin_title)[0])\n",
    "\n",
    "COL_CABIN_GROUP_D = COL_CABIN_GROUP+\"_D\"\n",
    "df_train[COL_CABIN_GROUP_D] = df_train[COL_CABIN_GROUP]\n",
    "df_train = pd.get_dummies(df_train,prefix = \"CABIN\",columns=[COL_CABIN_GROUP])\n",
    "##  11  Embarked     889 non-null    object --------------------------------------\n",
    "COL_EPORT_D = COL_EPORT+\"_D\"\n",
    "df_train[COL_EPORT_D] = df_train[COL_EPORT]\n",
    "df_train = pd.get_dummies(df_train,prefix = \"EPORT\",columns=[COL_EPORT_D])\n",
    "\n",
    "df_train.info()"
   ]
  },
  {
   "cell_type": "code",
   "execution_count": 62,
   "id": "4d67a61b",
   "metadata": {
    "execution": {
     "iopub.execute_input": "2021-10-30T01:25:57.490011Z",
     "iopub.status.busy": "2021-10-30T01:25:57.479274Z",
     "iopub.status.idle": "2021-10-30T01:25:57.493414Z",
     "shell.execute_reply": "2021-10-30T01:25:57.493988Z",
     "shell.execute_reply.started": "2021-10-30T01:24:27.310128Z"
    },
    "papermill": {
     "duration": 0.126753,
     "end_time": "2021-10-30T01:25:57.494135",
     "exception": false,
     "start_time": "2021-10-30T01:25:57.367382",
     "status": "completed"
    },
    "tags": []
   },
   "outputs": [
    {
     "data": {
      "text/html": [
       "<div>\n",
       "<style scoped>\n",
       "    .dataframe tbody tr th:only-of-type {\n",
       "        vertical-align: middle;\n",
       "    }\n",
       "\n",
       "    .dataframe tbody tr th {\n",
       "        vertical-align: top;\n",
       "    }\n",
       "\n",
       "    .dataframe thead th {\n",
       "        text-align: right;\n",
       "    }\n",
       "</style>\n",
       "<table border=\"1\" class=\"dataframe\">\n",
       "  <thead>\n",
       "    <tr style=\"text-align: right;\">\n",
       "      <th></th>\n",
       "      <th>PassengerId</th>\n",
       "      <th>Survived</th>\n",
       "      <th>Pclass</th>\n",
       "      <th>Name</th>\n",
       "      <th>Sex</th>\n",
       "      <th>Age</th>\n",
       "      <th>SibSp</th>\n",
       "      <th>Parch</th>\n",
       "      <th>Ticket</th>\n",
       "      <th>Fare</th>\n",
       "      <th>...</th>\n",
       "      <th>CABIN_C</th>\n",
       "      <th>CABIN_D</th>\n",
       "      <th>CABIN_E</th>\n",
       "      <th>CABIN_F</th>\n",
       "      <th>CABIN_G</th>\n",
       "      <th>CABIN_T</th>\n",
       "      <th>CABIN_n</th>\n",
       "      <th>EPORT_C</th>\n",
       "      <th>EPORT_Q</th>\n",
       "      <th>EPORT_S</th>\n",
       "    </tr>\n",
       "  </thead>\n",
       "  <tbody>\n",
       "    <tr>\n",
       "      <th>0</th>\n",
       "      <td>1</td>\n",
       "      <td>0</td>\n",
       "      <td>3</td>\n",
       "      <td>Braund, Mr. Owen Harris</td>\n",
       "      <td>male</td>\n",
       "      <td>22.0</td>\n",
       "      <td>1</td>\n",
       "      <td>0</td>\n",
       "      <td>A/5 21171</td>\n",
       "      <td>7.2500</td>\n",
       "      <td>...</td>\n",
       "      <td>0</td>\n",
       "      <td>0</td>\n",
       "      <td>0</td>\n",
       "      <td>0</td>\n",
       "      <td>0</td>\n",
       "      <td>0</td>\n",
       "      <td>1</td>\n",
       "      <td>0</td>\n",
       "      <td>0</td>\n",
       "      <td>1</td>\n",
       "    </tr>\n",
       "    <tr>\n",
       "      <th>1</th>\n",
       "      <td>2</td>\n",
       "      <td>1</td>\n",
       "      <td>1</td>\n",
       "      <td>Cumings, Mrs. John Bradley (Florence Briggs Th...</td>\n",
       "      <td>female</td>\n",
       "      <td>38.0</td>\n",
       "      <td>1</td>\n",
       "      <td>0</td>\n",
       "      <td>PC 17599</td>\n",
       "      <td>71.2833</td>\n",
       "      <td>...</td>\n",
       "      <td>1</td>\n",
       "      <td>0</td>\n",
       "      <td>0</td>\n",
       "      <td>0</td>\n",
       "      <td>0</td>\n",
       "      <td>0</td>\n",
       "      <td>0</td>\n",
       "      <td>1</td>\n",
       "      <td>0</td>\n",
       "      <td>0</td>\n",
       "    </tr>\n",
       "    <tr>\n",
       "      <th>2</th>\n",
       "      <td>3</td>\n",
       "      <td>1</td>\n",
       "      <td>3</td>\n",
       "      <td>Heikkinen, Miss. Laina</td>\n",
       "      <td>female</td>\n",
       "      <td>26.0</td>\n",
       "      <td>0</td>\n",
       "      <td>0</td>\n",
       "      <td>STON/O2. 3101282</td>\n",
       "      <td>7.9250</td>\n",
       "      <td>...</td>\n",
       "      <td>1</td>\n",
       "      <td>0</td>\n",
       "      <td>0</td>\n",
       "      <td>0</td>\n",
       "      <td>0</td>\n",
       "      <td>0</td>\n",
       "      <td>0</td>\n",
       "      <td>0</td>\n",
       "      <td>0</td>\n",
       "      <td>1</td>\n",
       "    </tr>\n",
       "    <tr>\n",
       "      <th>3</th>\n",
       "      <td>4</td>\n",
       "      <td>1</td>\n",
       "      <td>1</td>\n",
       "      <td>Futrelle, Mrs. Jacques Heath (Lily May Peel)</td>\n",
       "      <td>female</td>\n",
       "      <td>35.0</td>\n",
       "      <td>1</td>\n",
       "      <td>0</td>\n",
       "      <td>113803</td>\n",
       "      <td>53.1000</td>\n",
       "      <td>...</td>\n",
       "      <td>1</td>\n",
       "      <td>0</td>\n",
       "      <td>0</td>\n",
       "      <td>0</td>\n",
       "      <td>0</td>\n",
       "      <td>0</td>\n",
       "      <td>0</td>\n",
       "      <td>0</td>\n",
       "      <td>0</td>\n",
       "      <td>1</td>\n",
       "    </tr>\n",
       "    <tr>\n",
       "      <th>4</th>\n",
       "      <td>5</td>\n",
       "      <td>0</td>\n",
       "      <td>3</td>\n",
       "      <td>Allen, Mr. William Henry</td>\n",
       "      <td>male</td>\n",
       "      <td>35.0</td>\n",
       "      <td>0</td>\n",
       "      <td>0</td>\n",
       "      <td>373450</td>\n",
       "      <td>8.0500</td>\n",
       "      <td>...</td>\n",
       "      <td>1</td>\n",
       "      <td>0</td>\n",
       "      <td>0</td>\n",
       "      <td>0</td>\n",
       "      <td>0</td>\n",
       "      <td>0</td>\n",
       "      <td>0</td>\n",
       "      <td>0</td>\n",
       "      <td>0</td>\n",
       "      <td>1</td>\n",
       "    </tr>\n",
       "    <tr>\n",
       "      <th>5</th>\n",
       "      <td>6</td>\n",
       "      <td>0</td>\n",
       "      <td>3</td>\n",
       "      <td>Moran, Mr. James</td>\n",
       "      <td>male</td>\n",
       "      <td>35.0</td>\n",
       "      <td>0</td>\n",
       "      <td>0</td>\n",
       "      <td>330877</td>\n",
       "      <td>8.4583</td>\n",
       "      <td>...</td>\n",
       "      <td>1</td>\n",
       "      <td>0</td>\n",
       "      <td>0</td>\n",
       "      <td>0</td>\n",
       "      <td>0</td>\n",
       "      <td>0</td>\n",
       "      <td>0</td>\n",
       "      <td>0</td>\n",
       "      <td>1</td>\n",
       "      <td>0</td>\n",
       "    </tr>\n",
       "    <tr>\n",
       "      <th>6</th>\n",
       "      <td>7</td>\n",
       "      <td>0</td>\n",
       "      <td>1</td>\n",
       "      <td>McCarthy, Mr. Timothy J</td>\n",
       "      <td>male</td>\n",
       "      <td>54.0</td>\n",
       "      <td>0</td>\n",
       "      <td>0</td>\n",
       "      <td>17463</td>\n",
       "      <td>51.8625</td>\n",
       "      <td>...</td>\n",
       "      <td>0</td>\n",
       "      <td>0</td>\n",
       "      <td>1</td>\n",
       "      <td>0</td>\n",
       "      <td>0</td>\n",
       "      <td>0</td>\n",
       "      <td>0</td>\n",
       "      <td>0</td>\n",
       "      <td>0</td>\n",
       "      <td>1</td>\n",
       "    </tr>\n",
       "    <tr>\n",
       "      <th>7</th>\n",
       "      <td>8</td>\n",
       "      <td>0</td>\n",
       "      <td>3</td>\n",
       "      <td>Palsson, Master. Gosta Leonard</td>\n",
       "      <td>male</td>\n",
       "      <td>2.0</td>\n",
       "      <td>3</td>\n",
       "      <td>1</td>\n",
       "      <td>349909</td>\n",
       "      <td>21.0750</td>\n",
       "      <td>...</td>\n",
       "      <td>0</td>\n",
       "      <td>0</td>\n",
       "      <td>1</td>\n",
       "      <td>0</td>\n",
       "      <td>0</td>\n",
       "      <td>0</td>\n",
       "      <td>0</td>\n",
       "      <td>0</td>\n",
       "      <td>0</td>\n",
       "      <td>1</td>\n",
       "    </tr>\n",
       "    <tr>\n",
       "      <th>8</th>\n",
       "      <td>9</td>\n",
       "      <td>1</td>\n",
       "      <td>3</td>\n",
       "      <td>Johnson, Mrs. Oscar W (Elisabeth Vilhelmina Berg)</td>\n",
       "      <td>female</td>\n",
       "      <td>27.0</td>\n",
       "      <td>0</td>\n",
       "      <td>2</td>\n",
       "      <td>347742</td>\n",
       "      <td>11.1333</td>\n",
       "      <td>...</td>\n",
       "      <td>0</td>\n",
       "      <td>0</td>\n",
       "      <td>1</td>\n",
       "      <td>0</td>\n",
       "      <td>0</td>\n",
       "      <td>0</td>\n",
       "      <td>0</td>\n",
       "      <td>0</td>\n",
       "      <td>0</td>\n",
       "      <td>1</td>\n",
       "    </tr>\n",
       "    <tr>\n",
       "      <th>9</th>\n",
       "      <td>10</td>\n",
       "      <td>1</td>\n",
       "      <td>2</td>\n",
       "      <td>Nasser, Mrs. Nicholas (Adele Achem)</td>\n",
       "      <td>female</td>\n",
       "      <td>14.0</td>\n",
       "      <td>1</td>\n",
       "      <td>0</td>\n",
       "      <td>237736</td>\n",
       "      <td>30.0708</td>\n",
       "      <td>...</td>\n",
       "      <td>0</td>\n",
       "      <td>0</td>\n",
       "      <td>1</td>\n",
       "      <td>0</td>\n",
       "      <td>0</td>\n",
       "      <td>0</td>\n",
       "      <td>0</td>\n",
       "      <td>1</td>\n",
       "      <td>0</td>\n",
       "      <td>0</td>\n",
       "    </tr>\n",
       "    <tr>\n",
       "      <th>10</th>\n",
       "      <td>11</td>\n",
       "      <td>1</td>\n",
       "      <td>3</td>\n",
       "      <td>Sandstrom, Miss. Marguerite Rut</td>\n",
       "      <td>female</td>\n",
       "      <td>4.0</td>\n",
       "      <td>1</td>\n",
       "      <td>1</td>\n",
       "      <td>PP 9549</td>\n",
       "      <td>16.7000</td>\n",
       "      <td>...</td>\n",
       "      <td>0</td>\n",
       "      <td>0</td>\n",
       "      <td>0</td>\n",
       "      <td>0</td>\n",
       "      <td>1</td>\n",
       "      <td>0</td>\n",
       "      <td>0</td>\n",
       "      <td>0</td>\n",
       "      <td>0</td>\n",
       "      <td>1</td>\n",
       "    </tr>\n",
       "    <tr>\n",
       "      <th>11</th>\n",
       "      <td>12</td>\n",
       "      <td>1</td>\n",
       "      <td>1</td>\n",
       "      <td>Bonnell, Miss. Elizabeth</td>\n",
       "      <td>female</td>\n",
       "      <td>58.0</td>\n",
       "      <td>0</td>\n",
       "      <td>0</td>\n",
       "      <td>113783</td>\n",
       "      <td>26.5500</td>\n",
       "      <td>...</td>\n",
       "      <td>1</td>\n",
       "      <td>0</td>\n",
       "      <td>0</td>\n",
       "      <td>0</td>\n",
       "      <td>0</td>\n",
       "      <td>0</td>\n",
       "      <td>0</td>\n",
       "      <td>0</td>\n",
       "      <td>0</td>\n",
       "      <td>1</td>\n",
       "    </tr>\n",
       "    <tr>\n",
       "      <th>12</th>\n",
       "      <td>13</td>\n",
       "      <td>0</td>\n",
       "      <td>3</td>\n",
       "      <td>Saundercock, Mr. William Henry</td>\n",
       "      <td>male</td>\n",
       "      <td>20.0</td>\n",
       "      <td>0</td>\n",
       "      <td>0</td>\n",
       "      <td>A/5. 2151</td>\n",
       "      <td>8.0500</td>\n",
       "      <td>...</td>\n",
       "      <td>1</td>\n",
       "      <td>0</td>\n",
       "      <td>0</td>\n",
       "      <td>0</td>\n",
       "      <td>0</td>\n",
       "      <td>0</td>\n",
       "      <td>0</td>\n",
       "      <td>0</td>\n",
       "      <td>0</td>\n",
       "      <td>1</td>\n",
       "    </tr>\n",
       "    <tr>\n",
       "      <th>13</th>\n",
       "      <td>14</td>\n",
       "      <td>0</td>\n",
       "      <td>3</td>\n",
       "      <td>Andersson, Mr. Anders Johan</td>\n",
       "      <td>male</td>\n",
       "      <td>39.0</td>\n",
       "      <td>1</td>\n",
       "      <td>5</td>\n",
       "      <td>347082</td>\n",
       "      <td>31.2750</td>\n",
       "      <td>...</td>\n",
       "      <td>1</td>\n",
       "      <td>0</td>\n",
       "      <td>0</td>\n",
       "      <td>0</td>\n",
       "      <td>0</td>\n",
       "      <td>0</td>\n",
       "      <td>0</td>\n",
       "      <td>0</td>\n",
       "      <td>0</td>\n",
       "      <td>1</td>\n",
       "    </tr>\n",
       "    <tr>\n",
       "      <th>14</th>\n",
       "      <td>15</td>\n",
       "      <td>0</td>\n",
       "      <td>3</td>\n",
       "      <td>Vestrom, Miss. Hulda Amanda Adolfina</td>\n",
       "      <td>female</td>\n",
       "      <td>14.0</td>\n",
       "      <td>0</td>\n",
       "      <td>0</td>\n",
       "      <td>350406</td>\n",
       "      <td>7.8542</td>\n",
       "      <td>...</td>\n",
       "      <td>1</td>\n",
       "      <td>0</td>\n",
       "      <td>0</td>\n",
       "      <td>0</td>\n",
       "      <td>0</td>\n",
       "      <td>0</td>\n",
       "      <td>0</td>\n",
       "      <td>0</td>\n",
       "      <td>0</td>\n",
       "      <td>1</td>\n",
       "    </tr>\n",
       "  </tbody>\n",
       "</table>\n",
       "<p>15 rows × 107 columns</p>\n",
       "</div>"
      ],
      "text/plain": [
       "    PassengerId  Survived  Pclass  \\\n",
       "0             1         0       3   \n",
       "1             2         1       1   \n",
       "2             3         1       3   \n",
       "3             4         1       1   \n",
       "4             5         0       3   \n",
       "5             6         0       3   \n",
       "6             7         0       1   \n",
       "7             8         0       3   \n",
       "8             9         1       3   \n",
       "9            10         1       2   \n",
       "10           11         1       3   \n",
       "11           12         1       1   \n",
       "12           13         0       3   \n",
       "13           14         0       3   \n",
       "14           15         0       3   \n",
       "\n",
       "                                                 Name     Sex   Age  SibSp  \\\n",
       "0                             Braund, Mr. Owen Harris    male  22.0      1   \n",
       "1   Cumings, Mrs. John Bradley (Florence Briggs Th...  female  38.0      1   \n",
       "2                              Heikkinen, Miss. Laina  female  26.0      0   \n",
       "3        Futrelle, Mrs. Jacques Heath (Lily May Peel)  female  35.0      1   \n",
       "4                            Allen, Mr. William Henry    male  35.0      0   \n",
       "5                                    Moran, Mr. James    male  35.0      0   \n",
       "6                             McCarthy, Mr. Timothy J    male  54.0      0   \n",
       "7                      Palsson, Master. Gosta Leonard    male   2.0      3   \n",
       "8   Johnson, Mrs. Oscar W (Elisabeth Vilhelmina Berg)  female  27.0      0   \n",
       "9                 Nasser, Mrs. Nicholas (Adele Achem)  female  14.0      1   \n",
       "10                    Sandstrom, Miss. Marguerite Rut  female   4.0      1   \n",
       "11                           Bonnell, Miss. Elizabeth  female  58.0      0   \n",
       "12                     Saundercock, Mr. William Henry    male  20.0      0   \n",
       "13                        Andersson, Mr. Anders Johan    male  39.0      1   \n",
       "14               Vestrom, Miss. Hulda Amanda Adolfina  female  14.0      0   \n",
       "\n",
       "    Parch            Ticket     Fare  ... CABIN_C CABIN_D  CABIN_E  CABIN_F  \\\n",
       "0       0         A/5 21171   7.2500  ...       0       0        0        0   \n",
       "1       0          PC 17599  71.2833  ...       1       0        0        0   \n",
       "2       0  STON/O2. 3101282   7.9250  ...       1       0        0        0   \n",
       "3       0            113803  53.1000  ...       1       0        0        0   \n",
       "4       0            373450   8.0500  ...       1       0        0        0   \n",
       "5       0            330877   8.4583  ...       1       0        0        0   \n",
       "6       0             17463  51.8625  ...       0       0        1        0   \n",
       "7       1            349909  21.0750  ...       0       0        1        0   \n",
       "8       2            347742  11.1333  ...       0       0        1        0   \n",
       "9       0            237736  30.0708  ...       0       0        1        0   \n",
       "10      1           PP 9549  16.7000  ...       0       0        0        0   \n",
       "11      0            113783  26.5500  ...       1       0        0        0   \n",
       "12      0         A/5. 2151   8.0500  ...       1       0        0        0   \n",
       "13      5            347082  31.2750  ...       1       0        0        0   \n",
       "14      0            350406   7.8542  ...       1       0        0        0   \n",
       "\n",
       "    CABIN_G CABIN_T  CABIN_n  EPORT_C  EPORT_Q  EPORT_S  \n",
       "0         0       0        1        0        0        1  \n",
       "1         0       0        0        1        0        0  \n",
       "2         0       0        0        0        0        1  \n",
       "3         0       0        0        0        0        1  \n",
       "4         0       0        0        0        0        1  \n",
       "5         0       0        0        0        1        0  \n",
       "6         0       0        0        0        0        1  \n",
       "7         0       0        0        0        0        1  \n",
       "8         0       0        0        0        0        1  \n",
       "9         0       0        0        1        0        0  \n",
       "10        1       0        0        0        0        1  \n",
       "11        0       0        0        0        0        1  \n",
       "12        0       0        0        0        0        1  \n",
       "13        0       0        0        0        0        1  \n",
       "14        0       0        0        0        0        1  \n",
       "\n",
       "[15 rows x 107 columns]"
      ]
     },
     "execution_count": 62,
     "metadata": {},
     "output_type": "execute_result"
    }
   ],
   "source": [
    "df_train[:SHOW_DATA]"
   ]
  },
  {
   "cell_type": "code",
   "execution_count": 63,
   "id": "faabcb85",
   "metadata": {
    "execution": {
     "iopub.execute_input": "2021-10-30T01:25:57.715078Z",
     "iopub.status.busy": "2021-10-30T01:25:57.714072Z",
     "iopub.status.idle": "2021-10-30T01:25:57.798689Z",
     "shell.execute_reply": "2021-10-30T01:25:57.799190Z",
     "shell.execute_reply.started": "2021-10-30T01:24:27.336945Z"
    },
    "papermill": {
     "duration": 0.206161,
     "end_time": "2021-10-30T01:25:57.799356",
     "exception": false,
     "start_time": "2021-10-30T01:25:57.593195",
     "status": "completed"
    },
    "tags": []
   },
   "outputs": [
    {
     "name": "stdout",
     "output_type": "stream",
     "text": [
      "<class 'pandas.core.frame.DataFrame'>\n",
      "RangeIndex: 418 entries, 0 to 417\n",
      "Columns: 106 entries, PassengerId to EPORT_S\n",
      "dtypes: float64(3), int64(13), object(6), uint8(84)\n",
      "memory usage: 106.3+ KB\n"
     ]
    }
   ],
   "source": [
    "#PREPREPARE DATA df_test\n",
    "##  0   PassengerId  891 non-null    int64--------------------------------------\n",
    "##  1   Survived     891 non-null    int64--------------------------------------\n",
    "##  2   Pclass       891 non-null    int64 --------------------------------------\n",
    "COL_PASSCLASS_D = COL_PASSCLASS+\"_D\"\n",
    "df_test[COL_PASSCLASS_D] = df_test[COL_PASSCLASS]\n",
    "df_test = pd.get_dummies(df_test,prefix = \"PCLASS\",columns=[COL_PASSCLASS_D])\n",
    "##  3   Name         891 non-null    object--------------------------------------\n",
    "# try:\n",
    "#     df_test.drop(COL_NAME, axis=1, inplace=True)\n",
    "# except KeyError:\n",
    "#     pass\n",
    "df_test[COL_NAME_START_LETTER] = df_test[COL_NAME].map(lambda full_name: str(full_name).split(\",\")[0][0])\n",
    "\n",
    "COL_NAME_START_LETTER_D = COL_NAME_START_LETTER+\"_D\"\n",
    "df_train[COL_NAME_START_LETTER_D] = df_train[COL_NAME_START_LETTER]\n",
    "df_test = pd.get_dummies(df_test,prefix = \"N_LETTER\",columns=[COL_NAME_START_LETTER])\n",
    "df_test[\"N_LETTER_U\"] = pd.DataFrame(np.zeros(df_test[\"N_LETTER_M\"].shape),dtype=\"uint8\")\n",
    "df_test[\"N_LETTER_Y\"] = pd.DataFrame(np.zeros(df_test[\"N_LETTER_M\"].shape),dtype=\"uint8\")\n",
    "##  4   Sex          891 non-null    object --------------------------------------\n",
    "##  5   Age          714 non-null    float64--------------------------------------\n",
    "df_test[COL_AGE] = df_test[COL_AGE].fillna(method = \"ffill\")\n",
    "df_test[COL_AGE_SCALED] = df_test[COL_AGE].map(lambda age: age/100)\n",
    "\n",
    "df_test[COL_AGE_GROUP] = COL_AGE_GROUP_process(age_delta,df_test)\n",
    "COL_AGE_GROUP_D = COL_AGE_GROUP+\"_D\"\n",
    "df_test[COL_AGE_GROUP_D] = df_test[COL_AGE_GROUP]\n",
    "df_test = pd.get_dummies(df_test,prefix = \"AGE\",columns=[COL_AGE_GROUP_D])\n",
    "df_test[\"AGE_8\"] = pd.DataFrame(np.zeros(df_test[\"AGE_7\"].shape),dtype=\"uint8\")\n",
    "\n",
    "\n",
    "df_test[COL_AGE_GROUP_2] = COL_AGE_GROUP_process_2(df_test)\n",
    "COL_AGE_GROUP_2_D = COL_AGE_GROUP_2+\"_D\"\n",
    "df_test[COL_AGE_GROUP_2_D] = df_test[COL_AGE_GROUP_2]\n",
    "df_test = pd.get_dummies(df_test,prefix = \"AGE_2\",columns=[COL_AGE_GROUP_2_D])\n",
    "##  6   SibSp        891 non-null    int64 --------------------------------------\n",
    "\n",
    "df_test[COL_SIBSP_GROUP] = df_test[COL_SIBSP].map(lambda sibsp: 2 if sibsp >= 2 else sibsp) \n",
    "COL_SIBSP_GROUP_D = COL_SIBSP_GROUP+\"_D\"\n",
    "df_test[COL_SIBSP_GROUP_D] = df_test[COL_SIBSP_GROUP]\n",
    "df_test = pd.get_dummies(df_test,prefix = \"SIBSP\",columns=[COL_SIBSP_GROUP_D])\n",
    "\n",
    "\n",
    "df_test[COL_SIBSP_GROUP_2] = df_test[COL_SIBSP].map(lambda sibsp: 1 if sibsp >= 1 else 0)\n",
    "COL_SIBSP_GROUP_2_D = COL_SIBSP_GROUP_2+\"_D\"\n",
    "df_test[COL_SIBSP_GROUP_2_D] = df_test[COL_SIBSP_GROUP_2]\n",
    "df_test = pd.get_dummies(df_test,prefix = \"SIBSP_2\",columns=[COL_SIBSP_GROUP_2_D])\n",
    "\n",
    "##  7   Parch        891 non-null    int64 --------------------------------------\n",
    "df_test[COL_PARCH_GROUP] = df_test[COL_PARCH].map(lambda sibsp: 2 if sibsp >= 2 else sibsp)\n",
    "COL_PARCH_GROUP_D = COL_PARCH_GROUP+\"_D\"\n",
    "df_test[COL_PARCH_GROUP_D] = df_test[COL_PARCH_GROUP]\n",
    "df_test = pd.get_dummies(df_test,prefix = \"PARCH\",columns=[COL_PARCH_GROUP_D])\n",
    "\n",
    "df_test[COL_PARCH_GROUP_2] = df_test[COL_PARCH].map(lambda sibsp: 1 if sibsp >= 1 else 0)\n",
    "COL_PARCH_GROUP_2_D = COL_PARCH_GROUP_2+\"_D\"\n",
    "df_test[COL_PARCH_GROUP_2_D] = df_test[COL_PARCH_GROUP_2]\n",
    "df_test = pd.get_dummies(df_test,prefix = \"PARCH_2\",columns=[COL_PARCH_GROUP_2_D])\n",
    "##  8   Ticket       891 non-null    object --------------------------------------\n",
    "counter_tickets = Counter(df_train[COL_TICKET])\n",
    "df_test[COL_TICKET_GROUP] = df_test[COL_TICKET].map(lambda ticket: counter_tickets[ticket])\n",
    "\n",
    "COL_TICKET_GROUP_D = COL_TICKET_GROUP+\"_D\"\n",
    "df_test[COL_TICKET_GROUP_D] = df_test[COL_TICKET_GROUP]\n",
    "df_test = pd.get_dummies(df_test,prefix = \"TICKET\",columns=[COL_TICKET_GROUP_D])\n",
    "##  9   Fare         891 non-null    float64--------------------------------------\n",
    "df_test[COL_FARE] = df_test[COL_FARE].fillna(method = \"ffill\")\n",
    "\n",
    "df_test[COL_FARE_GROUP] = COL_FARE_GROUP_process(fare_delta,df_test)\n",
    "COL_FARE_GROUP_D = COL_FARE_GROUP+\"_D\"\n",
    "df_test[COL_FARE_GROUP_D] = df_test[COL_FARE_GROUP]\n",
    "df_test = pd.get_dummies(df_test,prefix = \"FARE\",columns=[COL_FARE_GROUP_D])\n",
    "\n",
    "df_test[COL_FARE_GROUP_2] = COL_FARE_GROUP_process_2(df_test)\n",
    "COL_FARE_GROUP_2_D = COL_FARE_GROUP_2+\"_D\"\n",
    "df_test[COL_FARE_GROUP_2_D] = df_test[COL_FARE_GROUP_2]\n",
    "df_test = pd.get_dummies(df_test,prefix = \"FARE_2\",columns=[COL_FARE_GROUP_2_D])\n",
    "##  10  Cabin        204 non-null    object --------------------------------------\n",
    "# try:\n",
    "#     df_test.drop(COL_CABIN, axis=1, inplace=True)\n",
    "# except KeyError:\n",
    "#     pass\n",
    "df_test[COL_CABIN] = df_test[COL_CABIN].fillna(method = \"ffill\")\n",
    "df_test[COL_CABIN_GROUP] = df_test[COL_CABIN].map(lambda cabin_title: str(cabin_title)[0])\n",
    "\n",
    "\n",
    "COL_CABIN_GROUP_D = COL_CABIN_GROUP+\"_D\"\n",
    "df_test[COL_CABIN_GROUP_D] = df_test[COL_CABIN_GROUP]\n",
    "df_test = pd.get_dummies(df_test,prefix = \"CABIN\",columns=[COL_CABIN_GROUP_D])\n",
    "df_test[\"CABIN_T\"] = pd.DataFrame(np.zeros(df_test[\"CABIN_C\"].shape),dtype=\"uint8\")\n",
    "##  11  Embarked     889 non-null    object --------------------------------------\n",
    "COL_EPORT_D = COL_EPORT+\"_D\"\n",
    "df_test[COL_EPORT_D] = df_test[COL_EPORT]\n",
    "df_test = pd.get_dummies(df_test,prefix = \"EPORT\",columns=[COL_EPORT_D])\n",
    "\n",
    "df_test.info()"
   ]
  },
  {
   "cell_type": "code",
   "execution_count": 64,
   "id": "0aa2c1b3",
   "metadata": {
    "execution": {
     "iopub.execute_input": "2021-10-30T01:25:58.005722Z",
     "iopub.status.busy": "2021-10-30T01:25:58.004744Z",
     "iopub.status.idle": "2021-10-30T01:25:58.026624Z",
     "shell.execute_reply": "2021-10-30T01:25:58.027144Z",
     "shell.execute_reply.started": "2021-10-30T01:24:27.442425Z"
    },
    "papermill": {
     "duration": 0.128659,
     "end_time": "2021-10-30T01:25:58.027291",
     "exception": false,
     "start_time": "2021-10-30T01:25:57.898632",
     "status": "completed"
    },
    "tags": []
   },
   "outputs": [
    {
     "data": {
      "text/html": [
       "<div>\n",
       "<style scoped>\n",
       "    .dataframe tbody tr th:only-of-type {\n",
       "        vertical-align: middle;\n",
       "    }\n",
       "\n",
       "    .dataframe tbody tr th {\n",
       "        vertical-align: top;\n",
       "    }\n",
       "\n",
       "    .dataframe thead th {\n",
       "        text-align: right;\n",
       "    }\n",
       "</style>\n",
       "<table border=\"1\" class=\"dataframe\">\n",
       "  <thead>\n",
       "    <tr style=\"text-align: right;\">\n",
       "      <th></th>\n",
       "      <th>PassengerId</th>\n",
       "      <th>Survived</th>\n",
       "      <th>Pclass</th>\n",
       "      <th>Name</th>\n",
       "      <th>Sex</th>\n",
       "      <th>Age</th>\n",
       "      <th>SibSp</th>\n",
       "      <th>Parch</th>\n",
       "      <th>Ticket</th>\n",
       "      <th>Fare</th>\n",
       "      <th>...</th>\n",
       "      <th>CABIN_D</th>\n",
       "      <th>CABIN_E</th>\n",
       "      <th>CABIN_F</th>\n",
       "      <th>CABIN_G</th>\n",
       "      <th>CABIN_T</th>\n",
       "      <th>CABIN_n</th>\n",
       "      <th>EPORT_C</th>\n",
       "      <th>EPORT_Q</th>\n",
       "      <th>EPORT_S</th>\n",
       "      <th>Name_First_Letter_D</th>\n",
       "    </tr>\n",
       "  </thead>\n",
       "  <tbody>\n",
       "    <tr>\n",
       "      <th>0</th>\n",
       "      <td>1</td>\n",
       "      <td>0</td>\n",
       "      <td>3</td>\n",
       "      <td>Braund, Mr. Owen Harris</td>\n",
       "      <td>male</td>\n",
       "      <td>22.0</td>\n",
       "      <td>1</td>\n",
       "      <td>0</td>\n",
       "      <td>A/5 21171</td>\n",
       "      <td>7.2500</td>\n",
       "      <td>...</td>\n",
       "      <td>0</td>\n",
       "      <td>0</td>\n",
       "      <td>0</td>\n",
       "      <td>0</td>\n",
       "      <td>0</td>\n",
       "      <td>1</td>\n",
       "      <td>0</td>\n",
       "      <td>0</td>\n",
       "      <td>1</td>\n",
       "      <td>B</td>\n",
       "    </tr>\n",
       "    <tr>\n",
       "      <th>1</th>\n",
       "      <td>2</td>\n",
       "      <td>1</td>\n",
       "      <td>1</td>\n",
       "      <td>Cumings, Mrs. John Bradley (Florence Briggs Th...</td>\n",
       "      <td>female</td>\n",
       "      <td>38.0</td>\n",
       "      <td>1</td>\n",
       "      <td>0</td>\n",
       "      <td>PC 17599</td>\n",
       "      <td>71.2833</td>\n",
       "      <td>...</td>\n",
       "      <td>0</td>\n",
       "      <td>0</td>\n",
       "      <td>0</td>\n",
       "      <td>0</td>\n",
       "      <td>0</td>\n",
       "      <td>0</td>\n",
       "      <td>1</td>\n",
       "      <td>0</td>\n",
       "      <td>0</td>\n",
       "      <td>C</td>\n",
       "    </tr>\n",
       "    <tr>\n",
       "      <th>2</th>\n",
       "      <td>3</td>\n",
       "      <td>1</td>\n",
       "      <td>3</td>\n",
       "      <td>Heikkinen, Miss. Laina</td>\n",
       "      <td>female</td>\n",
       "      <td>26.0</td>\n",
       "      <td>0</td>\n",
       "      <td>0</td>\n",
       "      <td>STON/O2. 3101282</td>\n",
       "      <td>7.9250</td>\n",
       "      <td>...</td>\n",
       "      <td>0</td>\n",
       "      <td>0</td>\n",
       "      <td>0</td>\n",
       "      <td>0</td>\n",
       "      <td>0</td>\n",
       "      <td>0</td>\n",
       "      <td>0</td>\n",
       "      <td>0</td>\n",
       "      <td>1</td>\n",
       "      <td>H</td>\n",
       "    </tr>\n",
       "    <tr>\n",
       "      <th>3</th>\n",
       "      <td>4</td>\n",
       "      <td>1</td>\n",
       "      <td>1</td>\n",
       "      <td>Futrelle, Mrs. Jacques Heath (Lily May Peel)</td>\n",
       "      <td>female</td>\n",
       "      <td>35.0</td>\n",
       "      <td>1</td>\n",
       "      <td>0</td>\n",
       "      <td>113803</td>\n",
       "      <td>53.1000</td>\n",
       "      <td>...</td>\n",
       "      <td>0</td>\n",
       "      <td>0</td>\n",
       "      <td>0</td>\n",
       "      <td>0</td>\n",
       "      <td>0</td>\n",
       "      <td>0</td>\n",
       "      <td>0</td>\n",
       "      <td>0</td>\n",
       "      <td>1</td>\n",
       "      <td>F</td>\n",
       "    </tr>\n",
       "    <tr>\n",
       "      <th>4</th>\n",
       "      <td>5</td>\n",
       "      <td>0</td>\n",
       "      <td>3</td>\n",
       "      <td>Allen, Mr. William Henry</td>\n",
       "      <td>male</td>\n",
       "      <td>35.0</td>\n",
       "      <td>0</td>\n",
       "      <td>0</td>\n",
       "      <td>373450</td>\n",
       "      <td>8.0500</td>\n",
       "      <td>...</td>\n",
       "      <td>0</td>\n",
       "      <td>0</td>\n",
       "      <td>0</td>\n",
       "      <td>0</td>\n",
       "      <td>0</td>\n",
       "      <td>0</td>\n",
       "      <td>0</td>\n",
       "      <td>0</td>\n",
       "      <td>1</td>\n",
       "      <td>A</td>\n",
       "    </tr>\n",
       "    <tr>\n",
       "      <th>5</th>\n",
       "      <td>6</td>\n",
       "      <td>0</td>\n",
       "      <td>3</td>\n",
       "      <td>Moran, Mr. James</td>\n",
       "      <td>male</td>\n",
       "      <td>35.0</td>\n",
       "      <td>0</td>\n",
       "      <td>0</td>\n",
       "      <td>330877</td>\n",
       "      <td>8.4583</td>\n",
       "      <td>...</td>\n",
       "      <td>0</td>\n",
       "      <td>0</td>\n",
       "      <td>0</td>\n",
       "      <td>0</td>\n",
       "      <td>0</td>\n",
       "      <td>0</td>\n",
       "      <td>0</td>\n",
       "      <td>1</td>\n",
       "      <td>0</td>\n",
       "      <td>M</td>\n",
       "    </tr>\n",
       "    <tr>\n",
       "      <th>6</th>\n",
       "      <td>7</td>\n",
       "      <td>0</td>\n",
       "      <td>1</td>\n",
       "      <td>McCarthy, Mr. Timothy J</td>\n",
       "      <td>male</td>\n",
       "      <td>54.0</td>\n",
       "      <td>0</td>\n",
       "      <td>0</td>\n",
       "      <td>17463</td>\n",
       "      <td>51.8625</td>\n",
       "      <td>...</td>\n",
       "      <td>0</td>\n",
       "      <td>1</td>\n",
       "      <td>0</td>\n",
       "      <td>0</td>\n",
       "      <td>0</td>\n",
       "      <td>0</td>\n",
       "      <td>0</td>\n",
       "      <td>0</td>\n",
       "      <td>1</td>\n",
       "      <td>M</td>\n",
       "    </tr>\n",
       "    <tr>\n",
       "      <th>7</th>\n",
       "      <td>8</td>\n",
       "      <td>0</td>\n",
       "      <td>3</td>\n",
       "      <td>Palsson, Master. Gosta Leonard</td>\n",
       "      <td>male</td>\n",
       "      <td>2.0</td>\n",
       "      <td>3</td>\n",
       "      <td>1</td>\n",
       "      <td>349909</td>\n",
       "      <td>21.0750</td>\n",
       "      <td>...</td>\n",
       "      <td>0</td>\n",
       "      <td>1</td>\n",
       "      <td>0</td>\n",
       "      <td>0</td>\n",
       "      <td>0</td>\n",
       "      <td>0</td>\n",
       "      <td>0</td>\n",
       "      <td>0</td>\n",
       "      <td>1</td>\n",
       "      <td>P</td>\n",
       "    </tr>\n",
       "    <tr>\n",
       "      <th>8</th>\n",
       "      <td>9</td>\n",
       "      <td>1</td>\n",
       "      <td>3</td>\n",
       "      <td>Johnson, Mrs. Oscar W (Elisabeth Vilhelmina Berg)</td>\n",
       "      <td>female</td>\n",
       "      <td>27.0</td>\n",
       "      <td>0</td>\n",
       "      <td>2</td>\n",
       "      <td>347742</td>\n",
       "      <td>11.1333</td>\n",
       "      <td>...</td>\n",
       "      <td>0</td>\n",
       "      <td>1</td>\n",
       "      <td>0</td>\n",
       "      <td>0</td>\n",
       "      <td>0</td>\n",
       "      <td>0</td>\n",
       "      <td>0</td>\n",
       "      <td>0</td>\n",
       "      <td>1</td>\n",
       "      <td>J</td>\n",
       "    </tr>\n",
       "    <tr>\n",
       "      <th>9</th>\n",
       "      <td>10</td>\n",
       "      <td>1</td>\n",
       "      <td>2</td>\n",
       "      <td>Nasser, Mrs. Nicholas (Adele Achem)</td>\n",
       "      <td>female</td>\n",
       "      <td>14.0</td>\n",
       "      <td>1</td>\n",
       "      <td>0</td>\n",
       "      <td>237736</td>\n",
       "      <td>30.0708</td>\n",
       "      <td>...</td>\n",
       "      <td>0</td>\n",
       "      <td>1</td>\n",
       "      <td>0</td>\n",
       "      <td>0</td>\n",
       "      <td>0</td>\n",
       "      <td>0</td>\n",
       "      <td>1</td>\n",
       "      <td>0</td>\n",
       "      <td>0</td>\n",
       "      <td>N</td>\n",
       "    </tr>\n",
       "    <tr>\n",
       "      <th>10</th>\n",
       "      <td>11</td>\n",
       "      <td>1</td>\n",
       "      <td>3</td>\n",
       "      <td>Sandstrom, Miss. Marguerite Rut</td>\n",
       "      <td>female</td>\n",
       "      <td>4.0</td>\n",
       "      <td>1</td>\n",
       "      <td>1</td>\n",
       "      <td>PP 9549</td>\n",
       "      <td>16.7000</td>\n",
       "      <td>...</td>\n",
       "      <td>0</td>\n",
       "      <td>0</td>\n",
       "      <td>0</td>\n",
       "      <td>1</td>\n",
       "      <td>0</td>\n",
       "      <td>0</td>\n",
       "      <td>0</td>\n",
       "      <td>0</td>\n",
       "      <td>1</td>\n",
       "      <td>S</td>\n",
       "    </tr>\n",
       "    <tr>\n",
       "      <th>11</th>\n",
       "      <td>12</td>\n",
       "      <td>1</td>\n",
       "      <td>1</td>\n",
       "      <td>Bonnell, Miss. Elizabeth</td>\n",
       "      <td>female</td>\n",
       "      <td>58.0</td>\n",
       "      <td>0</td>\n",
       "      <td>0</td>\n",
       "      <td>113783</td>\n",
       "      <td>26.5500</td>\n",
       "      <td>...</td>\n",
       "      <td>0</td>\n",
       "      <td>0</td>\n",
       "      <td>0</td>\n",
       "      <td>0</td>\n",
       "      <td>0</td>\n",
       "      <td>0</td>\n",
       "      <td>0</td>\n",
       "      <td>0</td>\n",
       "      <td>1</td>\n",
       "      <td>B</td>\n",
       "    </tr>\n",
       "    <tr>\n",
       "      <th>12</th>\n",
       "      <td>13</td>\n",
       "      <td>0</td>\n",
       "      <td>3</td>\n",
       "      <td>Saundercock, Mr. William Henry</td>\n",
       "      <td>male</td>\n",
       "      <td>20.0</td>\n",
       "      <td>0</td>\n",
       "      <td>0</td>\n",
       "      <td>A/5. 2151</td>\n",
       "      <td>8.0500</td>\n",
       "      <td>...</td>\n",
       "      <td>0</td>\n",
       "      <td>0</td>\n",
       "      <td>0</td>\n",
       "      <td>0</td>\n",
       "      <td>0</td>\n",
       "      <td>0</td>\n",
       "      <td>0</td>\n",
       "      <td>0</td>\n",
       "      <td>1</td>\n",
       "      <td>S</td>\n",
       "    </tr>\n",
       "    <tr>\n",
       "      <th>13</th>\n",
       "      <td>14</td>\n",
       "      <td>0</td>\n",
       "      <td>3</td>\n",
       "      <td>Andersson, Mr. Anders Johan</td>\n",
       "      <td>male</td>\n",
       "      <td>39.0</td>\n",
       "      <td>1</td>\n",
       "      <td>5</td>\n",
       "      <td>347082</td>\n",
       "      <td>31.2750</td>\n",
       "      <td>...</td>\n",
       "      <td>0</td>\n",
       "      <td>0</td>\n",
       "      <td>0</td>\n",
       "      <td>0</td>\n",
       "      <td>0</td>\n",
       "      <td>0</td>\n",
       "      <td>0</td>\n",
       "      <td>0</td>\n",
       "      <td>1</td>\n",
       "      <td>A</td>\n",
       "    </tr>\n",
       "    <tr>\n",
       "      <th>14</th>\n",
       "      <td>15</td>\n",
       "      <td>0</td>\n",
       "      <td>3</td>\n",
       "      <td>Vestrom, Miss. Hulda Amanda Adolfina</td>\n",
       "      <td>female</td>\n",
       "      <td>14.0</td>\n",
       "      <td>0</td>\n",
       "      <td>0</td>\n",
       "      <td>350406</td>\n",
       "      <td>7.8542</td>\n",
       "      <td>...</td>\n",
       "      <td>0</td>\n",
       "      <td>0</td>\n",
       "      <td>0</td>\n",
       "      <td>0</td>\n",
       "      <td>0</td>\n",
       "      <td>0</td>\n",
       "      <td>0</td>\n",
       "      <td>0</td>\n",
       "      <td>1</td>\n",
       "      <td>V</td>\n",
       "    </tr>\n",
       "  </tbody>\n",
       "</table>\n",
       "<p>15 rows × 108 columns</p>\n",
       "</div>"
      ],
      "text/plain": [
       "    PassengerId  Survived  Pclass  \\\n",
       "0             1         0       3   \n",
       "1             2         1       1   \n",
       "2             3         1       3   \n",
       "3             4         1       1   \n",
       "4             5         0       3   \n",
       "5             6         0       3   \n",
       "6             7         0       1   \n",
       "7             8         0       3   \n",
       "8             9         1       3   \n",
       "9            10         1       2   \n",
       "10           11         1       3   \n",
       "11           12         1       1   \n",
       "12           13         0       3   \n",
       "13           14         0       3   \n",
       "14           15         0       3   \n",
       "\n",
       "                                                 Name     Sex   Age  SibSp  \\\n",
       "0                             Braund, Mr. Owen Harris    male  22.0      1   \n",
       "1   Cumings, Mrs. John Bradley (Florence Briggs Th...  female  38.0      1   \n",
       "2                              Heikkinen, Miss. Laina  female  26.0      0   \n",
       "3        Futrelle, Mrs. Jacques Heath (Lily May Peel)  female  35.0      1   \n",
       "4                            Allen, Mr. William Henry    male  35.0      0   \n",
       "5                                    Moran, Mr. James    male  35.0      0   \n",
       "6                             McCarthy, Mr. Timothy J    male  54.0      0   \n",
       "7                      Palsson, Master. Gosta Leonard    male   2.0      3   \n",
       "8   Johnson, Mrs. Oscar W (Elisabeth Vilhelmina Berg)  female  27.0      0   \n",
       "9                 Nasser, Mrs. Nicholas (Adele Achem)  female  14.0      1   \n",
       "10                    Sandstrom, Miss. Marguerite Rut  female   4.0      1   \n",
       "11                           Bonnell, Miss. Elizabeth  female  58.0      0   \n",
       "12                     Saundercock, Mr. William Henry    male  20.0      0   \n",
       "13                        Andersson, Mr. Anders Johan    male  39.0      1   \n",
       "14               Vestrom, Miss. Hulda Amanda Adolfina  female  14.0      0   \n",
       "\n",
       "    Parch            Ticket     Fare  ... CABIN_D CABIN_E  CABIN_F  CABIN_G  \\\n",
       "0       0         A/5 21171   7.2500  ...       0       0        0        0   \n",
       "1       0          PC 17599  71.2833  ...       0       0        0        0   \n",
       "2       0  STON/O2. 3101282   7.9250  ...       0       0        0        0   \n",
       "3       0            113803  53.1000  ...       0       0        0        0   \n",
       "4       0            373450   8.0500  ...       0       0        0        0   \n",
       "5       0            330877   8.4583  ...       0       0        0        0   \n",
       "6       0             17463  51.8625  ...       0       1        0        0   \n",
       "7       1            349909  21.0750  ...       0       1        0        0   \n",
       "8       2            347742  11.1333  ...       0       1        0        0   \n",
       "9       0            237736  30.0708  ...       0       1        0        0   \n",
       "10      1           PP 9549  16.7000  ...       0       0        0        1   \n",
       "11      0            113783  26.5500  ...       0       0        0        0   \n",
       "12      0         A/5. 2151   8.0500  ...       0       0        0        0   \n",
       "13      5            347082  31.2750  ...       0       0        0        0   \n",
       "14      0            350406   7.8542  ...       0       0        0        0   \n",
       "\n",
       "    CABIN_T CABIN_n  EPORT_C  EPORT_Q  EPORT_S  Name_First_Letter_D  \n",
       "0         0       1        0        0        1                    B  \n",
       "1         0       0        1        0        0                    C  \n",
       "2         0       0        0        0        1                    H  \n",
       "3         0       0        0        0        1                    F  \n",
       "4         0       0        0        0        1                    A  \n",
       "5         0       0        0        1        0                    M  \n",
       "6         0       0        0        0        1                    M  \n",
       "7         0       0        0        0        1                    P  \n",
       "8         0       0        0        0        1                    J  \n",
       "9         0       0        1        0        0                    N  \n",
       "10        0       0        0        0        1                    S  \n",
       "11        0       0        0        0        1                    B  \n",
       "12        0       0        0        0        1                    S  \n",
       "13        0       0        0        0        1                    A  \n",
       "14        0       0        0        0        1                    V  \n",
       "\n",
       "[15 rows x 108 columns]"
      ]
     },
     "execution_count": 64,
     "metadata": {},
     "output_type": "execute_result"
    }
   ],
   "source": [
    "df_train[:SHOW_DATA]\n"
   ]
  },
  {
   "cell_type": "code",
   "execution_count": 65,
   "id": "59c4b5f4",
   "metadata": {
    "execution": {
     "iopub.execute_input": "2021-10-30T01:25:58.241622Z",
     "iopub.status.busy": "2021-10-30T01:25:58.240567Z",
     "iopub.status.idle": "2021-10-30T01:25:58.242508Z",
     "shell.execute_reply": "2021-10-30T01:25:58.242990Z",
     "shell.execute_reply.started": "2021-10-30T01:24:27.469067Z"
    },
    "papermill": {
     "duration": 0.112551,
     "end_time": "2021-10-30T01:25:58.243136",
     "exception": false,
     "start_time": "2021-10-30T01:25:58.130585",
     "status": "completed"
    },
    "tags": []
   },
   "outputs": [],
   "source": [
    "# #PREPREPARE DATA train_data\n",
    "# mean_age = train_data[COL_AGE].mean()\n",
    "# # train_data[COL_AGE_NaN] = train_data[COL_AGE].fillna(mean_age)\n",
    "# train_data[COL_AGE_NaN] = train_data[COL_AGE].fillna(method = \"ffill\")\n",
    "# train_data[COL_AGE_GROUP] = train_data[COL_AGE].map(lambda age: -1 if pd.isnull(age)  else int(age//age_delta))\n",
    "# train_data[COL_NAME_START_LETTER] = train_data[COL_NAME].map(lambda full_name: str(full_name).split(\",\")[0][0])\n",
    "\n",
    "# COL_AGE_NO_NAN = \"Age_no_NaN\"\n",
    "# train_data[COL_AGE_NO_NAN] = train_data[\"Age\"].fillna( train_data[\"Age\"].mean())\n",
    "# train_data = COL_FARE_GROUP_process(delta,train_data)\n",
    "# COL_AGE_SCALE = \"AGE_SCALE\"\n",
    "# train_data[COL_AGE_SCALE] = train_data[COL_AGE_NO_NAN].map(lambda age: age/100)\n",
    "\n",
    "# train_data[COL_AGE_GROUP] = train_data[COL_AGE_GROUP].map(lambda age: age/100)\n",
    "# # train_data[COL_CABIN] = train_data[COL_CABIN].fillna(method = \"ffill\")\n",
    "# # train_data[COL_CABIN_GROUP] = train_data[COL_CABIN].map(lambda cabin_title: str(cabin_title)[0])\n",
    "# train_data[\"AGE_GROUP\"] = train_data[COL_AGE_NaN].map(lambda age: int(age//10))\n",
    "\n",
    "# # pd.get_dummies(train_data[COL_PASSCLASS])\n",
    "# train_data = pd.get_dummies(train_data,prefix = \"PCLASS\",columns=[COL_PASSCLASS])\n",
    "# train_data = pd.get_dummies(train_data,prefix = \"EPORT\",columns=[COL_EPORT])\n",
    "# train_data = pd.get_dummies(train_data,prefix = \"SIBSP\",columns=[COL_SIBSP])\n",
    "# train_data = pd.get_dummies(train_data,prefix = \"N_LETTER\",columns=[COL_NAME_START_LETTER])\n",
    "# train_data = pd.get_dummies(train_data,prefix = \"AGE_N\",columns=[\"AGE_GROUP\"])\n",
    "\n",
    "# #  train_data[~train_data[COL_CABIN]. isna()][COL_CABIN]\n",
    "# # train_data[COL_CABIN] = train_data[COL_CABIN].fillna(0)\n",
    "# # train_data[COL_CABIN] = train_data[COL_CABIN].fillna(method = \"ffill\")\n",
    "# # train_data[COL_CABIN_GROUP] = train_data[COL_CABIN].map(lambda cabin_title: str(cabin_title)[0])\n",
    "# # train_data[COL_CABIN_GROUP].value_counts().plot.pie()\n",
    "# # train_data.loc[train_data[COL_CABIN_GROUP] != \"0\"][COL_CABIN_GROUP].value_counts().plot.pie()\n",
    "# # train_data.loc[train_data[COL_CABIN_GROUP] != \"0\"][COL_CABIN_GROUP].value_counts()\n",
    "# # train_data[COL_CABIN_GROUP].value_counts().plot.pie()\n",
    "# train_data.info()"
   ]
  },
  {
   "cell_type": "code",
   "execution_count": 66,
   "id": "94ee9639",
   "metadata": {
    "execution": {
     "iopub.execute_input": "2021-10-30T01:25:58.447945Z",
     "iopub.status.busy": "2021-10-30T01:25:58.447075Z",
     "iopub.status.idle": "2021-10-30T01:25:58.449368Z",
     "shell.execute_reply": "2021-10-30T01:25:58.448830Z",
     "shell.execute_reply.started": "2021-10-30T01:24:27.477162Z"
    },
    "papermill": {
     "duration": 0.106412,
     "end_time": "2021-10-30T01:25:58.449479",
     "exception": false,
     "start_time": "2021-10-30T01:25:58.343067",
     "status": "completed"
    },
    "tags": []
   },
   "outputs": [],
   "source": [
    "# test_data.loc[test_data[COL_FARE].isnull()]"
   ]
  },
  {
   "cell_type": "code",
   "execution_count": 67,
   "id": "3ac09dc7",
   "metadata": {
    "execution": {
     "iopub.execute_input": "2021-10-30T01:25:58.651641Z",
     "iopub.status.busy": "2021-10-30T01:25:58.650717Z",
     "iopub.status.idle": "2021-10-30T01:25:58.655727Z",
     "shell.execute_reply": "2021-10-30T01:25:58.655319Z",
     "shell.execute_reply.started": "2021-10-30T01:24:27.486328Z"
    },
    "papermill": {
     "duration": 0.10709,
     "end_time": "2021-10-30T01:25:58.655840",
     "exception": false,
     "start_time": "2021-10-30T01:25:58.548750",
     "status": "completed"
    },
    "tags": []
   },
   "outputs": [],
   "source": [
    "#PREPREPARE DATA test\n",
    "# COL_AGE_NO_NAN = \"Age_no_NaN\"\n",
    "# mean_age = train_data[COL_AGE].mean()\n",
    "# # train_data[COL_AGE_NaN] = train_data[COL_AGE].fillna(mean_age)\n",
    "# test_data[COL_AGE_NaN] = test_data[COL_AGE].fillna(method = \"ffill\")\n",
    "# test_data[COL_AGE_GROUP] = test_data[COL_AGE].map(lambda age: -1 if pd.isnull(age)  else int(age//age_delta))\n",
    "# test_data[COL_NAME_START_LETTER] = test_data[COL_NAME].map(lambda full_name: str(full_name).split(\",\")[0][0])\n",
    "\n",
    "# train_data[COL_AGE_GROUP] = train_data[COL_AGE_GROUP].map(lambda age: age/100)\n",
    "# test_data[COL_AGE_NO_NAN] = test_data[\"Age\"].fillna(test_data[\"Age\"].mean())\n",
    "# test_data = COL_FARE_GROUP_process(delta,test_data)\n",
    "# COL_AGE_SCALE = \"AGE_SCALE\"\n",
    "# test_data[COL_AGE_SCALE] = test_data[COL_AGE_NO_NAN].map(lambda age: age/100)\n",
    "# test_data[COL_CABIN] = test_data[COL_CABIN].fillna(method = \"ffill\")\n",
    "# test_data[COL_CABIN_GROUP] = test_data[COL_CABIN].map(lambda cabin_title: str(cabin_title)[0])\n",
    "# test_data = pd.get_dummies(test_data,prefix = \"CABIN\",columns=[COL_CABIN_GROUP])\n",
    "\n",
    "# # train_data[COL_AGE_GROUP] = train_data[COL_AGE].map(lambda age: -1 if pd.isnull(age)  else int(age//age_delta))\n",
    "# test_data[\"AGE_GROUP\"] = test_data[COL_AGE_NaN].map(lambda age: int(age//age_delta))\n",
    "\n",
    "\n",
    "# test_data = pd.get_dummies(test_data,prefix = \"CABIN\",columns=[COL_CABIN_GROUP])\n",
    "# # pd.get_dummies(train_data[COL_PASSCLASS])\n",
    "# test_data = pd.get_dummies(test_data,prefix = \"PCLASS\",columns=[COL_PASSCLASS])\n",
    "# test_data = pd.get_dummies(test_data,prefix = \"EPORT\",columns=[COL_EPORT])\n",
    "# test_data = pd.get_dummies(test_data,prefix = \"SIBSP\",columns=[COL_SIBSP])\n",
    "# test_data = pd.get_dummies(test_data,prefix = \"N_LETTER\",columns=[COL_NAME_START_LETTER])\n",
    "# test_data = pd.get_dummies(test_data,prefix = \"AGE_N\",columns=[\"AGE_GROUP\"])\n",
    "\n",
    "# test_data[\"AGE_N_8\"] = pd.DataFrame(np.zeros(test_data[\"AGE_N_7\"].shape),dtype=\"uint8\")\n",
    "\n",
    "# test_data.info()\n"
   ]
  },
  {
   "cell_type": "code",
   "execution_count": 68,
   "id": "f961fc66",
   "metadata": {
    "execution": {
     "iopub.execute_input": "2021-10-30T01:25:58.863323Z",
     "iopub.status.busy": "2021-10-30T01:25:58.862595Z",
     "iopub.status.idle": "2021-10-30T01:25:58.865382Z",
     "shell.execute_reply": "2021-10-30T01:25:58.865793Z",
     "shell.execute_reply.started": "2021-10-30T01:24:27.495937Z"
    },
    "papermill": {
     "duration": 0.110466,
     "end_time": "2021-10-30T01:25:58.865946",
     "exception": false,
     "start_time": "2021-10-30T01:25:58.755480",
     "status": "completed"
    },
    "tags": []
   },
   "outputs": [
    {
     "data": {
      "text/plain": [
       "['PassengerId',\n",
       " 'Survived',\n",
       " 'Pclass',\n",
       " 'Name',\n",
       " 'Sex',\n",
       " 'Age',\n",
       " 'SibSp',\n",
       " 'Parch',\n",
       " 'Ticket',\n",
       " 'Fare',\n",
       " 'Cabin',\n",
       " 'Embarked',\n",
       " 'PCLASS_1',\n",
       " 'PCLASS_2',\n",
       " 'PCLASS_3',\n",
       " 'Name_First_Letter',\n",
       " 'N_LETTER_A',\n",
       " 'N_LETTER_B',\n",
       " 'N_LETTER_C',\n",
       " 'N_LETTER_D',\n",
       " 'N_LETTER_E',\n",
       " 'N_LETTER_F',\n",
       " 'N_LETTER_G',\n",
       " 'N_LETTER_H',\n",
       " 'N_LETTER_I',\n",
       " 'N_LETTER_J',\n",
       " 'N_LETTER_K',\n",
       " 'N_LETTER_L',\n",
       " 'N_LETTER_M',\n",
       " 'N_LETTER_N',\n",
       " 'N_LETTER_O',\n",
       " 'N_LETTER_P',\n",
       " 'N_LETTER_Q',\n",
       " 'N_LETTER_R',\n",
       " 'N_LETTER_S',\n",
       " 'N_LETTER_T',\n",
       " 'N_LETTER_U',\n",
       " 'N_LETTER_V',\n",
       " 'N_LETTER_W',\n",
       " 'N_LETTER_Y',\n",
       " 'N_LETTER_Z',\n",
       " 'N_LETTER_d',\n",
       " 'N_LETTER_v',\n",
       " 'Age_Scaled',\n",
       " 'Age_Group',\n",
       " 'AGE_0',\n",
       " 'AGE_1',\n",
       " 'AGE_2',\n",
       " 'AGE_3',\n",
       " 'AGE_4',\n",
       " 'AGE_5',\n",
       " 'AGE_6',\n",
       " 'AGE_7',\n",
       " 'AGE_8',\n",
       " 'Age_Group_2',\n",
       " 'AGE_2_0',\n",
       " 'AGE_2_1',\n",
       " 'AGE_2_2',\n",
       " 'AGE_2_3',\n",
       " 'SibSp_Group',\n",
       " 'SIBSP_0',\n",
       " 'SIBSP_1',\n",
       " 'SIBSP_2',\n",
       " 'SibSp_Group_2',\n",
       " 'SIBSP_2_0',\n",
       " 'SIBSP_2_1',\n",
       " 'Parch_Group',\n",
       " 'PARCH_0',\n",
       " 'PARCH_1',\n",
       " 'PARCH_2',\n",
       " 'Parch_Group_2',\n",
       " 'PARCH_2_0',\n",
       " 'PARCH_2_1',\n",
       " 'Ticket_Group',\n",
       " 'TICKET_1',\n",
       " 'TICKET_2',\n",
       " 'TICKET_3',\n",
       " 'TICKET_4',\n",
       " 'TICKET_5',\n",
       " 'TICKET_6',\n",
       " 'TICKET_7',\n",
       " 'Fare_Group',\n",
       " 'FARE_0',\n",
       " 'FARE_1',\n",
       " 'FARE_2',\n",
       " 'FARE_3',\n",
       " 'FARE_4',\n",
       " 'FARE_5',\n",
       " 'FARE_10',\n",
       " 'Fare_Group_2',\n",
       " 'FARE_2_0',\n",
       " 'FARE_2_1',\n",
       " 'FARE_2_2',\n",
       " 'FARE_2_3',\n",
       " 'Cabin_Group_D',\n",
       " 'CABIN_A',\n",
       " 'CABIN_B',\n",
       " 'CABIN_C',\n",
       " 'CABIN_D',\n",
       " 'CABIN_E',\n",
       " 'CABIN_F',\n",
       " 'CABIN_G',\n",
       " 'CABIN_T',\n",
       " 'CABIN_n',\n",
       " 'EPORT_C',\n",
       " 'EPORT_Q',\n",
       " 'EPORT_S',\n",
       " 'Name_First_Letter_D']"
      ]
     },
     "execution_count": 68,
     "metadata": {},
     "output_type": "execute_result"
    }
   ],
   "source": [
    "df_train.columns.tolist()"
   ]
  },
  {
   "cell_type": "code",
   "execution_count": 69,
   "id": "8bbe10a8",
   "metadata": {
    "execution": {
     "iopub.execute_input": "2021-10-30T01:25:59.068284Z",
     "iopub.status.busy": "2021-10-30T01:25:59.067584Z",
     "iopub.status.idle": "2021-10-30T01:25:59.070628Z",
     "shell.execute_reply": "2021-10-30T01:25:59.071039Z",
     "shell.execute_reply.started": "2021-10-30T01:24:27.509322Z"
    },
    "papermill": {
     "duration": 0.10713,
     "end_time": "2021-10-30T01:25:59.071187",
     "exception": false,
     "start_time": "2021-10-30T01:25:58.964057",
     "status": "completed"
    },
    "tags": []
   },
   "outputs": [],
   "source": [
    "\n",
    "df = df_train\n",
    "td = df_test\n",
    "\n",
    "df_y = df[COL_SURVIVED]\n",
    "# del df[COL_SURVIVED]\n",
    "df_x = df\n",
    "\n",
    "\n",
    "\n",
    "# delimiter = 0.30\n",
    "# lenght = int(len(df)*(1-delimiter))\n",
    "# train = df[:lenght]\n",
    "# test = df[lenght:]\n",
    "# [df.shape,train.shape,\\\n",
    "# test.shape,]"
   ]
  },
  {
   "cell_type": "code",
   "execution_count": 70,
   "id": "d01fbb18",
   "metadata": {
    "execution": {
     "iopub.execute_input": "2021-10-30T01:25:59.272083Z",
     "iopub.status.busy": "2021-10-30T01:25:59.271536Z",
     "iopub.status.idle": "2021-10-30T01:25:59.275322Z",
     "shell.execute_reply": "2021-10-30T01:25:59.274893Z",
     "shell.execute_reply.started": "2021-10-30T01:24:27.518340Z"
    },
    "papermill": {
     "duration": 0.105996,
     "end_time": "2021-10-30T01:25:59.275441",
     "exception": false,
     "start_time": "2021-10-30T01:25:59.169445",
     "status": "completed"
    },
    "tags": []
   },
   "outputs": [],
   "source": [
    "# train.shape"
   ]
  },
  {
   "cell_type": "code",
   "execution_count": 71,
   "id": "9991b076",
   "metadata": {
    "execution": {
     "iopub.execute_input": "2021-10-30T01:25:59.483103Z",
     "iopub.status.busy": "2021-10-30T01:25:59.482135Z",
     "iopub.status.idle": "2021-10-30T01:25:59.489112Z",
     "shell.execute_reply": "2021-10-30T01:25:59.488627Z",
     "shell.execute_reply.started": "2021-10-30T01:24:27.526555Z"
    },
    "papermill": {
     "duration": 0.115283,
     "end_time": "2021-10-30T01:25:59.489240",
     "exception": false,
     "start_time": "2021-10-30T01:25:59.373957",
     "status": "completed"
    },
    "tags": []
   },
   "outputs": [
    {
     "data": {
      "text/plain": [
       "[(596, 108), (295, 108), (295,), (596,)]"
      ]
     },
     "execution_count": 71,
     "metadata": {},
     "output_type": "execute_result"
    }
   ],
   "source": [
    "# prepare data for train model\n",
    "\n",
    "\n",
    "X_train, X_test, y_train, y_test = train_test_split(df_x,df_y,test_size=0.33, random_state=0)\n",
    "[X_train.shape,\\\n",
    "X_test.shape,\\\n",
    "y_test.shape,\\\n",
    "y_train.shape]"
   ]
  },
  {
   "cell_type": "code",
   "execution_count": 72,
   "id": "4b70da8a",
   "metadata": {
    "execution": {
     "iopub.execute_input": "2021-10-30T01:25:59.697286Z",
     "iopub.status.busy": "2021-10-30T01:25:59.695206Z",
     "iopub.status.idle": "2021-10-30T01:25:59.699732Z",
     "shell.execute_reply": "2021-10-30T01:25:59.699319Z",
     "shell.execute_reply.started": "2021-10-30T01:24:27.543620Z"
    },
    "papermill": {
     "duration": 0.111329,
     "end_time": "2021-10-30T01:25:59.699847",
     "exception": false,
     "start_time": "2021-10-30T01:25:59.588518",
     "status": "completed"
    },
    "tags": []
   },
   "outputs": [],
   "source": [
    "features_1 = [\n",
    " 'Pclass',\n",
    "#  'Name',\n",
    " 'Sex',\n",
    " 'Age',\n",
    " 'SibSp',\n",
    " 'Parch',\n",
    "#  'Ticket',\n",
    " 'Fare',\n",
    "#  'Cabin',\n",
    " 'Embarked',\n",
    "#  'PCLASS_1',\n",
    "#  'PCLASS_2',\n",
    "#  'PCLASS_3',\n",
    "#  'Name_First_Letter',\n",
    "# \"N_LETTER_A\",  \n",
    "\"N_LETTER_B\",  \n",
    "\"N_LETTER_C\",  \n",
    "\"N_LETTER_D\",  \n",
    "\"N_LETTER_E\",  \n",
    "\"N_LETTER_F\",  \n",
    "\"N_LETTER_G\",  \n",
    "\"N_LETTER_H\",  \n",
    "# \"N_LETTER_I\",  \n",
    "\"N_LETTER_J\",  \n",
    "\"N_LETTER_K\",  \n",
    "\"N_LETTER_L\",  \n",
    "\"N_LETTER_M\",  \n",
    "\"N_LETTER_N\",  \n",
    "\"N_LETTER_O\",  \n",
    "\"N_LETTER_P\",  \n",
    "# \"N_LETTER_Q\",  \n",
    "\"N_LETTER_R\",  \n",
    "\"N_LETTER_S\",\n",
    "\"N_LETTER_T\",  \n",
    "# \"N_LETTER_U\",  \n",
    "# \"N_LETTER_V\",  \n",
    "# \"N_LETTER_W\",  \n",
    "# \"N_LETTER_Y\",  \n",
    "# \"N_LETTER_Z\",  \n",
    "# # \"N_LETTER_d\",  \n",
    "# # \"N_LETTER_v\", \n",
    "#  'Age_Scaled',\n",
    " 'Age_Group',\n",
    "#  'AGE_0',\n",
    "#  'AGE_1',\n",
    "#  'AGE_2',\n",
    "#  'AGE_3',\n",
    "#  'AGE_4',\n",
    "#  'AGE_5',\n",
    "#  'AGE_6',\n",
    "#  'AGE_7',\n",
    " 'AGE_8',\n",
    " 'Age_Group_2',\n",
    "#  'AGE_2_0',\n",
    "#  'AGE_2_1',\n",
    "#  'AGE_2_2',\n",
    "#  'AGE_2_3',\n",
    "#  'SibSp_Group',\n",
    "#  'SIBSP_0',\n",
    "#  'SIBSP_1',\n",
    "#  'SIBSP_2',\n",
    " 'SibSp_Group_2',\n",
    "#  'SIBSP_2_0',\n",
    "#  'SIBSP_2_1',\n",
    " 'Parch_Group',\n",
    "#  'PARCH_0',\n",
    "#  'PARCH_1',\n",
    "#  'PARCH_2',\n",
    " 'Parch_Group_2',\n",
    "#  'PARCH_2_0',\n",
    "#  'PARCH_2_1',\n",
    "#  'Ticket_Group',\n",
    "#  'TICKET_1',\n",
    "#  'TICKET_2',\n",
    "#  'TICKET_3',\n",
    "#  'TICKET_4',\n",
    "#  'TICKET_5',\n",
    "#  'TICKET_6',\n",
    "#  'TICKET_7',\n",
    " 'Fare_Group',\n",
    "#  'FARE_0',\n",
    "#  'FARE_1',\n",
    "#  'FARE_2',\n",
    "#  'FARE_3',\n",
    "#  'FARE_4',\n",
    "#  'FARE_5',\n",
    "#  'FARE_10',\n",
    " 'Fare_Group_2',\n",
    "#  'FARE_2_0',\n",
    "#  'FARE_2_1',\n",
    "#  'FARE_2_2',\n",
    "#  'FARE_2_3',\n",
    "#  'Cabin_Group_D',\n",
    "#  'CABIN_A',\n",
    "#  'CABIN_B',\n",
    "#  'CABIN_C',\n",
    "#  'CABIN_D',\n",
    "#  'CABIN_E',\n",
    "#  'CABIN_F',\n",
    "#  'CABIN_G',\n",
    "#  'CABIN_T',\n",
    "#  'CABIN_n',\n",
    "#  'EPORT_C',\n",
    "#  'EPORT_Q',\n",
    "#  'EPORT_S',\n",
    "#  'Name_First_Letter_D'\n",
    "]\n",
    "features_list = [\n",
    "    'Sex',\n",
    "#     'Age',\n",
    "    'Age_Scaled',\n",
    "    'Pclass',\n",
    "    'SibSp',\n",
    "    'Parch',\n",
    "    'Fare',\n",
    "    'Embarked',\n",
    "#     'Ticket_Group',\n",
    "    [\n",
    "        'TICKET_1',\n",
    "        'TICKET_2',\n",
    "         'TICKET_3',\n",
    "         'TICKET_4',\n",
    "         'TICKET_5',\n",
    "         'TICKET_6',\n",
    "         'TICKET_7',\n",
    "    ] ,\n",
    "    'Age_Group', \n",
    "    'SibSp_Group',\n",
    "    'Parch_Group',\n",
    "    'Fare_Group',\n",
    "    'SibSp_Group_2',\n",
    "    'Parch_Group_2',\n",
    "    'Fare_Group_2',\n",
    "# #    \n",
    "] \n",
    "# y = train[\"Survived\"]\n",
    "# X = pd.get_dummies(train[features])\n",
    "# X_test = pd.get_dummies(test[features])\n",
    "# ----- \n",
    "# X,y = pd.get_dummies(X_train[features]), y_train\n",
    "# test_X = pd.get_dummies(X_test[features])\n",
    "# [X_train.shape,\\\n",
    "# X_test.shape,\\\n",
    "# y_test.shape,\\\n",
    "# y_train.shape]\n"
   ]
  },
  {
   "cell_type": "code",
   "execution_count": 73,
   "id": "563a3263",
   "metadata": {
    "execution": {
     "iopub.execute_input": "2021-10-30T01:25:59.911899Z",
     "iopub.status.busy": "2021-10-30T01:25:59.911240Z",
     "iopub.status.idle": "2021-10-30T01:25:59.913928Z",
     "shell.execute_reply": "2021-10-30T01:25:59.914338Z",
     "shell.execute_reply.started": "2021-10-30T01:24:27.555307Z"
    },
    "papermill": {
     "duration": 0.109208,
     "end_time": "2021-10-30T01:25:59.914470",
     "exception": false,
     "start_time": "2021-10-30T01:25:59.805262",
     "status": "completed"
    },
    "tags": []
   },
   "outputs": [
    {
     "data": {
      "text/plain": [
       "15"
      ]
     },
     "execution_count": 73,
     "metadata": {},
     "output_type": "execute_result"
    }
   ],
   "source": [
    "# create a lot of features for research\n",
    "features = {}\n",
    "temporary_list = []\n",
    "for number,feature  in enumerate(features_list):\n",
    "    if type(feature) == str:\n",
    "        temporary_list.append(feature)\n",
    "    elif type(feature) == list:\n",
    "         temporary_list.extend(feature)\n",
    "    features[number] = temporary_list\n",
    "    temporary_list = temporary_list.copy()\n",
    "len(features)"
   ]
  },
  {
   "cell_type": "code",
   "execution_count": null,
   "id": "592aff13",
   "metadata": {
    "papermill": {
     "duration": 0.099174,
     "end_time": "2021-10-30T01:26:00.112069",
     "exception": false,
     "start_time": "2021-10-30T01:26:00.012895",
     "status": "completed"
    },
    "tags": []
   },
   "outputs": [],
   "source": []
  },
  {
   "cell_type": "code",
   "execution_count": 74,
   "id": "99f221c5",
   "metadata": {
    "execution": {
     "iopub.execute_input": "2021-10-30T01:26:00.318951Z",
     "iopub.status.busy": "2021-10-30T01:26:00.318080Z",
     "iopub.status.idle": "2021-10-30T01:26:03.001045Z",
     "shell.execute_reply": "2021-10-30T01:26:03.000582Z",
     "shell.execute_reply.started": "2021-10-30T01:24:27.570412Z"
    },
    "papermill": {
     "duration": 2.789978,
     "end_time": "2021-10-30T01:26:03.001178",
     "exception": false,
     "start_time": "2021-10-30T01:26:00.211200",
     "status": "completed"
    },
    "tags": []
   },
   "outputs": [
    {
     "data": {
      "text/plain": [
       "{0: RandomForestClassifier(max_depth=6, random_state=1),\n",
       " 1: RandomForestClassifier(max_depth=6, random_state=1),\n",
       " 2: RandomForestClassifier(max_depth=6, random_state=1),\n",
       " 3: RandomForestClassifier(max_depth=6, random_state=1),\n",
       " 4: RandomForestClassifier(max_depth=6, random_state=1),\n",
       " 5: RandomForestClassifier(max_depth=6, random_state=1),\n",
       " 6: RandomForestClassifier(max_depth=6, random_state=1),\n",
       " 7: RandomForestClassifier(max_depth=6, random_state=1),\n",
       " 8: RandomForestClassifier(max_depth=6, random_state=1),\n",
       " 9: RandomForestClassifier(max_depth=6, random_state=1),\n",
       " 10: RandomForestClassifier(max_depth=6, random_state=1),\n",
       " 11: RandomForestClassifier(max_depth=6, random_state=1),\n",
       " 12: RandomForestClassifier(max_depth=6, random_state=1),\n",
       " 13: RandomForestClassifier(max_depth=6, random_state=1),\n",
       " 14: RandomForestClassifier(max_depth=6, random_state=1)}"
      ]
     },
     "execution_count": 74,
     "metadata": {},
     "output_type": "execute_result"
    }
   ],
   "source": [
    "models = {}\n",
    "for number,feature in features.items():\n",
    "    X,y = pd.get_dummies(X_train[feature]), y_train\n",
    "    test_X = pd.get_dummies(X_test[feature])\n",
    "    clf = RandomForestClassifier(n_estimators=100, max_depth=6, random_state=1)\n",
    "    clf.fit(X,y)\n",
    "    models[number] = clf\n",
    "models"
   ]
  },
  {
   "cell_type": "code",
   "execution_count": 75,
   "id": "011ad046",
   "metadata": {
    "execution": {
     "iopub.execute_input": "2021-10-30T01:26:03.208129Z",
     "iopub.status.busy": "2021-10-30T01:26:03.207256Z",
     "iopub.status.idle": "2021-10-30T01:26:03.209615Z",
     "shell.execute_reply": "2021-10-30T01:26:03.209113Z",
     "shell.execute_reply.started": "2021-10-30T01:24:30.522147Z"
    },
    "papermill": {
     "duration": 0.106169,
     "end_time": "2021-10-30T01:26:03.209726",
     "exception": false,
     "start_time": "2021-10-30T01:26:03.103557",
     "status": "completed"
    },
    "tags": []
   },
   "outputs": [],
   "source": [
    "# clf = RandomForestClassifier(n_estimators=1000, max_depth=6, random_state=1)\n",
    "# clf.fit(X,y)\n",
    "# predictions = clf.predict(test_X)\n",
    "\n",
    "# output = pd.DataFrame({'PassengerId': X_test.PassengerId, 'Survived': predictions})\n",
    "# # output.to_csv('submission.csv', index=False)\n",
    "# print(\"Your submission was successfully saved!\")\n",
    "\n",
    "# # X_test[COL_PASSID]\n",
    "# print(classification_report(y_test,predictions))"
   ]
  },
  {
   "cell_type": "code",
   "execution_count": 76,
   "id": "7d4b5f9a",
   "metadata": {
    "execution": {
     "iopub.execute_input": "2021-10-30T01:26:03.419763Z",
     "iopub.status.busy": "2021-10-30T01:26:03.418879Z",
     "iopub.status.idle": "2021-10-30T01:26:03.711521Z",
     "shell.execute_reply": "2021-10-30T01:26:03.711942Z",
     "shell.execute_reply.started": "2021-10-30T01:24:30.527722Z"
    },
    "papermill": {
     "duration": 0.402899,
     "end_time": "2021-10-30T01:26:03.712093",
     "exception": false,
     "start_time": "2021-10-30T01:26:03.309194",
     "status": "completed"
    },
    "tags": []
   },
   "outputs": [
    {
     "data": {
      "text/plain": [
       "{0: RandomForestClassifier(max_depth=6, random_state=1),\n",
       " 1: RandomForestClassifier(max_depth=6, random_state=1),\n",
       " 2: RandomForestClassifier(max_depth=6, random_state=1),\n",
       " 3: RandomForestClassifier(max_depth=6, random_state=1),\n",
       " 4: RandomForestClassifier(max_depth=6, random_state=1),\n",
       " 5: RandomForestClassifier(max_depth=6, random_state=1),\n",
       " 6: RandomForestClassifier(max_depth=6, random_state=1),\n",
       " 7: RandomForestClassifier(max_depth=6, random_state=1),\n",
       " 8: RandomForestClassifier(max_depth=6, random_state=1),\n",
       " 9: RandomForestClassifier(max_depth=6, random_state=1),\n",
       " 10: RandomForestClassifier(max_depth=6, random_state=1),\n",
       " 11: RandomForestClassifier(max_depth=6, random_state=1),\n",
       " 12: RandomForestClassifier(max_depth=6, random_state=1),\n",
       " 13: RandomForestClassifier(max_depth=6, random_state=1),\n",
       " 14: RandomForestClassifier(max_depth=6, random_state=1)}"
      ]
     },
     "execution_count": 76,
     "metadata": {},
     "output_type": "execute_result"
    }
   ],
   "source": [
    "result_of_prediction = {}\n",
    "conf_matrix = {}\n",
    "\n",
    "for feature_pair, model_pair in zip(features.items(), models.items()):\n",
    "    m_num, model = model_pair\n",
    "    f_num, feature = feature_pair\n",
    "    assert f_num == m_num , f\"incorrect unpacking, feature number is {f_num} and model number is {m_num}, but should be same!\"\n",
    "    X,y = pd.get_dummies(X_train[feature]), y_train\n",
    "    test_X = pd.get_dummies(X_test[feature])\n",
    "    predictions = model.predict(test_X)\n",
    "    CM = confusion_matrix(y_test,predictions)\n",
    "    \n",
    "    result_of_prediction[f_num] = predictions\n",
    "    conf_matrix[f_num] = CM\n",
    "models\n",
    "#f_num, feature, m_num, model"
   ]
  },
  {
   "cell_type": "code",
   "execution_count": 77,
   "id": "ee485cf3",
   "metadata": {
    "execution": {
     "iopub.execute_input": "2021-10-30T01:26:03.926981Z",
     "iopub.status.busy": "2021-10-30T01:26:03.926078Z",
     "iopub.status.idle": "2021-10-30T01:26:04.667936Z",
     "shell.execute_reply": "2021-10-30T01:26:04.667489Z",
     "shell.execute_reply.started": "2021-10-30T01:24:30.843840Z"
    },
    "papermill": {
     "duration": 0.855359,
     "end_time": "2021-10-30T01:26:04.668077",
     "exception": false,
     "start_time": "2021-10-30T01:26:03.812718",
     "status": "completed"
    },
    "tags": []
   },
   "outputs": [
    {
     "data": {
      "image/png": "[encoded data removed]",
      "text/plain": [
       "<Figure size 1275.59x850.394 with 1 Axes>"
      ]
     },
     "metadata": {
      "needs_background": "light"
     },
     "output_type": "display_data"
    }
   ],
   "source": [
    "auc_results = {}\n",
    "\n",
    "def cm_to_inch(value):\n",
    "    return value/2.54\n",
    "plt.rcParams[\"figure.figsize\"]=(cm_to_inch(15*3),cm_to_inch(10*3))\n",
    "\n",
    "for feature_pair, model_pair in zip(features.items(), models.items()):\n",
    "    m_num, model = model_pair\n",
    "    f_num, feature = feature_pair\n",
    "    assert f_num == m_num , f\"incorrect unpacking, feature number is {f_num} and model number is {m_num}, but should be same!\"\n",
    "    test_X = pd.get_dummies(X_test[feature])\n",
    "    y_pred_proba = model.predict_proba(test_X)[::,1]\n",
    "    fpr, tpr, _ = roc_curve(y_test,  y_pred_proba)\n",
    "    auc = roc_auc_score(y_test, y_pred_proba)\n",
    "    auc_results[f_num] = auc\n",
    "    plt.plot(fpr,tpr,label=f\"f_{f_num}, auc=\"+str(round(auc,PERCISION)))\n",
    "\n",
    "lw = 2\n",
    "# plt.legend(loc=4)\n",
    "\n",
    "plt.plot([0, 1], [0, 1], color=\"navy\", lw=lw, linestyle=\"--\")\n",
    "plt.xlim([0.0, 1.0])\n",
    "plt.ylim([0.0, 1.0])\n",
    "plt.xlabel(\"False Positive Rate\")\n",
    "plt.ylabel(\"True Positive Rate\")\n",
    "plt.title(\"Receiver operating characteristic example\")\n",
    "plt.legend(loc=\"lower right\")\n",
    "\n",
    "# plt.savefig('ROC.png')\n",
    "plt.show()"
   ]
  },
  {
   "cell_type": "code",
   "execution_count": 78,
   "id": "e99c8382",
   "metadata": {
    "execution": {
     "iopub.execute_input": "2021-10-30T01:26:04.881542Z",
     "iopub.status.busy": "2021-10-30T01:26:04.880917Z",
     "iopub.status.idle": "2021-10-30T01:26:04.884142Z",
     "shell.execute_reply": "2021-10-30T01:26:04.884707Z",
     "shell.execute_reply.started": "2021-10-30T01:24:31.574537Z"
    },
    "papermill": {
     "duration": 0.112775,
     "end_time": "2021-10-30T01:26:04.884895",
     "exception": false,
     "start_time": "2021-10-30T01:26:04.772120",
     "status": "completed"
    },
    "tags": []
   },
   "outputs": [
    {
     "name": "stdout",
     "output_type": "stream",
     "text": [
      "5 0.8801899725812771\n",
      "['Sex', 'Age_Scaled', 'Pclass', 'SibSp', 'Parch', 'Fare']\n"
     ]
    }
   ],
   "source": [
    "num_of_best_features = max(auc_results, key=lambda key: auc_results[key])\n",
    "print(num_of_best_features,auc_results[num_of_best_features])\n",
    "print(features[num_of_best_features])"
   ]
  },
  {
   "cell_type": "code",
   "execution_count": 79,
   "id": "e7e0f243",
   "metadata": {
    "execution": {
     "iopub.execute_input": "2021-10-30T01:26:05.115267Z",
     "iopub.status.busy": "2021-10-30T01:26:05.114318Z",
     "iopub.status.idle": "2021-10-30T01:26:05.483908Z",
     "shell.execute_reply": "2021-10-30T01:26:05.484513Z",
     "shell.execute_reply.started": "2021-10-30T01:24:31.581959Z"
    },
    "papermill": {
     "duration": 0.487939,
     "end_time": "2021-10-30T01:26:05.484708",
     "exception": false,
     "start_time": "2021-10-30T01:26:04.996769",
     "status": "completed"
    },
    "tags": []
   },
   "outputs": [
    {
     "name": "stdout",
     "output_type": "stream",
     "text": [
      "Your submission was successfully saved!\n",
      "              precision    recall  f1-score   support\n",
      "\n",
      "           0       0.84      0.88      0.86       184\n",
      "           1       0.79      0.73      0.76       111\n",
      "\n",
      "    accuracy                           0.82       295\n",
      "   macro avg       0.82      0.81      0.81       295\n",
      "weighted avg       0.82      0.82      0.82       295\n",
      "\n"
     ]
    }
   ],
   "source": [
    "feature = features[num_of_best_features]\n",
    "Y = y_train\n",
    "X = pd.get_dummies(X_train[feature])\n",
    "Xtest = pd.get_dummies(X_test[feature])\n",
    "\n",
    "# prepare data for train model\n",
    "\n",
    "model = RandomForestClassifier(n_estimators=200, max_depth=6)\n",
    "# model = RandomForestClassifier(n_estimators = 1000, criterion='entropy',max_features='log2',max_depth=6, random_state=1)\n",
    "model.fit(X, Y)\n",
    "predictions = model.predict(Xtest)\n",
    "\n",
    "output = pd.DataFrame({'PassengerId': X_test.PassengerId, 'Survived': predictions})\n",
    "# output.to_csv('submission.csv', index=False)\n",
    "print(\"Your submission was successfully saved!\")\n",
    "\n",
    "\n",
    "print(classification_report(y_test, output['Survived']))\n"
   ]
  },
  {
   "cell_type": "code",
   "execution_count": 80,
   "id": "7a4b3cfc",
   "metadata": {
    "execution": {
     "iopub.execute_input": "2021-10-30T01:26:05.704303Z",
     "iopub.status.busy": "2021-10-30T01:26:05.703441Z",
     "iopub.status.idle": "2021-10-30T01:26:06.044295Z",
     "shell.execute_reply": "2021-10-30T01:26:06.043773Z",
     "shell.execute_reply.started": "2021-10-30T01:24:31.966285Z"
    },
    "papermill": {
     "duration": 0.454999,
     "end_time": "2021-10-30T01:26:06.044431",
     "exception": false,
     "start_time": "2021-10-30T01:26:05.589432",
     "status": "completed"
    },
    "tags": []
   },
   "outputs": [
    {
     "data": {
      "text/plain": [
       "array([[162,  22],\n",
       "       [ 30,  81]])"
      ]
     },
     "execution_count": 80,
     "metadata": {},
     "output_type": "execute_result"
    },
    {
     "data": {
      "image/png": "[encoded data removed]",
      "text/plain": [
       "<Figure size 1275.59x850.394 with 2 Axes>"
      ]
     },
     "metadata": {
      "needs_background": "light"
     },
     "output_type": "display_data"
    }
   ],
   "source": [
    "plot_confusion_matrix(model,pd.get_dummies(X_test[feature]), y_test)  \n",
    "CM = confusion_matrix(y_test,predictions)\n",
    "CM"
   ]
  },
  {
   "cell_type": "code",
   "execution_count": 81,
   "id": "b5cdf903",
   "metadata": {
    "execution": {
     "iopub.execute_input": "2021-10-30T01:26:06.261760Z",
     "iopub.status.busy": "2021-10-30T01:26:06.260917Z",
     "iopub.status.idle": "2021-10-30T01:26:08.823964Z",
     "shell.execute_reply": "2021-10-30T01:26:08.823139Z",
     "shell.execute_reply.started": "2021-10-30T01:24:32.299467Z"
    },
    "papermill": {
     "duration": 2.674031,
     "end_time": "2021-10-30T01:26:08.824128",
     "exception": false,
     "start_time": "2021-10-30T01:26:06.150097",
     "status": "completed"
    },
    "tags": []
   },
   "outputs": [
    {
     "name": "stdout",
     "output_type": "stream",
     "text": [
      "Your submission was successfully saved!\n"
     ]
    }
   ],
   "source": [
    "feature = features[num_of_best_features]\n",
    "\n",
    "#first test submission\n",
    "# from sklearn.ensemble import RandomForestClassifier\n",
    "\n",
    "Y = df_y\n",
    "X = pd.get_dummies(df_x[feature])\n",
    "Xtest = pd.get_dummies(td[feature])\n",
    "# Y = df_train[\"Survived\"]\n",
    "# \n",
    "\n",
    "# features = [\"Pclass\", \"Sex\", \"SibSp\", \"Parch\"]\n",
    "# X = pd.get_dummies(df_train[feature])\n",
    "# Xtest = pd.get_dummies(df_test[feature])\n",
    "\n",
    "model = RandomForestClassifier(n_estimators=1000, max_depth=6, random_state=1)\n",
    "# model = model = RandomForestClassifier(n_estimators=1000, max_depth=6)\n",
    "model.fit(X, Y)\n",
    "predictions = model.predict(Xtest)\n",
    "\n",
    "output = pd.DataFrame({'PassengerId': df_test.PassengerId, 'Survived': predictions})\n",
    "output.to_csv('submission.csv', index=False)\n",
    "print(\"Your submission was successfully saved!\")\n"
   ]
  },
  {
   "cell_type": "code",
   "execution_count": null,
   "id": "9962e8f1",
   "metadata": {
    "papermill": {
     "duration": 0.108817,
     "end_time": "2021-10-30T01:26:09.048178",
     "exception": false,
     "start_time": "2021-10-30T01:26:08.939361",
     "status": "completed"
    },
    "tags": []
   },
   "outputs": [],
   "source": []
  },
  {
   "cell_type": "code",
   "execution_count": 82,
   "id": "85e0cfa5",
   "metadata": {
    "execution": {
     "iopub.execute_input": "2021-10-30T01:26:09.283395Z",
     "iopub.status.busy": "2021-10-30T01:26:09.282397Z",
     "iopub.status.idle": "2021-10-30T01:26:09.284281Z",
     "shell.execute_reply": "2021-10-30T01:26:09.284701Z",
     "shell.execute_reply.started": "2021-10-30T01:24:34.193113Z"
    },
    "papermill": {
     "duration": 0.119921,
     "end_time": "2021-10-30T01:26:09.284841",
     "exception": false,
     "start_time": "2021-10-30T01:26:09.164920",
     "status": "completed"
    },
    "tags": []
   },
   "outputs": [],
   "source": [
    "# # 0.78229\n",
    "# features = [ \n",
    "# \"Pclass\", \n",
    "# \"Sex\", \n",
    "# \"Age\",\n",
    "# \"SibSp\",  \n",
    "# \"Parch\",  \n",
    "# \"Fare\",\n",
    "# \"Embarked\", \n",
    "# \"N_LETTER_A\",  \n",
    "# \"N_LETTER_B\",  \n",
    "# \"N_LETTER_C\",  \n",
    "# \"N_LETTER_D\",  \n",
    "# \"N_LETTER_E\",  \n",
    "# \"N_LETTER_F\",  \n",
    "# \"N_LETTER_G\",  \n",
    "# \"N_LETTER_H\",  \n",
    "# \"N_LETTER_I\",  \n",
    "# \"N_LETTER_J\",  \n",
    "# \"N_LETTER_K\",  \n",
    "# \"N_LETTER_L\",  \n",
    "# \"N_LETTER_M\",  \n",
    "# \"N_LETTER_N\",  \n",
    "# \"N_LETTER_O\",  \n",
    "# \"N_LETTER_P\",  \n",
    "# \"N_LETTER_Q\",  \n",
    "# \"N_LETTER_R\",  \n",
    "# \"N_LETTER_S\",  \n",
    "# \"N_LETTER_T\",  \n",
    "# \"N_LETTER_U\",  \n",
    "# \"N_LETTER_V\",  \n",
    "# \"N_LETTER_W\",  \n",
    "# \"N_LETTER_Y\",  \n",
    "# \"N_LETTER_Z\",  \n",
    "# \"N_LETTER_d\",  \n",
    "# \"N_LETTER_v\",  \n",
    "# \"Age_Scaled\",\n",
    "# \"Age_Group\",  \n",
    "# \"Age_Group_2\",  \n",
    "# \"SibSp_Group\",  \n",
    "# \"SibSp_Group_2\",  \n",
    "# \"Parch_Group\",  \n",
    "# \"Parch_Group_2\",  \n",
    "# \"Fare_Group\",   \n",
    "# \"Fare_Group_2\",  \n",
    "# \"CABIN_A\",  \n",
    "# \"CABIN_B\",  \n",
    "# \"CABIN_C\",  \n",
    "# \"CABIN_D\",  \n",
    "# \"CABIN_E\",  \n",
    "# \"CABIN_F\",  \n",
    "# \"CABIN_G\",  \n",
    "# \"CABIN_T\",  \n",
    "# \"CABIN_n\",  \n",
    "#  ] \n",
    "\n",
    "# y = train[\"Survived\"]\n",
    "# X = pd.get_dummies(train[features])\n",
    "# X_test = pd.get_dummies(test[features])"
   ]
  },
  {
   "cell_type": "code",
   "execution_count": null,
   "id": "7c474d89",
   "metadata": {
    "papermill": {
     "duration": 0.104637,
     "end_time": "2021-10-30T01:26:09.494940",
     "exception": false,
     "start_time": "2021-10-30T01:26:09.390303",
     "status": "completed"
    },
    "tags": []
   },
   "outputs": [],
   "source": []
  },
  {
   "cell_type": "code",
   "execution_count": null,
   "id": "a0ef17fe",
   "metadata": {
    "papermill": {
     "duration": 0.104528,
     "end_time": "2021-10-30T01:26:09.704794",
     "exception": false,
     "start_time": "2021-10-30T01:26:09.600266",
     "status": "completed"
    },
    "tags": []
   },
   "outputs": [],
   "source": []
  },
  {
   "cell_type": "code",
   "execution_count": null,
   "id": "8bcc628f",
   "metadata": {
    "papermill": {
     "duration": 0.106062,
     "end_time": "2021-10-30T01:26:09.914940",
     "exception": false,
     "start_time": "2021-10-30T01:26:09.808878",
     "status": "completed"
    },
    "tags": []
   },
   "outputs": [],
   "source": []
  },
  {
   "cell_type": "code",
   "execution_count": null,
   "id": "bb7cd3ec",
   "metadata": {
    "papermill": {
     "duration": 0.105457,
     "end_time": "2021-10-30T01:26:10.125170",
     "exception": false,
     "start_time": "2021-10-30T01:26:10.019713",
     "status": "completed"
    },
    "tags": []
   },
   "outputs": [],
   "source": []
  }
 ],
 "metadata": {
  "kernelspec": {
   "display_name": "Python 3",
   "language": "python",
   "name": "python3"
  },
  "language_info": {
   "codemirror_mode": {
    "name": "ipython",
    "version": 3
   },
   "file_extension": ".py",
   "mimetype": "text/x-python",
   "name": "python",
   "nbconvert_exporter": "python",
   "pygments_lexer": "ipython3",
   "version": "3.7.10"
  },
  "papermill": {
   "default_parameters": {},
   "duration": 46.626746,
   "end_time": "2021-10-30T01:26:10.840895",
   "environment_variables": {},
   "exception": null,
   "input_path": "__notebook__.ipynb",
   "output_path": "__notebook__.ipynb",
   "parameters": {},
   "start_time": "2021-10-30T01:25:24.214149",
   "version": "2.3.3"
  }
 },
 "nbformat": 4,
 "nbformat_minor": 5
}
